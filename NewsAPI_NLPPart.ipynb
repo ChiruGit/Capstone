{
 "cells": [
  {
   "cell_type": "code",
   "execution_count": 2,
   "metadata": {
    "collapsed": true
   },
   "outputs": [],
   "source": [
    "import pandas as pd\n",
    "from sklearn.feature_extraction.text import TfidfVectorizer\n",
    "from sklearn.feature_extraction.text import CountVectorizer\n"
   ]
  },
  {
   "cell_type": "code",
   "execution_count": 3,
   "metadata": {},
   "outputs": [
    {
     "data": {
      "text/html": [
       "<div>\n",
       "<style>\n",
       "    .dataframe thead tr:only-child th {\n",
       "        text-align: right;\n",
       "    }\n",
       "\n",
       "    .dataframe thead th {\n",
       "        text-align: left;\n",
       "    }\n",
       "\n",
       "    .dataframe tbody tr th {\n",
       "        vertical-align: top;\n",
       "    }\n",
       "</style>\n",
       "<table border=\"1\" class=\"dataframe\">\n",
       "  <thead>\n",
       "    <tr style=\"text-align: right;\">\n",
       "      <th></th>\n",
       "      <th>Name</th>\n",
       "      <th>Source</th>\n",
       "      <th>Description</th>\n",
       "      <th>Related</th>\n",
       "    </tr>\n",
       "  </thead>\n",
       "  <tbody>\n",
       "    <tr>\n",
       "      <th>0</th>\n",
       "      <td>Loretta Sanchez</td>\n",
       "      <td>https://freebeacon.com/politics/audio-dem-cand...</td>\n",
       "      <td>A Democratic candidate in California who was a...</td>\n",
       "      <td>1</td>\n",
       "    </tr>\n",
       "    <tr>\n",
       "      <th>1</th>\n",
       "      <td>Loretta Sanchez</td>\n",
       "      <td>https://www.dailymail.co.uk/wires/ap/article-6...</td>\n",
       "      <td>California is in the midst of another devastat...</td>\n",
       "      <td>0</td>\n",
       "    </tr>\n",
       "    <tr>\n",
       "      <th>2</th>\n",
       "      <td>Loretta Sanchez</td>\n",
       "      <td>https://www.freerepublic.com/focus/f-news/3686...</td>\n",
       "      <td>Last week California\\xe5\\xd5s Department of Mo...</td>\n",
       "      <td>1</td>\n",
       "    </tr>\n",
       "    <tr>\n",
       "      <th>3</th>\n",
       "      <td>Loretta Sanchez</td>\n",
       "      <td>https://www.washingtonpost.com/politics/2018/0...</td>\n",
       "      <td>For a second time, we checked the accuracy of ...</td>\n",
       "      <td>1</td>\n",
       "    </tr>\n",
       "    <tr>\n",
       "      <th>4</th>\n",
       "      <td>Loretta Sanchez</td>\n",
       "      <td>http://rotoworld.com/articles/mlb/82610/2/fant...</td>\n",
       "      <td>Matthew Pouliot names his fantasy MVPs and LVP...</td>\n",
       "      <td>0</td>\n",
       "    </tr>\n",
       "  </tbody>\n",
       "</table>\n",
       "</div>"
      ],
      "text/plain": [
       "              Name                                             Source  \\\n",
       "0  Loretta Sanchez  https://freebeacon.com/politics/audio-dem-cand...   \n",
       "1  Loretta Sanchez  https://www.dailymail.co.uk/wires/ap/article-6...   \n",
       "2  Loretta Sanchez  https://www.freerepublic.com/focus/f-news/3686...   \n",
       "3  Loretta Sanchez  https://www.washingtonpost.com/politics/2018/0...   \n",
       "4  Loretta Sanchez  http://rotoworld.com/articles/mlb/82610/2/fant...   \n",
       "\n",
       "                                         Description Related  \n",
       "0  A Democratic candidate in California who was a...       1  \n",
       "1  California is in the midst of another devastat...       0  \n",
       "2  Last week California\\xe5\\xd5s Department of Mo...       1  \n",
       "3  For a second time, we checked the accuracy of ...       1  \n",
       "4  Matthew Pouliot names his fantasy MVPs and LVP...       0  "
      ]
     },
     "execution_count": 3,
     "metadata": {},
     "output_type": "execute_result"
    }
   ],
   "source": [
    "news = pd.read_csv(open('NewsAPIFinal4.csv', encoding='utf', errors = 'backslashreplace'))\n",
    "news.head()"
   ]
  },
  {
   "cell_type": "code",
   "execution_count": 4,
   "metadata": {},
   "outputs": [
    {
     "name": "stdout",
     "output_type": "stream",
     "text": [
      "<class 'pandas.core.frame.DataFrame'>\n",
      "RangeIndex: 2542 entries, 0 to 2541\n",
      "Data columns (total 4 columns):\n",
      "Name           2542 non-null object\n",
      "Source         2542 non-null object\n",
      "Description    2526 non-null object\n",
      "Related        2542 non-null object\n",
      "dtypes: object(4)\n",
      "memory usage: 79.5+ KB\n"
     ]
    }
   ],
   "source": [
    "news.info()\n"
   ]
  },
  {
   "cell_type": "code",
   "execution_count": 5,
   "metadata": {
    "collapsed": true
   },
   "outputs": [],
   "source": [
    "news_final = news[news['Related']== '1']"
   ]
  },
  {
   "cell_type": "code",
   "execution_count": 6,
   "metadata": {},
   "outputs": [
    {
     "data": {
      "text/html": [
       "<div>\n",
       "<style>\n",
       "    .dataframe thead tr:only-child th {\n",
       "        text-align: right;\n",
       "    }\n",
       "\n",
       "    .dataframe thead th {\n",
       "        text-align: left;\n",
       "    }\n",
       "\n",
       "    .dataframe tbody tr th {\n",
       "        vertical-align: top;\n",
       "    }\n",
       "</style>\n",
       "<table border=\"1\" class=\"dataframe\">\n",
       "  <thead>\n",
       "    <tr style=\"text-align: right;\">\n",
       "      <th></th>\n",
       "      <th>Name</th>\n",
       "      <th>Source</th>\n",
       "      <th>Description</th>\n",
       "      <th>Related</th>\n",
       "    </tr>\n",
       "  </thead>\n",
       "  <tbody>\n",
       "    <tr>\n",
       "      <th>0</th>\n",
       "      <td>Loretta Sanchez</td>\n",
       "      <td>https://freebeacon.com/politics/audio-dem-cand...</td>\n",
       "      <td>A Democratic candidate in California who was a...</td>\n",
       "      <td>1</td>\n",
       "    </tr>\n",
       "    <tr>\n",
       "      <th>2</th>\n",
       "      <td>Loretta Sanchez</td>\n",
       "      <td>https://www.freerepublic.com/focus/f-news/3686...</td>\n",
       "      <td>Last week California\\xe5\\xd5s Department of Mo...</td>\n",
       "      <td>1</td>\n",
       "    </tr>\n",
       "    <tr>\n",
       "      <th>3</th>\n",
       "      <td>Loretta Sanchez</td>\n",
       "      <td>https://www.washingtonpost.com/politics/2018/0...</td>\n",
       "      <td>For a second time, we checked the accuracy of ...</td>\n",
       "      <td>1</td>\n",
       "    </tr>\n",
       "    <tr>\n",
       "      <th>6</th>\n",
       "      <td>Kamala Harris</td>\n",
       "      <td>http://techcrunch.com/2018/09/18/sen-harris-te...</td>\n",
       "      <td>Facial recognition technology presents myriad ...</td>\n",
       "      <td>1</td>\n",
       "    </tr>\n",
       "    <tr>\n",
       "      <th>7</th>\n",
       "      <td>Kamala Harris</td>\n",
       "      <td>https://www.cnn.com/2018/10/01/politics/amy-kl...</td>\n",
       "      <td>She certainly wasn't the loudest. (That was Li...</td>\n",
       "      <td>1</td>\n",
       "    </tr>\n",
       "  </tbody>\n",
       "</table>\n",
       "</div>"
      ],
      "text/plain": [
       "              Name                                             Source  \\\n",
       "0  Loretta Sanchez  https://freebeacon.com/politics/audio-dem-cand...   \n",
       "2  Loretta Sanchez  https://www.freerepublic.com/focus/f-news/3686...   \n",
       "3  Loretta Sanchez  https://www.washingtonpost.com/politics/2018/0...   \n",
       "6    Kamala Harris  http://techcrunch.com/2018/09/18/sen-harris-te...   \n",
       "7    Kamala Harris  https://www.cnn.com/2018/10/01/politics/amy-kl...   \n",
       "\n",
       "                                         Description Related  \n",
       "0  A Democratic candidate in California who was a...       1  \n",
       "2  Last week California\\xe5\\xd5s Department of Mo...       1  \n",
       "3  For a second time, we checked the accuracy of ...       1  \n",
       "6  Facial recognition technology presents myriad ...       1  \n",
       "7  She certainly wasn't the loudest. (That was Li...       1  "
      ]
     },
     "execution_count": 6,
     "metadata": {},
     "output_type": "execute_result"
    }
   ],
   "source": [
    "news_final.head()"
   ]
  },
  {
   "cell_type": "code",
   "execution_count": 7,
   "metadata": {},
   "outputs": [
    {
     "name": "stdout",
     "output_type": "stream",
     "text": [
      "<class 'pandas.core.frame.DataFrame'>\n",
      "Int64Index: 27 entries, 0 to 32\n",
      "Data columns (total 4 columns):\n",
      "Name           27 non-null object\n",
      "Source         27 non-null object\n",
      "Description    27 non-null object\n",
      "Related        27 non-null object\n",
      "dtypes: object(4)\n",
      "memory usage: 1.1+ KB\n"
     ]
    }
   ],
   "source": [
    "news_final.info()"
   ]
  },
  {
   "cell_type": "code",
   "execution_count": 8,
   "metadata": {
    "scrolled": true
   },
   "outputs": [
    {
     "data": {
      "text/plain": [
       "27"
      ]
     },
     "execution_count": 8,
     "metadata": {},
     "output_type": "execute_result"
    }
   ],
   "source": [
    "descriptions = news_final['Description'].tolist()\n",
    "len(descriptions)"
   ]
  },
  {
   "cell_type": "code",
   "execution_count": 9,
   "metadata": {},
   "outputs": [
    {
     "name": "stdout",
     "output_type": "stream",
     "text": [
      "['A Democratic candidate in California who was accused earlier this year of sexual harassment is declining to comment on the national firestorm over the allegations of sexual misconduct dating back three decades against Supreme Court justice nominee Brett Kavan\\\\x89\\\\xdb_']\n",
      "['A Democratic candidate in California who was accused earlier this year of sexual harassment is declining to comment on the national firestorm over the allegations of sexual misconduct dating back three decades against Supreme Court justice nominee Brett Kavan\\\\x89\\\\xdb_', 'Last week California\\\\xe5\\\\xd5s Department of Motor Vehicles sent 23,000 \\\\xe5\\\\xd2erroneous\\\\xe5\\\\xd3 voter registrations to the office of Secretary of State Alex Padilla, who maintains the list of registered voters. The DMV blamed it technical errors and said none of the erroneous re\\\\x89\\\\xdb_']\n",
      "['A Democratic candidate in California who was accused earlier this year of sexual harassment is declining to comment on the national firestorm over the allegations of sexual misconduct dating back three decades against Supreme Court justice nominee Brett Kavan\\\\x89\\\\xdb_', 'Last week California\\\\xe5\\\\xd5s Department of Motor Vehicles sent 23,000 \\\\xe5\\\\xd2erroneous\\\\xe5\\\\xd3 voter registrations to the office of Secretary of State Alex Padilla, who maintains the list of registered voters. The DMV blamed it technical errors and said none of the erroneous re\\\\x89\\\\xdb_', \"For a second time, we checked the accuracy of every factual claim made by the president at one of his rallies. It's a long list, and not very pretty.\"]\n",
      "['A Democratic candidate in California who was accused earlier this year of sexual harassment is declining to comment on the national firestorm over the allegations of sexual misconduct dating back three decades against Supreme Court justice nominee Brett Kavan\\\\x89\\\\xdb_', 'Last week California\\\\xe5\\\\xd5s Department of Motor Vehicles sent 23,000 \\\\xe5\\\\xd2erroneous\\\\xe5\\\\xd3 voter registrations to the office of Secretary of State Alex Padilla, who maintains the list of registered voters. The DMV blamed it technical errors and said none of the erroneous re\\\\x89\\\\xdb_', \"For a second time, we checked the accuracy of every factual claim made by the president at one of his rallies. It's a long list, and not very pretty.\", 'Facial recognition technology presents myriad opportunities as well as risks, but it seems like the government tends to only consider the former when deploying it for law enforcement and clerical purposes. Senator Kamala Harris (D-CA) has written the FBI, FTC\\\\x89\\\\xdb_']\n",
      "['A Democratic candidate in California who was accused earlier this year of sexual harassment is declining to comment on the national firestorm over the allegations of sexual misconduct dating back three decades against Supreme Court justice nominee Brett Kavan\\\\x89\\\\xdb_', 'Last week California\\\\xe5\\\\xd5s Department of Motor Vehicles sent 23,000 \\\\xe5\\\\xd2erroneous\\\\xe5\\\\xd3 voter registrations to the office of Secretary of State Alex Padilla, who maintains the list of registered voters. The DMV blamed it technical errors and said none of the erroneous re\\\\x89\\\\xdb_', \"For a second time, we checked the accuracy of every factual claim made by the president at one of his rallies. It's a long list, and not very pretty.\", 'Facial recognition technology presents myriad opportunities as well as risks, but it seems like the government tends to only consider the former when deploying it for law enforcement and clerical purposes. Senator Kamala Harris (D-CA) has written the FBI, FTC\\\\x89\\\\xdb_', \"She certainly wasn't the loudest. (That was Lindsey Graham.) Or the most well-known name among Democrats eyeing 2020. (That was Kamala Harris and Cory Booker.)  But Amy Klobuchar, who, like Harris and Booker, is considering a run for the Democratic presidenti\\\\x89\\\\xdb_\"]\n",
      "['A Democratic candidate in California who was accused earlier this year of sexual harassment is declining to comment on the national firestorm over the allegations of sexual misconduct dating back three decades against Supreme Court justice nominee Brett Kavan\\\\x89\\\\xdb_', 'Last week California\\\\xe5\\\\xd5s Department of Motor Vehicles sent 23,000 \\\\xe5\\\\xd2erroneous\\\\xe5\\\\xd3 voter registrations to the office of Secretary of State Alex Padilla, who maintains the list of registered voters. The DMV blamed it technical errors and said none of the erroneous re\\\\x89\\\\xdb_', \"For a second time, we checked the accuracy of every factual claim made by the president at one of his rallies. It's a long list, and not very pretty.\", 'Facial recognition technology presents myriad opportunities as well as risks, but it seems like the government tends to only consider the former when deploying it for law enforcement and clerical purposes. Senator Kamala Harris (D-CA) has written the FBI, FTC\\\\x89\\\\xdb_', \"She certainly wasn't the loudest. (That was Lindsey Graham.) Or the most well-known name among Democrats eyeing 2020. (That was Kamala Harris and Cory Booker.)  But Amy Klobuchar, who, like Harris and Booker, is considering a run for the Democratic presidenti\\\\x89\\\\xdb_\", \"Yes, you read that headline right. Dr. Christine Blasey Ford testified before the Senate on Thursday about Kavanaugh's alleged sexual assault. SEE ALSO: Congrats to Brett Kavanaugh on getting to be angry Later during the hearing, Senator Kamala Harris asked K\\\\x89\\\\xdb_\"]\n",
      "['A Democratic candidate in California who was accused earlier this year of sexual harassment is declining to comment on the national firestorm over the allegations of sexual misconduct dating back three decades against Supreme Court justice nominee Brett Kavan\\\\x89\\\\xdb_', 'Last week California\\\\xe5\\\\xd5s Department of Motor Vehicles sent 23,000 \\\\xe5\\\\xd2erroneous\\\\xe5\\\\xd3 voter registrations to the office of Secretary of State Alex Padilla, who maintains the list of registered voters. The DMV blamed it technical errors and said none of the erroneous re\\\\x89\\\\xdb_', \"For a second time, we checked the accuracy of every factual claim made by the president at one of his rallies. It's a long list, and not very pretty.\", 'Facial recognition technology presents myriad opportunities as well as risks, but it seems like the government tends to only consider the former when deploying it for law enforcement and clerical purposes. Senator Kamala Harris (D-CA) has written the FBI, FTC\\\\x89\\\\xdb_', \"She certainly wasn't the loudest. (That was Lindsey Graham.) Or the most well-known name among Democrats eyeing 2020. (That was Kamala Harris and Cory Booker.)  But Amy Klobuchar, who, like Harris and Booker, is considering a run for the Democratic presidenti\\\\x89\\\\xdb_\", \"Yes, you read that headline right. Dr. Christine Blasey Ford testified before the Senate on Thursday about Kavanaugh's alleged sexual assault. SEE ALSO: Congrats to Brett Kavanaugh on getting to be angry Later during the hearing, Senator Kamala Harris asked K\\\\x89\\\\xdb_\", 'Before Brett Kavanaugh can accept a lifetime appointment to the highest court in the nation, he must publicly face one of the three women who have recently accused him of sexual assault. Dr. Christine Blasey Ford will appear before the Senate Judiciary Commit\\\\x89\\\\xdb_']\n",
      "['A Democratic candidate in California who was accused earlier this year of sexual harassment is declining to comment on the national firestorm over the allegations of sexual misconduct dating back three decades against Supreme Court justice nominee Brett Kavan\\\\x89\\\\xdb_', 'Last week California\\\\xe5\\\\xd5s Department of Motor Vehicles sent 23,000 \\\\xe5\\\\xd2erroneous\\\\xe5\\\\xd3 voter registrations to the office of Secretary of State Alex Padilla, who maintains the list of registered voters. The DMV blamed it technical errors and said none of the erroneous re\\\\x89\\\\xdb_', \"For a second time, we checked the accuracy of every factual claim made by the president at one of his rallies. It's a long list, and not very pretty.\", 'Facial recognition technology presents myriad opportunities as well as risks, but it seems like the government tends to only consider the former when deploying it for law enforcement and clerical purposes. Senator Kamala Harris (D-CA) has written the FBI, FTC\\\\x89\\\\xdb_', \"She certainly wasn't the loudest. (That was Lindsey Graham.) Or the most well-known name among Democrats eyeing 2020. (That was Kamala Harris and Cory Booker.)  But Amy Klobuchar, who, like Harris and Booker, is considering a run for the Democratic presidenti\\\\x89\\\\xdb_\", \"Yes, you read that headline right. Dr. Christine Blasey Ford testified before the Senate on Thursday about Kavanaugh's alleged sexual assault. SEE ALSO: Congrats to Brett Kavanaugh on getting to be angry Later during the hearing, Senator Kamala Harris asked K\\\\x89\\\\xdb_\", 'Before Brett Kavanaugh can accept a lifetime appointment to the highest court in the nation, he must publicly face one of the three women who have recently accused him of sexual assault. Dr. Christine Blasey Ford will appear before the Senate Judiciary Commit\\\\x89\\\\xdb_', 'A mother and child who were reunited after four months apart in Phoenix, Az., in July. Some \\\\x89\\\\xdb\\\\xcftender-age\\\\x89\\u06dd children are still separated from their parents despite a court-imposed to deadline to reunite them.']\n",
      "['A Democratic candidate in California who was accused earlier this year of sexual harassment is declining to comment on the national firestorm over the allegations of sexual misconduct dating back three decades against Supreme Court justice nominee Brett Kavan\\\\x89\\\\xdb_', 'Last week California\\\\xe5\\\\xd5s Department of Motor Vehicles sent 23,000 \\\\xe5\\\\xd2erroneous\\\\xe5\\\\xd3 voter registrations to the office of Secretary of State Alex Padilla, who maintains the list of registered voters. The DMV blamed it technical errors and said none of the erroneous re\\\\x89\\\\xdb_', \"For a second time, we checked the accuracy of every factual claim made by the president at one of his rallies. It's a long list, and not very pretty.\", 'Facial recognition technology presents myriad opportunities as well as risks, but it seems like the government tends to only consider the former when deploying it for law enforcement and clerical purposes. Senator Kamala Harris (D-CA) has written the FBI, FTC\\\\x89\\\\xdb_', \"She certainly wasn't the loudest. (That was Lindsey Graham.) Or the most well-known name among Democrats eyeing 2020. (That was Kamala Harris and Cory Booker.)  But Amy Klobuchar, who, like Harris and Booker, is considering a run for the Democratic presidenti\\\\x89\\\\xdb_\", \"Yes, you read that headline right. Dr. Christine Blasey Ford testified before the Senate on Thursday about Kavanaugh's alleged sexual assault. SEE ALSO: Congrats to Brett Kavanaugh on getting to be angry Later during the hearing, Senator Kamala Harris asked K\\\\x89\\\\xdb_\", 'Before Brett Kavanaugh can accept a lifetime appointment to the highest court in the nation, he must publicly face one of the three women who have recently accused him of sexual assault. Dr. Christine Blasey Ford will appear before the Senate Judiciary Commit\\\\x89\\\\xdb_', 'A mother and child who were reunited after four months apart in Phoenix, Az., in July. Some \\\\x89\\\\xdb\\\\xcftender-age\\\\x89\\u06dd children are still separated from their parents despite a court-imposed to deadline to reunite them.', 'Eleven years after Barack Obama and Hillary Clinton used Senate hearings as an anti-Iraq war launchpad for their presidential ambitions, two Democratic senators are similarly seizing on the Supreme Court battle to play to the gallery of 2020 primary voters.']\n",
      "['A Democratic candidate in California who was accused earlier this year of sexual harassment is declining to comment on the national firestorm over the allegations of sexual misconduct dating back three decades against Supreme Court justice nominee Brett Kavan\\\\x89\\\\xdb_', 'Last week California\\\\xe5\\\\xd5s Department of Motor Vehicles sent 23,000 \\\\xe5\\\\xd2erroneous\\\\xe5\\\\xd3 voter registrations to the office of Secretary of State Alex Padilla, who maintains the list of registered voters. The DMV blamed it technical errors and said none of the erroneous re\\\\x89\\\\xdb_', \"For a second time, we checked the accuracy of every factual claim made by the president at one of his rallies. It's a long list, and not very pretty.\", 'Facial recognition technology presents myriad opportunities as well as risks, but it seems like the government tends to only consider the former when deploying it for law enforcement and clerical purposes. Senator Kamala Harris (D-CA) has written the FBI, FTC\\\\x89\\\\xdb_', \"She certainly wasn't the loudest. (That was Lindsey Graham.) Or the most well-known name among Democrats eyeing 2020. (That was Kamala Harris and Cory Booker.)  But Amy Klobuchar, who, like Harris and Booker, is considering a run for the Democratic presidenti\\\\x89\\\\xdb_\", \"Yes, you read that headline right. Dr. Christine Blasey Ford testified before the Senate on Thursday about Kavanaugh's alleged sexual assault. SEE ALSO: Congrats to Brett Kavanaugh on getting to be angry Later during the hearing, Senator Kamala Harris asked K\\\\x89\\\\xdb_\", 'Before Brett Kavanaugh can accept a lifetime appointment to the highest court in the nation, he must publicly face one of the three women who have recently accused him of sexual assault. Dr. Christine Blasey Ford will appear before the Senate Judiciary Commit\\\\x89\\\\xdb_', 'A mother and child who were reunited after four months apart in Phoenix, Az., in July. Some \\\\x89\\\\xdb\\\\xcftender-age\\\\x89\\u06dd children are still separated from their parents despite a court-imposed to deadline to reunite them.', 'Eleven years after Barack Obama and Hillary Clinton used Senate hearings as an anti-Iraq war launchpad for their presidential ambitions, two Democratic senators are similarly seizing on the Supreme Court battle to play to the gallery of 2020 primary voters.', 'The agency struggled to track children separated from their parents and gave inconsistent information to migrant parents arriving at the border, an inspector general\\\\x89۪s report said.']\n",
      "['A Democratic candidate in California who was accused earlier this year of sexual harassment is declining to comment on the national firestorm over the allegations of sexual misconduct dating back three decades against Supreme Court justice nominee Brett Kavan\\\\x89\\\\xdb_', 'Last week California\\\\xe5\\\\xd5s Department of Motor Vehicles sent 23,000 \\\\xe5\\\\xd2erroneous\\\\xe5\\\\xd3 voter registrations to the office of Secretary of State Alex Padilla, who maintains the list of registered voters. The DMV blamed it technical errors and said none of the erroneous re\\\\x89\\\\xdb_', \"For a second time, we checked the accuracy of every factual claim made by the president at one of his rallies. It's a long list, and not very pretty.\", 'Facial recognition technology presents myriad opportunities as well as risks, but it seems like the government tends to only consider the former when deploying it for law enforcement and clerical purposes. Senator Kamala Harris (D-CA) has written the FBI, FTC\\\\x89\\\\xdb_', \"She certainly wasn't the loudest. (That was Lindsey Graham.) Or the most well-known name among Democrats eyeing 2020. (That was Kamala Harris and Cory Booker.)  But Amy Klobuchar, who, like Harris and Booker, is considering a run for the Democratic presidenti\\\\x89\\\\xdb_\", \"Yes, you read that headline right. Dr. Christine Blasey Ford testified before the Senate on Thursday about Kavanaugh's alleged sexual assault. SEE ALSO: Congrats to Brett Kavanaugh on getting to be angry Later during the hearing, Senator Kamala Harris asked K\\\\x89\\\\xdb_\", 'Before Brett Kavanaugh can accept a lifetime appointment to the highest court in the nation, he must publicly face one of the three women who have recently accused him of sexual assault. Dr. Christine Blasey Ford will appear before the Senate Judiciary Commit\\\\x89\\\\xdb_', 'A mother and child who were reunited after four months apart in Phoenix, Az., in July. Some \\\\x89\\\\xdb\\\\xcftender-age\\\\x89\\u06dd children are still separated from their parents despite a court-imposed to deadline to reunite them.', 'Eleven years after Barack Obama and Hillary Clinton used Senate hearings as an anti-Iraq war launchpad for their presidential ambitions, two Democratic senators are similarly seizing on the Supreme Court battle to play to the gallery of 2020 primary voters.', 'The agency struggled to track children separated from their parents and gave inconsistent information to migrant parents arriving at the border, an inspector general\\\\x89۪s report said.', 'The California senator\\\\x89۪s prospective visit could soon take her across a symbolic but unmistakably significant line as a presidential candidate.']\n",
      "['A Democratic candidate in California who was accused earlier this year of sexual harassment is declining to comment on the national firestorm over the allegations of sexual misconduct dating back three decades against Supreme Court justice nominee Brett Kavan\\\\x89\\\\xdb_', 'Last week California\\\\xe5\\\\xd5s Department of Motor Vehicles sent 23,000 \\\\xe5\\\\xd2erroneous\\\\xe5\\\\xd3 voter registrations to the office of Secretary of State Alex Padilla, who maintains the list of registered voters. The DMV blamed it technical errors and said none of the erroneous re\\\\x89\\\\xdb_', \"For a second time, we checked the accuracy of every factual claim made by the president at one of his rallies. It's a long list, and not very pretty.\", 'Facial recognition technology presents myriad opportunities as well as risks, but it seems like the government tends to only consider the former when deploying it for law enforcement and clerical purposes. Senator Kamala Harris (D-CA) has written the FBI, FTC\\\\x89\\\\xdb_', \"She certainly wasn't the loudest. (That was Lindsey Graham.) Or the most well-known name among Democrats eyeing 2020. (That was Kamala Harris and Cory Booker.)  But Amy Klobuchar, who, like Harris and Booker, is considering a run for the Democratic presidenti\\\\x89\\\\xdb_\", \"Yes, you read that headline right. Dr. Christine Blasey Ford testified before the Senate on Thursday about Kavanaugh's alleged sexual assault. SEE ALSO: Congrats to Brett Kavanaugh on getting to be angry Later during the hearing, Senator Kamala Harris asked K\\\\x89\\\\xdb_\", 'Before Brett Kavanaugh can accept a lifetime appointment to the highest court in the nation, he must publicly face one of the three women who have recently accused him of sexual assault. Dr. Christine Blasey Ford will appear before the Senate Judiciary Commit\\\\x89\\\\xdb_', 'A mother and child who were reunited after four months apart in Phoenix, Az., in July. Some \\\\x89\\\\xdb\\\\xcftender-age\\\\x89\\u06dd children are still separated from their parents despite a court-imposed to deadline to reunite them.', 'Eleven years after Barack Obama and Hillary Clinton used Senate hearings as an anti-Iraq war launchpad for their presidential ambitions, two Democratic senators are similarly seizing on the Supreme Court battle to play to the gallery of 2020 primary voters.', 'The agency struggled to track children separated from their parents and gave inconsistent information to migrant parents arriving at the border, an inspector general\\\\x89۪s report said.', 'The California senator\\\\x89۪s prospective visit could soon take her across a symbolic but unmistakably significant line as a presidential candidate.', 'During Thursday\\\\x89۪s final round of questioning of Judge Brett Kavanaugh at his Supreme Court confirmation hearings, Democratic Sen. Kamala Harris asked the nominee what seemed like a simple question.']\n",
      "['A Democratic candidate in California who was accused earlier this year of sexual harassment is declining to comment on the national firestorm over the allegations of sexual misconduct dating back three decades against Supreme Court justice nominee Brett Kavan\\\\x89\\\\xdb_', 'Last week California\\\\xe5\\\\xd5s Department of Motor Vehicles sent 23,000 \\\\xe5\\\\xd2erroneous\\\\xe5\\\\xd3 voter registrations to the office of Secretary of State Alex Padilla, who maintains the list of registered voters. The DMV blamed it technical errors and said none of the erroneous re\\\\x89\\\\xdb_', \"For a second time, we checked the accuracy of every factual claim made by the president at one of his rallies. It's a long list, and not very pretty.\", 'Facial recognition technology presents myriad opportunities as well as risks, but it seems like the government tends to only consider the former when deploying it for law enforcement and clerical purposes. Senator Kamala Harris (D-CA) has written the FBI, FTC\\\\x89\\\\xdb_', \"She certainly wasn't the loudest. (That was Lindsey Graham.) Or the most well-known name among Democrats eyeing 2020. (That was Kamala Harris and Cory Booker.)  But Amy Klobuchar, who, like Harris and Booker, is considering a run for the Democratic presidenti\\\\x89\\\\xdb_\", \"Yes, you read that headline right. Dr. Christine Blasey Ford testified before the Senate on Thursday about Kavanaugh's alleged sexual assault. SEE ALSO: Congrats to Brett Kavanaugh on getting to be angry Later during the hearing, Senator Kamala Harris asked K\\\\x89\\\\xdb_\", 'Before Brett Kavanaugh can accept a lifetime appointment to the highest court in the nation, he must publicly face one of the three women who have recently accused him of sexual assault. Dr. Christine Blasey Ford will appear before the Senate Judiciary Commit\\\\x89\\\\xdb_', 'A mother and child who were reunited after four months apart in Phoenix, Az., in July. Some \\\\x89\\\\xdb\\\\xcftender-age\\\\x89\\u06dd children are still separated from their parents despite a court-imposed to deadline to reunite them.', 'Eleven years after Barack Obama and Hillary Clinton used Senate hearings as an anti-Iraq war launchpad for their presidential ambitions, two Democratic senators are similarly seizing on the Supreme Court battle to play to the gallery of 2020 primary voters.', 'The agency struggled to track children separated from their parents and gave inconsistent information to migrant parents arriving at the border, an inspector general\\\\x89۪s report said.', 'The California senator\\\\x89۪s prospective visit could soon take her across a symbolic but unmistakably significant line as a presidential candidate.', 'During Thursday\\\\x89۪s final round of questioning of Judge Brett Kavanaugh at his Supreme Court confirmation hearings, Democratic Sen. Kamala Harris asked the nominee what seemed like a simple question.', 'Now it is Judge Brett M. Kavanaugh who faces a hearing to address explosive accusations by Christine Blasey Ford that he sexually assaulted her when they were teenagers.']\n",
      "['A Democratic candidate in California who was accused earlier this year of sexual harassment is declining to comment on the national firestorm over the allegations of sexual misconduct dating back three decades against Supreme Court justice nominee Brett Kavan\\\\x89\\\\xdb_', 'Last week California\\\\xe5\\\\xd5s Department of Motor Vehicles sent 23,000 \\\\xe5\\\\xd2erroneous\\\\xe5\\\\xd3 voter registrations to the office of Secretary of State Alex Padilla, who maintains the list of registered voters. The DMV blamed it technical errors and said none of the erroneous re\\\\x89\\\\xdb_', \"For a second time, we checked the accuracy of every factual claim made by the president at one of his rallies. It's a long list, and not very pretty.\", 'Facial recognition technology presents myriad opportunities as well as risks, but it seems like the government tends to only consider the former when deploying it for law enforcement and clerical purposes. Senator Kamala Harris (D-CA) has written the FBI, FTC\\\\x89\\\\xdb_', \"She certainly wasn't the loudest. (That was Lindsey Graham.) Or the most well-known name among Democrats eyeing 2020. (That was Kamala Harris and Cory Booker.)  But Amy Klobuchar, who, like Harris and Booker, is considering a run for the Democratic presidenti\\\\x89\\\\xdb_\", \"Yes, you read that headline right. Dr. Christine Blasey Ford testified before the Senate on Thursday about Kavanaugh's alleged sexual assault. SEE ALSO: Congrats to Brett Kavanaugh on getting to be angry Later during the hearing, Senator Kamala Harris asked K\\\\x89\\\\xdb_\", 'Before Brett Kavanaugh can accept a lifetime appointment to the highest court in the nation, he must publicly face one of the three women who have recently accused him of sexual assault. Dr. Christine Blasey Ford will appear before the Senate Judiciary Commit\\\\x89\\\\xdb_', 'A mother and child who were reunited after four months apart in Phoenix, Az., in July. Some \\\\x89\\\\xdb\\\\xcftender-age\\\\x89\\u06dd children are still separated from their parents despite a court-imposed to deadline to reunite them.', 'Eleven years after Barack Obama and Hillary Clinton used Senate hearings as an anti-Iraq war launchpad for their presidential ambitions, two Democratic senators are similarly seizing on the Supreme Court battle to play to the gallery of 2020 primary voters.', 'The agency struggled to track children separated from their parents and gave inconsistent information to migrant parents arriving at the border, an inspector general\\\\x89۪s report said.', 'The California senator\\\\x89۪s prospective visit could soon take her across a symbolic but unmistakably significant line as a presidential candidate.', 'During Thursday\\\\x89۪s final round of questioning of Judge Brett Kavanaugh at his Supreme Court confirmation hearings, Democratic Sen. Kamala Harris asked the nominee what seemed like a simple question.', 'Now it is Judge Brett M. Kavanaugh who faces a hearing to address explosive accusations by Christine Blasey Ford that he sexually assaulted her when they were teenagers.', 'Republicans are being unfair. I hope she testifies anyway.']\n",
      "['A Democratic candidate in California who was accused earlier this year of sexual harassment is declining to comment on the national firestorm over the allegations of sexual misconduct dating back three decades against Supreme Court justice nominee Brett Kavan\\\\x89\\\\xdb_', 'Last week California\\\\xe5\\\\xd5s Department of Motor Vehicles sent 23,000 \\\\xe5\\\\xd2erroneous\\\\xe5\\\\xd3 voter registrations to the office of Secretary of State Alex Padilla, who maintains the list of registered voters. The DMV blamed it technical errors and said none of the erroneous re\\\\x89\\\\xdb_', \"For a second time, we checked the accuracy of every factual claim made by the president at one of his rallies. It's a long list, and not very pretty.\", 'Facial recognition technology presents myriad opportunities as well as risks, but it seems like the government tends to only consider the former when deploying it for law enforcement and clerical purposes. Senator Kamala Harris (D-CA) has written the FBI, FTC\\\\x89\\\\xdb_', \"She certainly wasn't the loudest. (That was Lindsey Graham.) Or the most well-known name among Democrats eyeing 2020. (That was Kamala Harris and Cory Booker.)  But Amy Klobuchar, who, like Harris and Booker, is considering a run for the Democratic presidenti\\\\x89\\\\xdb_\", \"Yes, you read that headline right. Dr. Christine Blasey Ford testified before the Senate on Thursday about Kavanaugh's alleged sexual assault. SEE ALSO: Congrats to Brett Kavanaugh on getting to be angry Later during the hearing, Senator Kamala Harris asked K\\\\x89\\\\xdb_\", 'Before Brett Kavanaugh can accept a lifetime appointment to the highest court in the nation, he must publicly face one of the three women who have recently accused him of sexual assault. Dr. Christine Blasey Ford will appear before the Senate Judiciary Commit\\\\x89\\\\xdb_', 'A mother and child who were reunited after four months apart in Phoenix, Az., in July. Some \\\\x89\\\\xdb\\\\xcftender-age\\\\x89\\u06dd children are still separated from their parents despite a court-imposed to deadline to reunite them.', 'Eleven years after Barack Obama and Hillary Clinton used Senate hearings as an anti-Iraq war launchpad for their presidential ambitions, two Democratic senators are similarly seizing on the Supreme Court battle to play to the gallery of 2020 primary voters.', 'The agency struggled to track children separated from their parents and gave inconsistent information to migrant parents arriving at the border, an inspector general\\\\x89۪s report said.', 'The California senator\\\\x89۪s prospective visit could soon take her across a symbolic but unmistakably significant line as a presidential candidate.', 'During Thursday\\\\x89۪s final round of questioning of Judge Brett Kavanaugh at his Supreme Court confirmation hearings, Democratic Sen. Kamala Harris asked the nominee what seemed like a simple question.', 'Now it is Judge Brett M. Kavanaugh who faces a hearing to address explosive accusations by Christine Blasey Ford that he sexually assaulted her when they were teenagers.', 'Republicans are being unfair. I hope she testifies anyway.', 'Thursday began with a squabble over documents and an assertion by Sen. Cory Booker, D-N.J., that he was willing to risk being ousted from the Senate in order to provide information on the nominee.']\n",
      "['A Democratic candidate in California who was accused earlier this year of sexual harassment is declining to comment on the national firestorm over the allegations of sexual misconduct dating back three decades against Supreme Court justice nominee Brett Kavan\\\\x89\\\\xdb_', 'Last week California\\\\xe5\\\\xd5s Department of Motor Vehicles sent 23,000 \\\\xe5\\\\xd2erroneous\\\\xe5\\\\xd3 voter registrations to the office of Secretary of State Alex Padilla, who maintains the list of registered voters. The DMV blamed it technical errors and said none of the erroneous re\\\\x89\\\\xdb_', \"For a second time, we checked the accuracy of every factual claim made by the president at one of his rallies. It's a long list, and not very pretty.\", 'Facial recognition technology presents myriad opportunities as well as risks, but it seems like the government tends to only consider the former when deploying it for law enforcement and clerical purposes. Senator Kamala Harris (D-CA) has written the FBI, FTC\\\\x89\\\\xdb_', \"She certainly wasn't the loudest. (That was Lindsey Graham.) Or the most well-known name among Democrats eyeing 2020. (That was Kamala Harris and Cory Booker.)  But Amy Klobuchar, who, like Harris and Booker, is considering a run for the Democratic presidenti\\\\x89\\\\xdb_\", \"Yes, you read that headline right. Dr. Christine Blasey Ford testified before the Senate on Thursday about Kavanaugh's alleged sexual assault. SEE ALSO: Congrats to Brett Kavanaugh on getting to be angry Later during the hearing, Senator Kamala Harris asked K\\\\x89\\\\xdb_\", 'Before Brett Kavanaugh can accept a lifetime appointment to the highest court in the nation, he must publicly face one of the three women who have recently accused him of sexual assault. Dr. Christine Blasey Ford will appear before the Senate Judiciary Commit\\\\x89\\\\xdb_', 'A mother and child who were reunited after four months apart in Phoenix, Az., in July. Some \\\\x89\\\\xdb\\\\xcftender-age\\\\x89\\u06dd children are still separated from their parents despite a court-imposed to deadline to reunite them.', 'Eleven years after Barack Obama and Hillary Clinton used Senate hearings as an anti-Iraq war launchpad for their presidential ambitions, two Democratic senators are similarly seizing on the Supreme Court battle to play to the gallery of 2020 primary voters.', 'The agency struggled to track children separated from their parents and gave inconsistent information to migrant parents arriving at the border, an inspector general\\\\x89۪s report said.', 'The California senator\\\\x89۪s prospective visit could soon take her across a symbolic but unmistakably significant line as a presidential candidate.', 'During Thursday\\\\x89۪s final round of questioning of Judge Brett Kavanaugh at his Supreme Court confirmation hearings, Democratic Sen. Kamala Harris asked the nominee what seemed like a simple question.', 'Now it is Judge Brett M. Kavanaugh who faces a hearing to address explosive accusations by Christine Blasey Ford that he sexually assaulted her when they were teenagers.', 'Republicans are being unfair. I hope she testifies anyway.', 'Thursday began with a squabble over documents and an assertion by Sen. Cory Booker, D-N.J., that he was willing to risk being ousted from the Senate in order to provide information on the nominee.', 'Judge Brett Kavanaugh on the third day of his Senate confirmation hearings dodged questions about whether he would recuse himself from cases related to the special counsel Robert Mueller or the Russia investigation if they reach the Supreme Court. Sen. Cory B\\\\x89\\\\xdb_']\n",
      "['A Democratic candidate in California who was accused earlier this year of sexual harassment is declining to comment on the national firestorm over the allegations of sexual misconduct dating back three decades against Supreme Court justice nominee Brett Kavan\\\\x89\\\\xdb_', 'Last week California\\\\xe5\\\\xd5s Department of Motor Vehicles sent 23,000 \\\\xe5\\\\xd2erroneous\\\\xe5\\\\xd3 voter registrations to the office of Secretary of State Alex Padilla, who maintains the list of registered voters. The DMV blamed it technical errors and said none of the erroneous re\\\\x89\\\\xdb_', \"For a second time, we checked the accuracy of every factual claim made by the president at one of his rallies. It's a long list, and not very pretty.\", 'Facial recognition technology presents myriad opportunities as well as risks, but it seems like the government tends to only consider the former when deploying it for law enforcement and clerical purposes. Senator Kamala Harris (D-CA) has written the FBI, FTC\\\\x89\\\\xdb_', \"She certainly wasn't the loudest. (That was Lindsey Graham.) Or the most well-known name among Democrats eyeing 2020. (That was Kamala Harris and Cory Booker.)  But Amy Klobuchar, who, like Harris and Booker, is considering a run for the Democratic presidenti\\\\x89\\\\xdb_\", \"Yes, you read that headline right. Dr. Christine Blasey Ford testified before the Senate on Thursday about Kavanaugh's alleged sexual assault. SEE ALSO: Congrats to Brett Kavanaugh on getting to be angry Later during the hearing, Senator Kamala Harris asked K\\\\x89\\\\xdb_\", 'Before Brett Kavanaugh can accept a lifetime appointment to the highest court in the nation, he must publicly face one of the three women who have recently accused him of sexual assault. Dr. Christine Blasey Ford will appear before the Senate Judiciary Commit\\\\x89\\\\xdb_', 'A mother and child who were reunited after four months apart in Phoenix, Az., in July. Some \\\\x89\\\\xdb\\\\xcftender-age\\\\x89\\u06dd children are still separated from their parents despite a court-imposed to deadline to reunite them.', 'Eleven years after Barack Obama and Hillary Clinton used Senate hearings as an anti-Iraq war launchpad for their presidential ambitions, two Democratic senators are similarly seizing on the Supreme Court battle to play to the gallery of 2020 primary voters.', 'The agency struggled to track children separated from their parents and gave inconsistent information to migrant parents arriving at the border, an inspector general\\\\x89۪s report said.', 'The California senator\\\\x89۪s prospective visit could soon take her across a symbolic but unmistakably significant line as a presidential candidate.', 'During Thursday\\\\x89۪s final round of questioning of Judge Brett Kavanaugh at his Supreme Court confirmation hearings, Democratic Sen. Kamala Harris asked the nominee what seemed like a simple question.', 'Now it is Judge Brett M. Kavanaugh who faces a hearing to address explosive accusations by Christine Blasey Ford that he sexually assaulted her when they were teenagers.', 'Republicans are being unfair. I hope she testifies anyway.', 'Thursday began with a squabble over documents and an assertion by Sen. Cory Booker, D-N.J., that he was willing to risk being ousted from the Senate in order to provide information on the nominee.', 'Judge Brett Kavanaugh on the third day of his Senate confirmation hearings dodged questions about whether he would recuse himself from cases related to the special counsel Robert Mueller or the Russia investigation if they reach the Supreme Court. Sen. Cory B\\\\x89\\\\xdb_', 'A handful of Democratic senators walked out of the Judiciary Committee\\'s hearing on Friday morning in protest of the vote on Supreme Court nominee Brett Kavanaugh. \"My answer is no, no, no,\" Sen. Mazie Hirono of Hawaii said as she left the room. The 21-person\\\\x89\\\\xdb_']\n",
      "['A Democratic candidate in California who was accused earlier this year of sexual harassment is declining to comment on the national firestorm over the allegations of sexual misconduct dating back three decades against Supreme Court justice nominee Brett Kavan\\\\x89\\\\xdb_', 'Last week California\\\\xe5\\\\xd5s Department of Motor Vehicles sent 23,000 \\\\xe5\\\\xd2erroneous\\\\xe5\\\\xd3 voter registrations to the office of Secretary of State Alex Padilla, who maintains the list of registered voters. The DMV blamed it technical errors and said none of the erroneous re\\\\x89\\\\xdb_', \"For a second time, we checked the accuracy of every factual claim made by the president at one of his rallies. It's a long list, and not very pretty.\", 'Facial recognition technology presents myriad opportunities as well as risks, but it seems like the government tends to only consider the former when deploying it for law enforcement and clerical purposes. Senator Kamala Harris (D-CA) has written the FBI, FTC\\\\x89\\\\xdb_', \"She certainly wasn't the loudest. (That was Lindsey Graham.) Or the most well-known name among Democrats eyeing 2020. (That was Kamala Harris and Cory Booker.)  But Amy Klobuchar, who, like Harris and Booker, is considering a run for the Democratic presidenti\\\\x89\\\\xdb_\", \"Yes, you read that headline right. Dr. Christine Blasey Ford testified before the Senate on Thursday about Kavanaugh's alleged sexual assault. SEE ALSO: Congrats to Brett Kavanaugh on getting to be angry Later during the hearing, Senator Kamala Harris asked K\\\\x89\\\\xdb_\", 'Before Brett Kavanaugh can accept a lifetime appointment to the highest court in the nation, he must publicly face one of the three women who have recently accused him of sexual assault. Dr. Christine Blasey Ford will appear before the Senate Judiciary Commit\\\\x89\\\\xdb_', 'A mother and child who were reunited after four months apart in Phoenix, Az., in July. Some \\\\x89\\\\xdb\\\\xcftender-age\\\\x89\\u06dd children are still separated from their parents despite a court-imposed to deadline to reunite them.', 'Eleven years after Barack Obama and Hillary Clinton used Senate hearings as an anti-Iraq war launchpad for their presidential ambitions, two Democratic senators are similarly seizing on the Supreme Court battle to play to the gallery of 2020 primary voters.', 'The agency struggled to track children separated from their parents and gave inconsistent information to migrant parents arriving at the border, an inspector general\\\\x89۪s report said.', 'The California senator\\\\x89۪s prospective visit could soon take her across a symbolic but unmistakably significant line as a presidential candidate.', 'During Thursday\\\\x89۪s final round of questioning of Judge Brett Kavanaugh at his Supreme Court confirmation hearings, Democratic Sen. Kamala Harris asked the nominee what seemed like a simple question.', 'Now it is Judge Brett M. Kavanaugh who faces a hearing to address explosive accusations by Christine Blasey Ford that he sexually assaulted her when they were teenagers.', 'Republicans are being unfair. I hope she testifies anyway.', 'Thursday began with a squabble over documents and an assertion by Sen. Cory Booker, D-N.J., that he was willing to risk being ousted from the Senate in order to provide information on the nominee.', 'Judge Brett Kavanaugh on the third day of his Senate confirmation hearings dodged questions about whether he would recuse himself from cases related to the special counsel Robert Mueller or the Russia investigation if they reach the Supreme Court. Sen. Cory B\\\\x89\\\\xdb_', 'A handful of Democratic senators walked out of the Judiciary Committee\\'s hearing on Friday morning in protest of the vote on Supreme Court nominee Brett Kavanaugh. \"My answer is no, no, no,\" Sen. Mazie Hirono of Hawaii said as she left the room. The 21-person\\\\x89\\\\xdb_', 'Verizon misled firefighters about limits of \"unlimited data,\" senators say.']\n",
      "['A Democratic candidate in California who was accused earlier this year of sexual harassment is declining to comment on the national firestorm over the allegations of sexual misconduct dating back three decades against Supreme Court justice nominee Brett Kavan\\\\x89\\\\xdb_', 'Last week California\\\\xe5\\\\xd5s Department of Motor Vehicles sent 23,000 \\\\xe5\\\\xd2erroneous\\\\xe5\\\\xd3 voter registrations to the office of Secretary of State Alex Padilla, who maintains the list of registered voters. The DMV blamed it technical errors and said none of the erroneous re\\\\x89\\\\xdb_', \"For a second time, we checked the accuracy of every factual claim made by the president at one of his rallies. It's a long list, and not very pretty.\", 'Facial recognition technology presents myriad opportunities as well as risks, but it seems like the government tends to only consider the former when deploying it for law enforcement and clerical purposes. Senator Kamala Harris (D-CA) has written the FBI, FTC\\\\x89\\\\xdb_', \"She certainly wasn't the loudest. (That was Lindsey Graham.) Or the most well-known name among Democrats eyeing 2020. (That was Kamala Harris and Cory Booker.)  But Amy Klobuchar, who, like Harris and Booker, is considering a run for the Democratic presidenti\\\\x89\\\\xdb_\", \"Yes, you read that headline right. Dr. Christine Blasey Ford testified before the Senate on Thursday about Kavanaugh's alleged sexual assault. SEE ALSO: Congrats to Brett Kavanaugh on getting to be angry Later during the hearing, Senator Kamala Harris asked K\\\\x89\\\\xdb_\", 'Before Brett Kavanaugh can accept a lifetime appointment to the highest court in the nation, he must publicly face one of the three women who have recently accused him of sexual assault. Dr. Christine Blasey Ford will appear before the Senate Judiciary Commit\\\\x89\\\\xdb_', 'A mother and child who were reunited after four months apart in Phoenix, Az., in July. Some \\\\x89\\\\xdb\\\\xcftender-age\\\\x89\\u06dd children are still separated from their parents despite a court-imposed to deadline to reunite them.', 'Eleven years after Barack Obama and Hillary Clinton used Senate hearings as an anti-Iraq war launchpad for their presidential ambitions, two Democratic senators are similarly seizing on the Supreme Court battle to play to the gallery of 2020 primary voters.', 'The agency struggled to track children separated from their parents and gave inconsistent information to migrant parents arriving at the border, an inspector general\\\\x89۪s report said.', 'The California senator\\\\x89۪s prospective visit could soon take her across a symbolic but unmistakably significant line as a presidential candidate.', 'During Thursday\\\\x89۪s final round of questioning of Judge Brett Kavanaugh at his Supreme Court confirmation hearings, Democratic Sen. Kamala Harris asked the nominee what seemed like a simple question.', 'Now it is Judge Brett M. Kavanaugh who faces a hearing to address explosive accusations by Christine Blasey Ford that he sexually assaulted her when they were teenagers.', 'Republicans are being unfair. I hope she testifies anyway.', 'Thursday began with a squabble over documents and an assertion by Sen. Cory Booker, D-N.J., that he was willing to risk being ousted from the Senate in order to provide information on the nominee.', 'Judge Brett Kavanaugh on the third day of his Senate confirmation hearings dodged questions about whether he would recuse himself from cases related to the special counsel Robert Mueller or the Russia investigation if they reach the Supreme Court. Sen. Cory B\\\\x89\\\\xdb_', 'A handful of Democratic senators walked out of the Judiciary Committee\\'s hearing on Friday morning in protest of the vote on Supreme Court nominee Brett Kavanaugh. \"My answer is no, no, no,\" Sen. Mazie Hirono of Hawaii said as she left the room. The 21-person\\\\x89\\\\xdb_', 'Verizon misled firefighters about limits of \"unlimited data,\" senators say.', 'To listen to this episode of Trumpcast, use the player below: Listen to Trumpcast via Apple Podcasts, Overcast, Spotify, Stitcher, or Google Play. Virg ...']\n",
      "['A Democratic candidate in California who was accused earlier this year of sexual harassment is declining to comment on the national firestorm over the allegations of sexual misconduct dating back three decades against Supreme Court justice nominee Brett Kavan\\\\x89\\\\xdb_', 'Last week California\\\\xe5\\\\xd5s Department of Motor Vehicles sent 23,000 \\\\xe5\\\\xd2erroneous\\\\xe5\\\\xd3 voter registrations to the office of Secretary of State Alex Padilla, who maintains the list of registered voters. The DMV blamed it technical errors and said none of the erroneous re\\\\x89\\\\xdb_', \"For a second time, we checked the accuracy of every factual claim made by the president at one of his rallies. It's a long list, and not very pretty.\", 'Facial recognition technology presents myriad opportunities as well as risks, but it seems like the government tends to only consider the former when deploying it for law enforcement and clerical purposes. Senator Kamala Harris (D-CA) has written the FBI, FTC\\\\x89\\\\xdb_', \"She certainly wasn't the loudest. (That was Lindsey Graham.) Or the most well-known name among Democrats eyeing 2020. (That was Kamala Harris and Cory Booker.)  But Amy Klobuchar, who, like Harris and Booker, is considering a run for the Democratic presidenti\\\\x89\\\\xdb_\", \"Yes, you read that headline right. Dr. Christine Blasey Ford testified before the Senate on Thursday about Kavanaugh's alleged sexual assault. SEE ALSO: Congrats to Brett Kavanaugh on getting to be angry Later during the hearing, Senator Kamala Harris asked K\\\\x89\\\\xdb_\", 'Before Brett Kavanaugh can accept a lifetime appointment to the highest court in the nation, he must publicly face one of the three women who have recently accused him of sexual assault. Dr. Christine Blasey Ford will appear before the Senate Judiciary Commit\\\\x89\\\\xdb_', 'A mother and child who were reunited after four months apart in Phoenix, Az., in July. Some \\\\x89\\\\xdb\\\\xcftender-age\\\\x89\\u06dd children are still separated from their parents despite a court-imposed to deadline to reunite them.', 'Eleven years after Barack Obama and Hillary Clinton used Senate hearings as an anti-Iraq war launchpad for their presidential ambitions, two Democratic senators are similarly seizing on the Supreme Court battle to play to the gallery of 2020 primary voters.', 'The agency struggled to track children separated from their parents and gave inconsistent information to migrant parents arriving at the border, an inspector general\\\\x89۪s report said.', 'The California senator\\\\x89۪s prospective visit could soon take her across a symbolic but unmistakably significant line as a presidential candidate.', 'During Thursday\\\\x89۪s final round of questioning of Judge Brett Kavanaugh at his Supreme Court confirmation hearings, Democratic Sen. Kamala Harris asked the nominee what seemed like a simple question.', 'Now it is Judge Brett M. Kavanaugh who faces a hearing to address explosive accusations by Christine Blasey Ford that he sexually assaulted her when they were teenagers.', 'Republicans are being unfair. I hope she testifies anyway.', 'Thursday began with a squabble over documents and an assertion by Sen. Cory Booker, D-N.J., that he was willing to risk being ousted from the Senate in order to provide information on the nominee.', 'Judge Brett Kavanaugh on the third day of his Senate confirmation hearings dodged questions about whether he would recuse himself from cases related to the special counsel Robert Mueller or the Russia investigation if they reach the Supreme Court. Sen. Cory B\\\\x89\\\\xdb_', 'A handful of Democratic senators walked out of the Judiciary Committee\\'s hearing on Friday morning in protest of the vote on Supreme Court nominee Brett Kavanaugh. \"My answer is no, no, no,\" Sen. Mazie Hirono of Hawaii said as she left the room. The 21-person\\\\x89\\\\xdb_', 'Verizon misled firefighters about limits of \"unlimited data,\" senators say.', 'To listen to this episode of Trumpcast, use the player below: Listen to Trumpcast via Apple Podcasts, Overcast, Spotify, Stitcher, or Google Play. Virg ...', 'California Governor Jerry Brown on Sunday signed into law Senate Bill 822, legislation that seeks to reestablish net neutrality as the core principle by which internet service providers treat all data carried over their networks within the state. Read more...']\n",
      "['A Democratic candidate in California who was accused earlier this year of sexual harassment is declining to comment on the national firestorm over the allegations of sexual misconduct dating back three decades against Supreme Court justice nominee Brett Kavan\\\\x89\\\\xdb_', 'Last week California\\\\xe5\\\\xd5s Department of Motor Vehicles sent 23,000 \\\\xe5\\\\xd2erroneous\\\\xe5\\\\xd3 voter registrations to the office of Secretary of State Alex Padilla, who maintains the list of registered voters. The DMV blamed it technical errors and said none of the erroneous re\\\\x89\\\\xdb_', \"For a second time, we checked the accuracy of every factual claim made by the president at one of his rallies. It's a long list, and not very pretty.\", 'Facial recognition technology presents myriad opportunities as well as risks, but it seems like the government tends to only consider the former when deploying it for law enforcement and clerical purposes. Senator Kamala Harris (D-CA) has written the FBI, FTC\\\\x89\\\\xdb_', \"She certainly wasn't the loudest. (That was Lindsey Graham.) Or the most well-known name among Democrats eyeing 2020. (That was Kamala Harris and Cory Booker.)  But Amy Klobuchar, who, like Harris and Booker, is considering a run for the Democratic presidenti\\\\x89\\\\xdb_\", \"Yes, you read that headline right. Dr. Christine Blasey Ford testified before the Senate on Thursday about Kavanaugh's alleged sexual assault. SEE ALSO: Congrats to Brett Kavanaugh on getting to be angry Later during the hearing, Senator Kamala Harris asked K\\\\x89\\\\xdb_\", 'Before Brett Kavanaugh can accept a lifetime appointment to the highest court in the nation, he must publicly face one of the three women who have recently accused him of sexual assault. Dr. Christine Blasey Ford will appear before the Senate Judiciary Commit\\\\x89\\\\xdb_', 'A mother and child who were reunited after four months apart in Phoenix, Az., in July. Some \\\\x89\\\\xdb\\\\xcftender-age\\\\x89\\u06dd children are still separated from their parents despite a court-imposed to deadline to reunite them.', 'Eleven years after Barack Obama and Hillary Clinton used Senate hearings as an anti-Iraq war launchpad for their presidential ambitions, two Democratic senators are similarly seizing on the Supreme Court battle to play to the gallery of 2020 primary voters.', 'The agency struggled to track children separated from their parents and gave inconsistent information to migrant parents arriving at the border, an inspector general\\\\x89۪s report said.', 'The California senator\\\\x89۪s prospective visit could soon take her across a symbolic but unmistakably significant line as a presidential candidate.', 'During Thursday\\\\x89۪s final round of questioning of Judge Brett Kavanaugh at his Supreme Court confirmation hearings, Democratic Sen. Kamala Harris asked the nominee what seemed like a simple question.', 'Now it is Judge Brett M. Kavanaugh who faces a hearing to address explosive accusations by Christine Blasey Ford that he sexually assaulted her when they were teenagers.', 'Republicans are being unfair. I hope she testifies anyway.', 'Thursday began with a squabble over documents and an assertion by Sen. Cory Booker, D-N.J., that he was willing to risk being ousted from the Senate in order to provide information on the nominee.', 'Judge Brett Kavanaugh on the third day of his Senate confirmation hearings dodged questions about whether he would recuse himself from cases related to the special counsel Robert Mueller or the Russia investigation if they reach the Supreme Court. Sen. Cory B\\\\x89\\\\xdb_', 'A handful of Democratic senators walked out of the Judiciary Committee\\'s hearing on Friday morning in protest of the vote on Supreme Court nominee Brett Kavanaugh. \"My answer is no, no, no,\" Sen. Mazie Hirono of Hawaii said as she left the room. The 21-person\\\\x89\\\\xdb_', 'Verizon misled firefighters about limits of \"unlimited data,\" senators say.', 'To listen to this episode of Trumpcast, use the player below: Listen to Trumpcast via Apple Podcasts, Overcast, Spotify, Stitcher, or Google Play. Virg ...', 'California Governor Jerry Brown on Sunday signed into law Senate Bill 822, legislation that seeks to reestablish net neutrality as the core principle by which internet service providers treat all data carried over their networks within the state. Read more...', 'Osita Nwanevu on Brett Kavanaugh\\\\x89۪s tearful testimony before the Senate Judiciary Committee regarding sexual-assault allegations brought against him by Christine Blasey Ford.']\n",
      "['A Democratic candidate in California who was accused earlier this year of sexual harassment is declining to comment on the national firestorm over the allegations of sexual misconduct dating back three decades against Supreme Court justice nominee Brett Kavan\\\\x89\\\\xdb_', 'Last week California\\\\xe5\\\\xd5s Department of Motor Vehicles sent 23,000 \\\\xe5\\\\xd2erroneous\\\\xe5\\\\xd3 voter registrations to the office of Secretary of State Alex Padilla, who maintains the list of registered voters. The DMV blamed it technical errors and said none of the erroneous re\\\\x89\\\\xdb_', \"For a second time, we checked the accuracy of every factual claim made by the president at one of his rallies. It's a long list, and not very pretty.\", 'Facial recognition technology presents myriad opportunities as well as risks, but it seems like the government tends to only consider the former when deploying it for law enforcement and clerical purposes. Senator Kamala Harris (D-CA) has written the FBI, FTC\\\\x89\\\\xdb_', \"She certainly wasn't the loudest. (That was Lindsey Graham.) Or the most well-known name among Democrats eyeing 2020. (That was Kamala Harris and Cory Booker.)  But Amy Klobuchar, who, like Harris and Booker, is considering a run for the Democratic presidenti\\\\x89\\\\xdb_\", \"Yes, you read that headline right. Dr. Christine Blasey Ford testified before the Senate on Thursday about Kavanaugh's alleged sexual assault. SEE ALSO: Congrats to Brett Kavanaugh on getting to be angry Later during the hearing, Senator Kamala Harris asked K\\\\x89\\\\xdb_\", 'Before Brett Kavanaugh can accept a lifetime appointment to the highest court in the nation, he must publicly face one of the three women who have recently accused him of sexual assault. Dr. Christine Blasey Ford will appear before the Senate Judiciary Commit\\\\x89\\\\xdb_', 'A mother and child who were reunited after four months apart in Phoenix, Az., in July. Some \\\\x89\\\\xdb\\\\xcftender-age\\\\x89\\u06dd children are still separated from their parents despite a court-imposed to deadline to reunite them.', 'Eleven years after Barack Obama and Hillary Clinton used Senate hearings as an anti-Iraq war launchpad for their presidential ambitions, two Democratic senators are similarly seizing on the Supreme Court battle to play to the gallery of 2020 primary voters.', 'The agency struggled to track children separated from their parents and gave inconsistent information to migrant parents arriving at the border, an inspector general\\\\x89۪s report said.', 'The California senator\\\\x89۪s prospective visit could soon take her across a symbolic but unmistakably significant line as a presidential candidate.', 'During Thursday\\\\x89۪s final round of questioning of Judge Brett Kavanaugh at his Supreme Court confirmation hearings, Democratic Sen. Kamala Harris asked the nominee what seemed like a simple question.', 'Now it is Judge Brett M. Kavanaugh who faces a hearing to address explosive accusations by Christine Blasey Ford that he sexually assaulted her when they were teenagers.', 'Republicans are being unfair. I hope she testifies anyway.', 'Thursday began with a squabble over documents and an assertion by Sen. Cory Booker, D-N.J., that he was willing to risk being ousted from the Senate in order to provide information on the nominee.', 'Judge Brett Kavanaugh on the third day of his Senate confirmation hearings dodged questions about whether he would recuse himself from cases related to the special counsel Robert Mueller or the Russia investigation if they reach the Supreme Court. Sen. Cory B\\\\x89\\\\xdb_', 'A handful of Democratic senators walked out of the Judiciary Committee\\'s hearing on Friday morning in protest of the vote on Supreme Court nominee Brett Kavanaugh. \"My answer is no, no, no,\" Sen. Mazie Hirono of Hawaii said as she left the room. The 21-person\\\\x89\\\\xdb_', 'Verizon misled firefighters about limits of \"unlimited data,\" senators say.', 'To listen to this episode of Trumpcast, use the player below: Listen to Trumpcast via Apple Podcasts, Overcast, Spotify, Stitcher, or Google Play. Virg ...', 'California Governor Jerry Brown on Sunday signed into law Senate Bill 822, legislation that seeks to reestablish net neutrality as the core principle by which internet service providers treat all data carried over their networks within the state. Read more...', 'Osita Nwanevu on Brett Kavanaugh\\\\x89۪s tearful testimony before the Senate Judiciary Committee regarding sexual-assault allegations brought against him by Christine Blasey Ford.', \"Washington Post Potential 2020 candidates use Kavanaugh hearings to show resistance to Trump Washington Post The 2020 presidential campaign came roaring into Judge Brett M. Kavanaugh's confirmation hearings this week, with a pair of prospective Democratic can\\\\x89\\\\xdb_\"]\n",
      "['A Democratic candidate in California who was accused earlier this year of sexual harassment is declining to comment on the national firestorm over the allegations of sexual misconduct dating back three decades against Supreme Court justice nominee Brett Kavan\\\\x89\\\\xdb_', 'Last week California\\\\xe5\\\\xd5s Department of Motor Vehicles sent 23,000 \\\\xe5\\\\xd2erroneous\\\\xe5\\\\xd3 voter registrations to the office of Secretary of State Alex Padilla, who maintains the list of registered voters. The DMV blamed it technical errors and said none of the erroneous re\\\\x89\\\\xdb_', \"For a second time, we checked the accuracy of every factual claim made by the president at one of his rallies. It's a long list, and not very pretty.\", 'Facial recognition technology presents myriad opportunities as well as risks, but it seems like the government tends to only consider the former when deploying it for law enforcement and clerical purposes. Senator Kamala Harris (D-CA) has written the FBI, FTC\\\\x89\\\\xdb_', \"She certainly wasn't the loudest. (That was Lindsey Graham.) Or the most well-known name among Democrats eyeing 2020. (That was Kamala Harris and Cory Booker.)  But Amy Klobuchar, who, like Harris and Booker, is considering a run for the Democratic presidenti\\\\x89\\\\xdb_\", \"Yes, you read that headline right. Dr. Christine Blasey Ford testified before the Senate on Thursday about Kavanaugh's alleged sexual assault. SEE ALSO: Congrats to Brett Kavanaugh on getting to be angry Later during the hearing, Senator Kamala Harris asked K\\\\x89\\\\xdb_\", 'Before Brett Kavanaugh can accept a lifetime appointment to the highest court in the nation, he must publicly face one of the three women who have recently accused him of sexual assault. Dr. Christine Blasey Ford will appear before the Senate Judiciary Commit\\\\x89\\\\xdb_', 'A mother and child who were reunited after four months apart in Phoenix, Az., in July. Some \\\\x89\\\\xdb\\\\xcftender-age\\\\x89\\u06dd children are still separated from their parents despite a court-imposed to deadline to reunite them.', 'Eleven years after Barack Obama and Hillary Clinton used Senate hearings as an anti-Iraq war launchpad for their presidential ambitions, two Democratic senators are similarly seizing on the Supreme Court battle to play to the gallery of 2020 primary voters.', 'The agency struggled to track children separated from their parents and gave inconsistent information to migrant parents arriving at the border, an inspector general\\\\x89۪s report said.', 'The California senator\\\\x89۪s prospective visit could soon take her across a symbolic but unmistakably significant line as a presidential candidate.', 'During Thursday\\\\x89۪s final round of questioning of Judge Brett Kavanaugh at his Supreme Court confirmation hearings, Democratic Sen. Kamala Harris asked the nominee what seemed like a simple question.', 'Now it is Judge Brett M. Kavanaugh who faces a hearing to address explosive accusations by Christine Blasey Ford that he sexually assaulted her when they were teenagers.', 'Republicans are being unfair. I hope she testifies anyway.', 'Thursday began with a squabble over documents and an assertion by Sen. Cory Booker, D-N.J., that he was willing to risk being ousted from the Senate in order to provide information on the nominee.', 'Judge Brett Kavanaugh on the third day of his Senate confirmation hearings dodged questions about whether he would recuse himself from cases related to the special counsel Robert Mueller or the Russia investigation if they reach the Supreme Court. Sen. Cory B\\\\x89\\\\xdb_', 'A handful of Democratic senators walked out of the Judiciary Committee\\'s hearing on Friday morning in protest of the vote on Supreme Court nominee Brett Kavanaugh. \"My answer is no, no, no,\" Sen. Mazie Hirono of Hawaii said as she left the room. The 21-person\\\\x89\\\\xdb_', 'Verizon misled firefighters about limits of \"unlimited data,\" senators say.', 'To listen to this episode of Trumpcast, use the player below: Listen to Trumpcast via Apple Podcasts, Overcast, Spotify, Stitcher, or Google Play. Virg ...', 'California Governor Jerry Brown on Sunday signed into law Senate Bill 822, legislation that seeks to reestablish net neutrality as the core principle by which internet service providers treat all data carried over their networks within the state. Read more...', 'Osita Nwanevu on Brett Kavanaugh\\\\x89۪s tearful testimony before the Senate Judiciary Committee regarding sexual-assault allegations brought against him by Christine Blasey Ford.', \"Washington Post Potential 2020 candidates use Kavanaugh hearings to show resistance to Trump Washington Post The 2020 presidential campaign came roaring into Judge Brett M. Kavanaugh's confirmation hearings this week, with a pair of prospective Democratic can\\\\x89\\\\xdb_\", 'President Donald Trump, fighting to shore up his nomination of Brett Kavanaugh to the U.S. Supreme Court in a divided Senate, on Tuesday called sexual misconduct allegations against the judge \"a con game being played by the Democrats.\"']\n",
      "['A Democratic candidate in California who was accused earlier this year of sexual harassment is declining to comment on the national firestorm over the allegations of sexual misconduct dating back three decades against Supreme Court justice nominee Brett Kavan\\\\x89\\\\xdb_', 'Last week California\\\\xe5\\\\xd5s Department of Motor Vehicles sent 23,000 \\\\xe5\\\\xd2erroneous\\\\xe5\\\\xd3 voter registrations to the office of Secretary of State Alex Padilla, who maintains the list of registered voters. The DMV blamed it technical errors and said none of the erroneous re\\\\x89\\\\xdb_', \"For a second time, we checked the accuracy of every factual claim made by the president at one of his rallies. It's a long list, and not very pretty.\", 'Facial recognition technology presents myriad opportunities as well as risks, but it seems like the government tends to only consider the former when deploying it for law enforcement and clerical purposes. Senator Kamala Harris (D-CA) has written the FBI, FTC\\\\x89\\\\xdb_', \"She certainly wasn't the loudest. (That was Lindsey Graham.) Or the most well-known name among Democrats eyeing 2020. (That was Kamala Harris and Cory Booker.)  But Amy Klobuchar, who, like Harris and Booker, is considering a run for the Democratic presidenti\\\\x89\\\\xdb_\", \"Yes, you read that headline right. Dr. Christine Blasey Ford testified before the Senate on Thursday about Kavanaugh's alleged sexual assault. SEE ALSO: Congrats to Brett Kavanaugh on getting to be angry Later during the hearing, Senator Kamala Harris asked K\\\\x89\\\\xdb_\", 'Before Brett Kavanaugh can accept a lifetime appointment to the highest court in the nation, he must publicly face one of the three women who have recently accused him of sexual assault. Dr. Christine Blasey Ford will appear before the Senate Judiciary Commit\\\\x89\\\\xdb_', 'A mother and child who were reunited after four months apart in Phoenix, Az., in July. Some \\\\x89\\\\xdb\\\\xcftender-age\\\\x89\\u06dd children are still separated from their parents despite a court-imposed to deadline to reunite them.', 'Eleven years after Barack Obama and Hillary Clinton used Senate hearings as an anti-Iraq war launchpad for their presidential ambitions, two Democratic senators are similarly seizing on the Supreme Court battle to play to the gallery of 2020 primary voters.', 'The agency struggled to track children separated from their parents and gave inconsistent information to migrant parents arriving at the border, an inspector general\\\\x89۪s report said.', 'The California senator\\\\x89۪s prospective visit could soon take her across a symbolic but unmistakably significant line as a presidential candidate.', 'During Thursday\\\\x89۪s final round of questioning of Judge Brett Kavanaugh at his Supreme Court confirmation hearings, Democratic Sen. Kamala Harris asked the nominee what seemed like a simple question.', 'Now it is Judge Brett M. Kavanaugh who faces a hearing to address explosive accusations by Christine Blasey Ford that he sexually assaulted her when they were teenagers.', 'Republicans are being unfair. I hope she testifies anyway.', 'Thursday began with a squabble over documents and an assertion by Sen. Cory Booker, D-N.J., that he was willing to risk being ousted from the Senate in order to provide information on the nominee.', 'Judge Brett Kavanaugh on the third day of his Senate confirmation hearings dodged questions about whether he would recuse himself from cases related to the special counsel Robert Mueller or the Russia investigation if they reach the Supreme Court. Sen. Cory B\\\\x89\\\\xdb_', 'A handful of Democratic senators walked out of the Judiciary Committee\\'s hearing on Friday morning in protest of the vote on Supreme Court nominee Brett Kavanaugh. \"My answer is no, no, no,\" Sen. Mazie Hirono of Hawaii said as she left the room. The 21-person\\\\x89\\\\xdb_', 'Verizon misled firefighters about limits of \"unlimited data,\" senators say.', 'To listen to this episode of Trumpcast, use the player below: Listen to Trumpcast via Apple Podcasts, Overcast, Spotify, Stitcher, or Google Play. Virg ...', 'California Governor Jerry Brown on Sunday signed into law Senate Bill 822, legislation that seeks to reestablish net neutrality as the core principle by which internet service providers treat all data carried over their networks within the state. Read more...', 'Osita Nwanevu on Brett Kavanaugh\\\\x89۪s tearful testimony before the Senate Judiciary Committee regarding sexual-assault allegations brought against him by Christine Blasey Ford.', \"Washington Post Potential 2020 candidates use Kavanaugh hearings to show resistance to Trump Washington Post The 2020 presidential campaign came roaring into Judge Brett M. Kavanaugh's confirmation hearings this week, with a pair of prospective Democratic can\\\\x89\\\\xdb_\", 'President Donald Trump, fighting to shore up his nomination of Brett Kavanaugh to the U.S. Supreme Court in a divided Senate, on Tuesday called sexual misconduct allegations against the judge \"a con game being played by the Democrats.\"', 'Californians have been lucky over the past two decades that a number of tough-minded, dedicated and creative people have served as state treasurer, from Phil Angelides to Bill Lockyer to, most recently, John Chiang (who opted to run for governor this year ins\\\\x89\\\\xdb_']\n",
      "['A Democratic candidate in California who was accused earlier this year of sexual harassment is declining to comment on the national firestorm over the allegations of sexual misconduct dating back three decades against Supreme Court justice nominee Brett Kavan\\\\x89\\\\xdb_', 'Last week California\\\\xe5\\\\xd5s Department of Motor Vehicles sent 23,000 \\\\xe5\\\\xd2erroneous\\\\xe5\\\\xd3 voter registrations to the office of Secretary of State Alex Padilla, who maintains the list of registered voters. The DMV blamed it technical errors and said none of the erroneous re\\\\x89\\\\xdb_', \"For a second time, we checked the accuracy of every factual claim made by the president at one of his rallies. It's a long list, and not very pretty.\", 'Facial recognition technology presents myriad opportunities as well as risks, but it seems like the government tends to only consider the former when deploying it for law enforcement and clerical purposes. Senator Kamala Harris (D-CA) has written the FBI, FTC\\\\x89\\\\xdb_', \"She certainly wasn't the loudest. (That was Lindsey Graham.) Or the most well-known name among Democrats eyeing 2020. (That was Kamala Harris and Cory Booker.)  But Amy Klobuchar, who, like Harris and Booker, is considering a run for the Democratic presidenti\\\\x89\\\\xdb_\", \"Yes, you read that headline right. Dr. Christine Blasey Ford testified before the Senate on Thursday about Kavanaugh's alleged sexual assault. SEE ALSO: Congrats to Brett Kavanaugh on getting to be angry Later during the hearing, Senator Kamala Harris asked K\\\\x89\\\\xdb_\", 'Before Brett Kavanaugh can accept a lifetime appointment to the highest court in the nation, he must publicly face one of the three women who have recently accused him of sexual assault. Dr. Christine Blasey Ford will appear before the Senate Judiciary Commit\\\\x89\\\\xdb_', 'A mother and child who were reunited after four months apart in Phoenix, Az., in July. Some \\\\x89\\\\xdb\\\\xcftender-age\\\\x89\\u06dd children are still separated from their parents despite a court-imposed to deadline to reunite them.', 'Eleven years after Barack Obama and Hillary Clinton used Senate hearings as an anti-Iraq war launchpad for their presidential ambitions, two Democratic senators are similarly seizing on the Supreme Court battle to play to the gallery of 2020 primary voters.', 'The agency struggled to track children separated from their parents and gave inconsistent information to migrant parents arriving at the border, an inspector general\\\\x89۪s report said.', 'The California senator\\\\x89۪s prospective visit could soon take her across a symbolic but unmistakably significant line as a presidential candidate.', 'During Thursday\\\\x89۪s final round of questioning of Judge Brett Kavanaugh at his Supreme Court confirmation hearings, Democratic Sen. Kamala Harris asked the nominee what seemed like a simple question.', 'Now it is Judge Brett M. Kavanaugh who faces a hearing to address explosive accusations by Christine Blasey Ford that he sexually assaulted her when they were teenagers.', 'Republicans are being unfair. I hope she testifies anyway.', 'Thursday began with a squabble over documents and an assertion by Sen. Cory Booker, D-N.J., that he was willing to risk being ousted from the Senate in order to provide information on the nominee.', 'Judge Brett Kavanaugh on the third day of his Senate confirmation hearings dodged questions about whether he would recuse himself from cases related to the special counsel Robert Mueller or the Russia investigation if they reach the Supreme Court. Sen. Cory B\\\\x89\\\\xdb_', 'A handful of Democratic senators walked out of the Judiciary Committee\\'s hearing on Friday morning in protest of the vote on Supreme Court nominee Brett Kavanaugh. \"My answer is no, no, no,\" Sen. Mazie Hirono of Hawaii said as she left the room. The 21-person\\\\x89\\\\xdb_', 'Verizon misled firefighters about limits of \"unlimited data,\" senators say.', 'To listen to this episode of Trumpcast, use the player below: Listen to Trumpcast via Apple Podcasts, Overcast, Spotify, Stitcher, or Google Play. Virg ...', 'California Governor Jerry Brown on Sunday signed into law Senate Bill 822, legislation that seeks to reestablish net neutrality as the core principle by which internet service providers treat all data carried over their networks within the state. Read more...', 'Osita Nwanevu on Brett Kavanaugh\\\\x89۪s tearful testimony before the Senate Judiciary Committee regarding sexual-assault allegations brought against him by Christine Blasey Ford.', \"Washington Post Potential 2020 candidates use Kavanaugh hearings to show resistance to Trump Washington Post The 2020 presidential campaign came roaring into Judge Brett M. Kavanaugh's confirmation hearings this week, with a pair of prospective Democratic can\\\\x89\\\\xdb_\", 'President Donald Trump, fighting to shore up his nomination of Brett Kavanaugh to the U.S. Supreme Court in a divided Senate, on Tuesday called sexual misconduct allegations against the judge \"a con game being played by the Democrats.\"', 'Californians have been lucky over the past two decades that a number of tough-minded, dedicated and creative people have served as state treasurer, from Phil Angelides to Bill Lockyer to, most recently, John Chiang (who opted to run for governor this year ins\\\\x89\\\\xdb_', 'White House Press Secretary Sarah Huckabee Sanders on Tuesday insisted that Supreme Court nominee Brett Kavanaugh deserved a fair hearing and an up-or-down vote \\\\x89\\\\xdb\\\\xd3 just as \\\\x89\\\\xdb\\\\xcfevery single\\\\x89\\u06dd other Supreme Court nominee has supposedly received. During an appearance\\\\x89\\\\xdb_']\n",
      "['A Democratic candidate in California who was accused earlier this year of sexual harassment is declining to comment on the national firestorm over the allegations of sexual misconduct dating back three decades against Supreme Court justice nominee Brett Kavan\\\\x89\\\\xdb_', 'Last week California\\\\xe5\\\\xd5s Department of Motor Vehicles sent 23,000 \\\\xe5\\\\xd2erroneous\\\\xe5\\\\xd3 voter registrations to the office of Secretary of State Alex Padilla, who maintains the list of registered voters. The DMV blamed it technical errors and said none of the erroneous re\\\\x89\\\\xdb_', \"For a second time, we checked the accuracy of every factual claim made by the president at one of his rallies. It's a long list, and not very pretty.\", 'Facial recognition technology presents myriad opportunities as well as risks, but it seems like the government tends to only consider the former when deploying it for law enforcement and clerical purposes. Senator Kamala Harris (D-CA) has written the FBI, FTC\\\\x89\\\\xdb_', \"She certainly wasn't the loudest. (That was Lindsey Graham.) Or the most well-known name among Democrats eyeing 2020. (That was Kamala Harris and Cory Booker.)  But Amy Klobuchar, who, like Harris and Booker, is considering a run for the Democratic presidenti\\\\x89\\\\xdb_\", \"Yes, you read that headline right. Dr. Christine Blasey Ford testified before the Senate on Thursday about Kavanaugh's alleged sexual assault. SEE ALSO: Congrats to Brett Kavanaugh on getting to be angry Later during the hearing, Senator Kamala Harris asked K\\\\x89\\\\xdb_\", 'Before Brett Kavanaugh can accept a lifetime appointment to the highest court in the nation, he must publicly face one of the three women who have recently accused him of sexual assault. Dr. Christine Blasey Ford will appear before the Senate Judiciary Commit\\\\x89\\\\xdb_', 'A mother and child who were reunited after four months apart in Phoenix, Az., in July. Some \\\\x89\\\\xdb\\\\xcftender-age\\\\x89\\u06dd children are still separated from their parents despite a court-imposed to deadline to reunite them.', 'Eleven years after Barack Obama and Hillary Clinton used Senate hearings as an anti-Iraq war launchpad for their presidential ambitions, two Democratic senators are similarly seizing on the Supreme Court battle to play to the gallery of 2020 primary voters.', 'The agency struggled to track children separated from their parents and gave inconsistent information to migrant parents arriving at the border, an inspector general\\\\x89۪s report said.', 'The California senator\\\\x89۪s prospective visit could soon take her across a symbolic but unmistakably significant line as a presidential candidate.', 'During Thursday\\\\x89۪s final round of questioning of Judge Brett Kavanaugh at his Supreme Court confirmation hearings, Democratic Sen. Kamala Harris asked the nominee what seemed like a simple question.', 'Now it is Judge Brett M. Kavanaugh who faces a hearing to address explosive accusations by Christine Blasey Ford that he sexually assaulted her when they were teenagers.', 'Republicans are being unfair. I hope she testifies anyway.', 'Thursday began with a squabble over documents and an assertion by Sen. Cory Booker, D-N.J., that he was willing to risk being ousted from the Senate in order to provide information on the nominee.', 'Judge Brett Kavanaugh on the third day of his Senate confirmation hearings dodged questions about whether he would recuse himself from cases related to the special counsel Robert Mueller or the Russia investigation if they reach the Supreme Court. Sen. Cory B\\\\x89\\\\xdb_', 'A handful of Democratic senators walked out of the Judiciary Committee\\'s hearing on Friday morning in protest of the vote on Supreme Court nominee Brett Kavanaugh. \"My answer is no, no, no,\" Sen. Mazie Hirono of Hawaii said as she left the room. The 21-person\\\\x89\\\\xdb_', 'Verizon misled firefighters about limits of \"unlimited data,\" senators say.', 'To listen to this episode of Trumpcast, use the player below: Listen to Trumpcast via Apple Podcasts, Overcast, Spotify, Stitcher, or Google Play. Virg ...', 'California Governor Jerry Brown on Sunday signed into law Senate Bill 822, legislation that seeks to reestablish net neutrality as the core principle by which internet service providers treat all data carried over their networks within the state. Read more...', 'Osita Nwanevu on Brett Kavanaugh\\\\x89۪s tearful testimony before the Senate Judiciary Committee regarding sexual-assault allegations brought against him by Christine Blasey Ford.', \"Washington Post Potential 2020 candidates use Kavanaugh hearings to show resistance to Trump Washington Post The 2020 presidential campaign came roaring into Judge Brett M. Kavanaugh's confirmation hearings this week, with a pair of prospective Democratic can\\\\x89\\\\xdb_\", 'President Donald Trump, fighting to shore up his nomination of Brett Kavanaugh to the U.S. Supreme Court in a divided Senate, on Tuesday called sexual misconduct allegations against the judge \"a con game being played by the Democrats.\"', 'Californians have been lucky over the past two decades that a number of tough-minded, dedicated and creative people have served as state treasurer, from Phil Angelides to Bill Lockyer to, most recently, John Chiang (who opted to run for governor this year ins\\\\x89\\\\xdb_', 'White House Press Secretary Sarah Huckabee Sanders on Tuesday insisted that Supreme Court nominee Brett Kavanaugh deserved a fair hearing and an up-or-down vote \\\\x89\\\\xdb\\\\xd3 just as \\\\x89\\\\xdb\\\\xcfevery single\\\\x89\\u06dd other Supreme Court nominee has supposedly received. During an appearance\\\\x89\\\\xdb_', \"We  talk with Greg Conlon who is running for California State Treasurer. Conlon, a Republican, has served on the California Transportation Commission and as president of the California Public Utilities Commission. A CPA, Conlon wants to be state's top asset m\\\\x89\\\\xdb_\"]\n",
      "['A Democratic candidate in California who was accused earlier this year of sexual harassment is declining to comment on the national firestorm over the allegations of sexual misconduct dating back three decades against Supreme Court justice nominee Brett Kavan\\\\x89\\\\xdb_', 'Last week California\\\\xe5\\\\xd5s Department of Motor Vehicles sent 23,000 \\\\xe5\\\\xd2erroneous\\\\xe5\\\\xd3 voter registrations to the office of Secretary of State Alex Padilla, who maintains the list of registered voters. The DMV blamed it technical errors and said none of the erroneous re\\\\x89\\\\xdb_', \"For a second time, we checked the accuracy of every factual claim made by the president at one of his rallies. It's a long list, and not very pretty.\", 'Facial recognition technology presents myriad opportunities as well as risks, but it seems like the government tends to only consider the former when deploying it for law enforcement and clerical purposes. Senator Kamala Harris (D-CA) has written the FBI, FTC\\\\x89\\\\xdb_', \"She certainly wasn't the loudest. (That was Lindsey Graham.) Or the most well-known name among Democrats eyeing 2020. (That was Kamala Harris and Cory Booker.)  But Amy Klobuchar, who, like Harris and Booker, is considering a run for the Democratic presidenti\\\\x89\\\\xdb_\", \"Yes, you read that headline right. Dr. Christine Blasey Ford testified before the Senate on Thursday about Kavanaugh's alleged sexual assault. SEE ALSO: Congrats to Brett Kavanaugh on getting to be angry Later during the hearing, Senator Kamala Harris asked K\\\\x89\\\\xdb_\", 'Before Brett Kavanaugh can accept a lifetime appointment to the highest court in the nation, he must publicly face one of the three women who have recently accused him of sexual assault. Dr. Christine Blasey Ford will appear before the Senate Judiciary Commit\\\\x89\\\\xdb_', 'A mother and child who were reunited after four months apart in Phoenix, Az., in July. Some \\\\x89\\\\xdb\\\\xcftender-age\\\\x89\\u06dd children are still separated from their parents despite a court-imposed to deadline to reunite them.', 'Eleven years after Barack Obama and Hillary Clinton used Senate hearings as an anti-Iraq war launchpad for their presidential ambitions, two Democratic senators are similarly seizing on the Supreme Court battle to play to the gallery of 2020 primary voters.', 'The agency struggled to track children separated from their parents and gave inconsistent information to migrant parents arriving at the border, an inspector general\\\\x89۪s report said.', 'The California senator\\\\x89۪s prospective visit could soon take her across a symbolic but unmistakably significant line as a presidential candidate.', 'During Thursday\\\\x89۪s final round of questioning of Judge Brett Kavanaugh at his Supreme Court confirmation hearings, Democratic Sen. Kamala Harris asked the nominee what seemed like a simple question.', 'Now it is Judge Brett M. Kavanaugh who faces a hearing to address explosive accusations by Christine Blasey Ford that he sexually assaulted her when they were teenagers.', 'Republicans are being unfair. I hope she testifies anyway.', 'Thursday began with a squabble over documents and an assertion by Sen. Cory Booker, D-N.J., that he was willing to risk being ousted from the Senate in order to provide information on the nominee.', 'Judge Brett Kavanaugh on the third day of his Senate confirmation hearings dodged questions about whether he would recuse himself from cases related to the special counsel Robert Mueller or the Russia investigation if they reach the Supreme Court. Sen. Cory B\\\\x89\\\\xdb_', 'A handful of Democratic senators walked out of the Judiciary Committee\\'s hearing on Friday morning in protest of the vote on Supreme Court nominee Brett Kavanaugh. \"My answer is no, no, no,\" Sen. Mazie Hirono of Hawaii said as she left the room. The 21-person\\\\x89\\\\xdb_', 'Verizon misled firefighters about limits of \"unlimited data,\" senators say.', 'To listen to this episode of Trumpcast, use the player below: Listen to Trumpcast via Apple Podcasts, Overcast, Spotify, Stitcher, or Google Play. Virg ...', 'California Governor Jerry Brown on Sunday signed into law Senate Bill 822, legislation that seeks to reestablish net neutrality as the core principle by which internet service providers treat all data carried over their networks within the state. Read more...', 'Osita Nwanevu on Brett Kavanaugh\\\\x89۪s tearful testimony before the Senate Judiciary Committee regarding sexual-assault allegations brought against him by Christine Blasey Ford.', \"Washington Post Potential 2020 candidates use Kavanaugh hearings to show resistance to Trump Washington Post The 2020 presidential campaign came roaring into Judge Brett M. Kavanaugh's confirmation hearings this week, with a pair of prospective Democratic can\\\\x89\\\\xdb_\", 'President Donald Trump, fighting to shore up his nomination of Brett Kavanaugh to the U.S. Supreme Court in a divided Senate, on Tuesday called sexual misconduct allegations against the judge \"a con game being played by the Democrats.\"', 'Californians have been lucky over the past two decades that a number of tough-minded, dedicated and creative people have served as state treasurer, from Phil Angelides to Bill Lockyer to, most recently, John Chiang (who opted to run for governor this year ins\\\\x89\\\\xdb_', 'White House Press Secretary Sarah Huckabee Sanders on Tuesday insisted that Supreme Court nominee Brett Kavanaugh deserved a fair hearing and an up-or-down vote \\\\x89\\\\xdb\\\\xd3 just as \\\\x89\\\\xdb\\\\xcfevery single\\\\x89\\u06dd other Supreme Court nominee has supposedly received. During an appearance\\\\x89\\\\xdb_', \"We  talk with Greg Conlon who is running for California State Treasurer. Conlon, a Republican, has served on the California Transportation Commission and as president of the California Public Utilities Commission. A CPA, Conlon wants to be state's top asset m\\\\x89\\\\xdb_\", \"SACRAMENTO, Calif. (AP) \\\\x89\\\\xdb\\\\xd3 Voters will choose California's next lieutenant governor, schools chief and other statewide officeholders on Nov. 6. The race for superintendent of public education is shaping up to be an expensive showdown between unions and charter\\\\x89\\\\xdb_\"]\n"
     ]
    }
   ],
   "source": [
    "descriptionText = []\n",
    "for text in descriptions:\n",
    "    descriptionText.append(text)\n",
    "    print (descriptionText)"
   ]
  },
  {
   "cell_type": "code",
   "execution_count": 10,
   "metadata": {},
   "outputs": [
    {
     "data": {
      "text/plain": [
       "list"
      ]
     },
     "execution_count": 10,
     "metadata": {},
     "output_type": "execute_result"
    }
   ],
   "source": [
    "type(descriptionText)"
   ]
  },
  {
   "cell_type": "code",
   "execution_count": 24,
   "metadata": {},
   "outputs": [
    {
     "name": "stdout",
     "output_type": "stream",
     "text": [
      "['000', '2020', '21', '23', '822', 'accept', 'accuracy', 'accusations', 'accused', 'address', 'age', 'agency', 'alex', 'allegations', 'alleged', 'ambitions', 'amy', 'angelides', 'angry', 'answer', 'anti', 'ap', 'apart', 'appear', 'appearance', 'apple', 'appointment', 'arriving', 'asked', 'assault', 'assaulted', 'assertion', 'asset', 'az', 'barack', 'battle', 'began', 'blamed', 'blasey', 'booker', 'border', 'brett', 'brought', 'brown', 'ca', 'calif', 'california', 'californians', 'called', 'came', 'campaign', 'candidate', 'candidates', 'carried', 'cases', 'certainly', 'charter', 'checked', 'chiang', 'chief', 'child', 'children', 'choose', 'christine', 'claim', 'clerical', 'clinton', 'comment', 'commission', 'commit', 'committee', 'confirmation', 'congrats', 'conlon', 'consider', 'considering', 'core', 'cory', 'counsel', 'court', 'cpa', 'creative', 'data', 'dating', 'day', 'deadline', 'decades', 'declining', 'dedicated', 'democratic', 'democrats', 'department', 'deploying', 'deserved', 'despite', 'divided', 'dmv', 'documents', 'dodged', 'donald', 'dr', 'earlier', 'education', 'enforcement', 'episode', 'erroneous', 'errors', 'expensive', 'explosive', 'eyeing', 'face', 'faces', 'facial', 'factual', 'fair', 'fbi', 'fighting', 'final', 'firefighters', 'firestorm', 'ford', 'friday', 'ftc', 'gallery', 'game', 'gave', 'general', 'getting', 'google', 'government', 'governor', 'graham', 'greg', 'handful', 'harassment', 'harris', 'hawaii', 'headline', 'hearing', 'hearings', 'highest', 'hillary', 'hirono', 'hope', 'house', 'huckabee', 'imposed', 'inconsistent', 'information', 'ins', 'insisted', 'inspector', 'internet', 'investigation', 'iraq', 'jerry', 'john', 'judge', 'judiciary', 'july', 'just', 'justice', 'kamala', 'kavan', 'kavanaugh', 'klobuchar', 'known', 'later', 'launchpad', 'law', 'left', 'legislation', 'lieutenant', 'lifetime', 'like', 'limits', 'lindsey', 'line', 'list', 'listen', 'lockyer', 'long', 'loudest', 'lucky', 'maintains', 'mazie', 'migrant', 'minded', 'misconduct', 'misled', 'months', 'morning', 'mother', 'motor', 'mueller', 'myriad', 'nation', 'national', 'net', 'networks', 'neutrality', 'nomination', 'nominee', 'nov', 'number', 'nwanevu', 'obama', 'office', 'officeholders', 'opportunities', 'opted', 'order', 'osita', 'ousted', 'overcast', 'padilla', 'pair', 'parents', 'past', 'people', 'person', 'phil', 'phoenix', 'play', 'played', 'player', 'podcasts', 'post', 'potential', 'presents', 'president', 'presidenti', 'presidential', 'press', 'pretty', 'primary', 'principle', 'prospective', 'protest', 'provide', 'providers', 'public', 'publicly', 'purposes', 'question', 'questioning', 'questions', 'race', 'rallies', 'reach', 'read', 'received', 'recently', 'recognition', 'recuse', 'reestablish', 'regarding', 'registered', 'registrations', 'related', 'report', 'republican', 'republicans', 'resistance', 'reunite', 'reunited', 'right', 'risk', 'risks', 'roaring', 'robert', 'room', 'round', 'run', 'running', 'russia', 'sacramento', 'said', 'sanders', 'sarah', 'say', 'schools', 'second', 'secretary', 'seeks', 'seizing', 'sen', 'senate', 'senator', 'senators', 'sent', 'separated', 'served', 'service', 'sexual', 'sexually', 'shaping', 'shore', 'showdown', 'signed', 'significant', 'similarly', 'simple', 'single', 'soon', 'special', 'spotify', 'squabble', 'state', 'statewide', 'stitcher', 'struggled', 'sunday', 'superintendent', 'supposedly', 'supreme', 'symbolic', 'talk', 'tearful', 'technical', 'technology', 'teenagers', 'tends', 'testified', 'testifies', 'testimony', 'thursday', 'time', 'tough', 'track', 'transportation', 'treasurer', 'treat', 'trump', 'trumpcast', 'tuesday', 'unfair', 'unions', 'unlimited', 'unmistakably', 'use', 'used', 'utilities', 'vehicles', 'verizon', 'virg', 'visit', 'vote', 'voter', 'voters', 'walked', 'wants', 'war', 'washington', 'wasn', 'week', 'white', 'willing', 'women', 'written', 'x89', 'xcfevery', 'xcftender', 'xd2erroneous', 'xd3', 'xd5s', 'xdb', 'xdb_', 'xe5', 'year', 'years', 'yes']\n",
      "[[0 0 0 ... 1 0 0]\n",
      " [1 0 0 ... 0 0 0]\n",
      " [0 0 0 ... 0 0 0]\n",
      " ...\n",
      " [0 0 0 ... 0 0 0]\n",
      " [0 0 0 ... 0 0 0]\n",
      " [0 0 0 ... 0 0 0]]\n",
      "(27, 372)\n"
     ]
    }
   ],
   "source": [
    "# countvectorizer=Tokenize the documents and count the occurrences of token and return them as a sparse matrix\n",
    "vectorizer = CountVectorizer(stop_words= 'english')\n",
    "vector = vectorizer.fit_transform(descriptionText)\n",
    "print(vectorizer.get_feature_names())\n",
    "print(vector.toarray())\n",
    "print(vector.shape)\n"
   ]
  },
  {
   "cell_type": "code",
   "execution_count": 26,
   "metadata": {},
   "outputs": [
    {
     "name": "stdout",
     "output_type": "stream",
     "text": [
      "{'democratic': 89, 'candidate': 51, 'california': 46, 'accused': 8, 'earlier': 101, 'year': 369, 'sexual': 294, 'harassment': 134, 'declining': 87, 'comment': 67, 'national': 197, 'firestorm': 119, 'allegations': 13, 'misconduct': 188, 'dating': 83, 'decades': 86, 'supreme': 315, 'court': 79, 'justice': 161, 'nominee': 202, 'brett': 41, 'kavan': 163, 'x89': 360, 'xdb_': 367, 'week': 355, 'xe5': 368, 'xd5s': 365, 'department': 91, 'motor': 193, 'vehicles': 343, 'sent': 290, '23': 3, '000': 0, 'xd2erroneous': 363, 'xd3': 364, 'voter': 348, 'registrations': 258, 'office': 207, 'secretary': 283, 'state': 308, 'alex': 12, 'padilla': 215, 'maintains': 184, 'list': 178, 'registered': 257, 'voters': 349, 'dmv': 96, 'blamed': 37, 'technical': 319, 'errors': 106, 'said': 277, 'erroneous': 105, 'second': 282, 'time': 327, 'checked': 57, 'accuracy': 6, 'factual': 113, 'claim': 64, 'president': 230, 'rallies': 248, 'long': 181, 'pretty': 234, 'facial': 112, 'recognition': 253, 'technology': 320, 'presents': 229, 'myriad': 195, 'opportunities': 209, 'risks': 268, 'like': 174, 'government': 129, 'tends': 322, 'consider': 74, 'deploying': 92, 'law': 169, 'enforcement': 103, 'clerical': 65, 'purposes': 243, 'senator': 288, 'kamala': 162, 'harris': 135, 'ca': 44, 'written': 359, 'fbi': 115, 'ftc': 122, 'certainly': 55, 'wasn': 354, 'loudest': 182, 'lindsey': 176, 'graham': 131, 'known': 166, 'democrats': 90, 'eyeing': 109, '2020': 1, 'cory': 77, 'booker': 39, 'amy': 16, 'klobuchar': 165, 'considering': 75, 'run': 273, 'presidenti': 231, 'yes': 371, 'read': 250, 'headline': 137, 'right': 266, 'dr': 100, 'christine': 63, 'blasey': 38, 'ford': 120, 'testified': 323, 'senate': 287, 'thursday': 326, 'kavanaugh': 164, 'alleged': 14, 'assault': 29, 'congrats': 72, 'getting': 127, 'angry': 18, 'later': 167, 'hearing': 138, 'asked': 28, 'accept': 5, 'lifetime': 173, 'appointment': 26, 'highest': 140, 'nation': 196, 'publicly': 242, 'face': 110, 'women': 358, 'recently': 252, 'appear': 23, 'judiciary': 158, 'commit': 69, 'mother': 192, 'child': 60, 'reunited': 265, 'months': 190, 'apart': 22, 'phoenix': 222, 'az': 33, 'july': 159, 'xdb': 366, 'xcftender': 362, 'age': 10, 'children': 61, 'separated': 291, 'parents': 217, 'despite': 94, 'imposed': 146, 'deadline': 85, 'reunite': 264, 'years': 370, 'barack': 34, 'obama': 206, 'hillary': 141, 'clinton': 66, 'used': 341, 'hearings': 139, 'anti': 20, 'iraq': 154, 'war': 352, 'launchpad': 168, 'presidential': 232, 'ambitions': 15, 'senators': 289, 'similarly': 301, 'seizing': 285, 'battle': 35, 'play': 223, 'gallery': 123, 'primary': 235, 'agency': 11, 'struggled': 311, 'track': 329, 'gave': 125, 'inconsistent': 147, 'information': 148, 'migrant': 186, 'arriving': 27, 'border': 40, 'inspector': 151, 'general': 126, 'report': 260, 'prospective': 237, 'visit': 346, 'soon': 304, 'symbolic': 316, 'unmistakably': 339, 'significant': 300, 'line': 177, 'final': 117, 'round': 272, 'questioning': 245, 'judge': 157, 'confirmation': 71, 'sen': 286, 'simple': 302, 'question': 244, 'faces': 111, 'address': 9, 'explosive': 108, 'accusations': 7, 'sexually': 295, 'assaulted': 30, 'teenagers': 321, 'republicans': 262, 'unfair': 336, 'hope': 143, 'testifies': 324, 'began': 36, 'squabble': 307, 'documents': 97, 'assertion': 31, 'willing': 357, 'risk': 267, 'ousted': 213, 'order': 211, 'provide': 239, 'day': 84, 'dodged': 98, 'questions': 246, 'recuse': 254, 'cases': 54, 'related': 259, 'special': 305, 'counsel': 78, 'robert': 270, 'mueller': 194, 'russia': 275, 'investigation': 153, 'reach': 249, 'handful': 133, 'walked': 350, 'committee': 70, 'friday': 121, 'morning': 191, 'protest': 238, 'vote': 347, 'answer': 19, 'mazie': 185, 'hirono': 142, 'hawaii': 136, 'left': 170, 'room': 271, '21': 2, 'person': 220, 'verizon': 344, 'misled': 189, 'firefighters': 118, 'limits': 175, 'unlimited': 338, 'data': 82, 'say': 280, 'listen': 179, 'episode': 104, 'trumpcast': 334, 'use': 340, 'player': 225, 'apple': 25, 'podcasts': 226, 'overcast': 214, 'spotify': 306, 'stitcher': 310, 'google': 128, 'virg': 345, 'governor': 130, 'jerry': 155, 'brown': 43, 'sunday': 312, 'signed': 299, '822': 4, 'legislation': 171, 'seeks': 284, 'reestablish': 255, 'net': 198, 'neutrality': 200, 'core': 76, 'principle': 236, 'internet': 152, 'service': 293, 'providers': 240, 'treat': 332, 'carried': 53, 'networks': 199, 'osita': 212, 'nwanevu': 205, 'tearful': 318, 'testimony': 325, 'regarding': 256, 'brought': 42, 'washington': 353, 'post': 227, 'potential': 228, 'candidates': 52, 'resistance': 263, 'trump': 333, 'campaign': 50, 'came': 49, 'roaring': 269, 'pair': 216, 'donald': 99, 'fighting': 116, 'shore': 297, 'nomination': 201, 'divided': 95, 'tuesday': 335, 'called': 48, 'game': 124, 'played': 224, 'californians': 47, 'lucky': 183, 'past': 218, 'number': 204, 'tough': 328, 'minded': 187, 'dedicated': 88, 'creative': 81, 'people': 219, 'served': 292, 'treasurer': 331, 'phil': 221, 'angelides': 17, 'lockyer': 180, 'john': 156, 'chiang': 58, 'opted': 210, 'ins': 149, 'white': 356, 'house': 144, 'press': 233, 'sarah': 279, 'huckabee': 145, 'sanders': 278, 'insisted': 150, 'deserved': 93, 'fair': 114, 'just': 160, 'xcfevery': 361, 'single': 303, 'supposedly': 314, 'received': 251, 'appearance': 24, 'talk': 317, 'greg': 132, 'conlon': 73, 'running': 274, 'republican': 261, 'transportation': 330, 'commission': 68, 'public': 241, 'utilities': 342, 'cpa': 80, 'wants': 351, 'asset': 32, 'sacramento': 276, 'calif': 45, 'ap': 21, 'choose': 62, 'lieutenant': 172, 'schools': 281, 'chief': 59, 'statewide': 309, 'officeholders': 208, 'nov': 203, 'race': 247, 'superintendent': 313, 'education': 102, 'shaping': 296, 'expensive': 107, 'showdown': 298, 'unions': 337, 'charter': 56}\n",
      "(27, 372)\n",
      "<class 'scipy.sparse.csr.csr_matrix'>\n",
      "[[0 0 0 ... 1 0 0]\n",
      " [1 0 0 ... 0 0 0]\n",
      " [0 0 0 ... 0 0 0]\n",
      " ...\n",
      " [0 0 0 ... 0 0 0]\n",
      " [0 0 0 ... 0 0 0]\n",
      " [0 0 0 ... 0 0 0]]\n"
     ]
    }
   ],
   "source": [
    "# create the transform\n",
    "vectorizer = CountVectorizer(stop_words= 'english')\n",
    "# tokenize and build vocab\n",
    "vectorizer.fit(descriptionText)\n",
    "# summarize\n",
    "print(vectorizer.vocabulary_)\n",
    "# encode document\n",
    "vector = vectorizer.transform(descriptionText)\n",
    "# summarize encoded vector\n",
    "print(vector.shape)\n",
    "print(type(vector))\n",
    "print(vector.toarray())"
   ]
  },
  {
   "cell_type": "code",
   "execution_count": 28,
   "metadata": {},
   "outputs": [
    {
     "name": "stdout",
     "output_type": "stream",
     "text": [
      "[3.63905733 2.94591015 3.63905733 3.63905733 3.63905733 2.94591015\n",
      " 3.63905733 3.63905733 3.63905733 3.23359222 3.63905733 3.63905733\n",
      " 3.23359222 2.94591015 3.63905733 3.63905733 3.63905733 3.63905733\n",
      " 2.94591015 3.63905733 3.63905733 3.63905733 3.63905733 3.63905733\n",
      " 2.54044504 1.76725515 3.63905733 3.63905733 3.63905733 3.63905733\n",
      " 3.63905733 3.63905733 3.63905733 3.63905733 3.63905733 3.63905733\n",
      " 3.63905733 2.94591015 3.63905733 2.13497993 3.23359222 2.94591015\n",
      " 3.63905733 3.63905733 3.63905733 2.94591015 3.63905733 3.63905733\n",
      " 3.63905733 3.63905733 2.94591015 3.63905733 2.94591015 3.63905733\n",
      " 2.94591015 3.63905733 3.63905733 3.23359222 3.63905733 2.7227666\n",
      " 3.23359222 3.63905733 1.84729786 3.63905733 3.63905733 2.94591015\n",
      " 2.38629436 3.63905733 3.63905733 2.38629436 3.63905733 3.63905733\n",
      " 3.63905733 3.63905733 3.23359222 3.23359222 3.63905733 3.63905733\n",
      " 3.63905733 3.63905733 3.63905733 3.63905733 3.63905733 3.63905733\n",
      " 3.63905733 3.23359222 3.63905733 2.7227666  3.63905733 3.63905733\n",
      " 3.63905733 3.63905733 3.63905733 3.63905733 3.23359222 3.63905733\n",
      " 2.94591015 3.63905733 3.63905733 3.63905733 3.63905733 3.63905733\n",
      " 2.94591015 3.63905733 3.63905733 2.02961942 3.63905733 3.63905733\n",
      " 3.23359222 3.63905733 3.63905733 3.63905733 3.23359222 3.63905733\n",
      " 3.63905733 2.38629436 3.23359222 3.63905733 3.63905733 3.63905733\n",
      " 3.63905733 3.63905733 3.63905733 3.63905733 3.63905733 3.63905733\n",
      " 3.63905733 3.23359222 2.94591015 3.63905733 3.63905733 3.63905733\n",
      " 3.63905733 3.63905733 3.63905733 3.63905733 3.63905733 3.63905733\n",
      " 3.63905733 3.63905733 3.63905733 3.63905733 3.63905733 3.63905733\n",
      " 3.63905733 3.63905733 3.63905733 3.63905733 3.63905733 3.63905733\n",
      " 2.25276297 2.7227666  3.63905733 3.63905733 3.63905733 2.54044504\n",
      " 3.63905733 3.63905733 3.63905733 3.63905733 3.63905733 3.63905733\n",
      " 3.63905733 3.63905733 2.94591015 3.63905733 3.63905733 3.63905733\n",
      " 3.63905733 2.7227666  2.94591015 3.23359222 3.63905733 2.7227666\n",
      " 3.63905733 2.7227666  2.7227666  3.23359222 3.63905733 3.63905733\n",
      " 3.23359222 3.63905733 3.63905733 2.7227666  3.63905733 3.63905733\n",
      " 3.63905733 3.63905733 3.63905733 2.38629436 3.63905733 3.23359222\n",
      " 3.63905733 3.63905733 3.63905733 3.63905733 3.23359222 3.63905733\n",
      " 3.63905733 2.38629436 2.7227666  3.63905733 3.63905733 2.54044504\n",
      " 2.94591015 3.63905733 3.63905733 3.63905733 2.7227666  3.63905733\n",
      " 1.93430924 3.63905733 3.63905733 3.63905733 3.63905733 3.63905733\n",
      " 3.23359222 3.63905733 3.63905733 3.63905733 3.63905733 2.94591015\n",
      " 3.63905733 3.63905733 3.63905733 3.23359222 3.63905733 3.63905733\n",
      " 3.63905733 3.63905733 3.63905733 3.63905733 3.63905733 3.63905733\n",
      " 3.63905733 3.63905733 3.23359222 3.63905733 3.63905733 3.63905733\n",
      " 3.63905733 3.23359222 3.63905733 3.63905733 3.63905733 3.63905733\n",
      " 3.63905733 3.63905733 3.63905733 3.63905733 3.63905733 3.63905733\n",
      " 3.63905733 3.63905733 3.63905733 3.63905733 3.63905733 2.54044504\n",
      " 3.63905733 3.63905733 3.63905733 3.63905733 3.63905733 3.63905733\n",
      " 3.63905733 1.55961579 3.63905733 3.63905733 1.76725515 3.23359222\n",
      " 3.63905733 3.63905733 3.63905733 2.7227666  3.63905733 3.63905733\n",
      " 3.23359222 3.63905733 3.63905733 2.7227666  3.63905733 3.63905733\n",
      " 3.63905733 3.23359222 3.63905733 3.63905733 3.63905733 3.63905733\n",
      " 3.63905733 3.23359222 3.63905733 3.63905733 3.63905733 3.63905733\n",
      " 3.63905733 3.63905733 2.94591015 3.63905733 2.94591015 3.63905733\n",
      " 3.63905733 3.63905733 3.63905733 3.23359222 3.63905733 3.63905733\n",
      " 3.63905733 3.23359222 3.63905733 3.63905733 3.63905733 3.63905733\n",
      " 3.63905733 3.63905733 3.63905733 3.63905733 3.63905733 3.23359222\n",
      " 3.63905733 3.23359222 3.63905733 3.63905733 3.63905733 3.63905733\n",
      " 3.63905733 3.63905733 3.63905733 3.63905733 3.63905733 3.63905733\n",
      " 3.63905733 3.63905733 3.63905733 3.63905733 3.63905733 3.63905733\n",
      " 3.63905733 3.63905733 3.63905733 3.63905733 3.23359222 3.63905733\n",
      " 3.63905733 3.63905733 2.94591015 3.63905733 3.63905733 3.63905733\n",
      " 3.63905733 3.63905733 3.23359222 3.63905733 3.63905733 3.63905733\n",
      " 3.63905733 3.63905733 2.7227666  2.13497993 2.94591015 2.94591015\n",
      " 3.63905733 3.23359222 3.23359222 3.63905733 2.54044504 3.63905733\n",
      " 3.63905733 2.94591015 3.63905733 3.63905733 3.63905733 3.63905733\n",
      " 3.63905733 3.63905733 3.63905733 3.63905733 3.63905733 3.63905733\n",
      " 3.63905733 3.63905733 3.63905733 2.7227666  3.63905733 3.63905733\n",
      " 3.63905733 3.63905733 3.63905733 3.63905733 3.63905733 2.25276297\n",
      " 3.63905733 3.63905733 3.63905733 3.63905733 3.63905733 3.63905733\n",
      " 3.63905733 3.63905733 3.63905733 3.63905733 3.63905733 2.25276297\n",
      " 1.19671029 2.7227666  3.63905733 3.23359222 3.63905733 2.7227666\n",
      " 3.23359222 2.94591015 3.63905733 1.38776553 3.63905733 3.63905733\n",
      " 3.63905733 3.63905733 3.23359222 3.63905733 3.23359222 3.63905733\n",
      " 3.23359222 3.23359222 3.63905733 3.63905733 3.63905733 3.63905733\n",
      " 2.94591015 3.23359222 3.63905733 3.63905733 3.63905733 3.63905733\n",
      " 3.63905733 3.63905733 3.63905733 3.63905733 3.23359222 3.63905733\n",
      " 2.94591015 3.63905733 3.63905733 3.63905733 2.94591015 3.63905733\n",
      " 3.63905733 3.23359222 3.23359222 3.23359222 3.23359222 3.63905733\n",
      " 3.23359222 3.63905733 3.63905733 3.63905733 2.13497993 3.23359222\n",
      " 3.63905733 2.94591015 3.63905733 3.63905733 3.63905733 3.63905733\n",
      " 1.38776553 3.63905733 3.63905733 3.63905733 2.94591015 3.63905733\n",
      " 2.94591015 1.69314718 3.63905733 3.23359222 3.63905733 3.63905733\n",
      " 3.63905733]\n",
      "(1, 475)\n",
      "[[0.         0.         0.         0.         0.         0.\n",
      "  0.         0.         0.         0.17705684 0.         0.\n",
      "  0.         0.16130468 0.         0.         0.         0.\n",
      "  0.16130468 0.         0.         0.         0.         0.\n",
      "  0.         0.         0.         0.         0.         0.\n",
      "  0.         0.         0.         0.         0.         0.\n",
      "  0.         0.         0.         0.         0.         0.\n",
      "  0.         0.         0.         0.         0.         0.19925827\n",
      "  0.         0.         0.         0.         0.         0.\n",
      "  0.         0.         0.         0.         0.         0.\n",
      "  0.         0.         0.10114965 0.         0.         0.\n",
      "  0.         0.         0.         0.13066265 0.         0.\n",
      "  0.         0.         0.         0.17705684 0.         0.\n",
      "  0.         0.         0.         0.         0.         0.\n",
      "  0.         0.         0.         0.         0.         0.\n",
      "  0.         0.19925827 0.         0.         0.         0.\n",
      "  0.         0.         0.         0.         0.         0.\n",
      "  0.         0.         0.         0.11113275 0.         0.\n",
      "  0.         0.19925827 0.         0.         0.17705684 0.19925827\n",
      "  0.         0.13066265 0.         0.         0.         0.\n",
      "  0.         0.         0.         0.         0.         0.\n",
      "  0.         0.         0.         0.19925827 0.         0.\n",
      "  0.         0.         0.         0.         0.         0.\n",
      "  0.         0.         0.         0.         0.         0.\n",
      "  0.         0.         0.         0.         0.         0.19925827\n",
      "  0.         0.         0.         0.         0.         0.\n",
      "  0.         0.         0.         0.         0.         0.\n",
      "  0.         0.         0.         0.         0.         0.\n",
      "  0.19925827 0.         0.         0.         0.         0.\n",
      "  0.         0.         0.         0.         0.         0.\n",
      "  0.         0.         0.         0.         0.         0.\n",
      "  0.         0.         0.         0.13066265 0.         0.\n",
      "  0.         0.         0.         0.         0.         0.\n",
      "  0.         0.13066265 0.         0.         0.         0.\n",
      "  0.         0.         0.         0.19925827 0.         0.19925827\n",
      "  0.         0.         0.         0.         0.         0.\n",
      "  0.         0.         0.         0.         0.         0.\n",
      "  0.         0.         0.         0.         0.         0.\n",
      "  0.         0.         0.         0.         0.         0.\n",
      "  0.         0.         0.17705684 0.         0.         0.\n",
      "  0.         0.         0.         0.         0.         0.\n",
      "  0.         0.         0.         0.         0.19925827 0.\n",
      "  0.         0.         0.         0.         0.         0.13910325\n",
      "  0.         0.         0.         0.         0.         0.\n",
      "  0.         0.17079497 0.         0.         0.09676688 0.\n",
      "  0.         0.         0.         0.         0.         0.\n",
      "  0.         0.         0.         0.14908635 0.         0.\n",
      "  0.         0.         0.         0.         0.         0.\n",
      "  0.         0.         0.         0.         0.         0.\n",
      "  0.         0.         0.         0.         0.         0.\n",
      "  0.         0.         0.         0.         0.         0.\n",
      "  0.         0.         0.         0.         0.         0.\n",
      "  0.         0.         0.         0.         0.         0.\n",
      "  0.         0.         0.         0.         0.         0.\n",
      "  0.         0.         0.         0.         0.         0.\n",
      "  0.         0.         0.         0.         0.         0.\n",
      "  0.         0.         0.         0.         0.         0.\n",
      "  0.         0.         0.         0.         0.         0.\n",
      "  0.         0.         0.         0.         0.         0.\n",
      "  0.         0.         0.         0.         0.         0.\n",
      "  0.         0.         0.         0.         0.27820649 0.\n",
      "  0.         0.         0.         0.         0.         0.\n",
      "  0.         0.         0.         0.         0.         0.\n",
      "  0.         0.         0.         0.         0.         0.\n",
      "  0.         0.         0.         0.         0.         0.12335108\n",
      "  0.         0.         0.         0.         0.         0.\n",
      "  0.         0.         0.         0.         0.         0.\n",
      "  0.13105285 0.         0.         0.         0.         0.14908635\n",
      "  0.17705684 0.         0.         0.07598774 0.         0.\n",
      "  0.         0.         0.         0.         0.         0.\n",
      "  0.         0.         0.         0.         0.         0.\n",
      "  0.         0.         0.         0.         0.         0.\n",
      "  0.         0.         0.         0.         0.         0.\n",
      "  0.         0.         0.         0.         0.16130468 0.\n",
      "  0.         0.         0.         0.         0.         0.\n",
      "  0.         0.         0.         0.         0.11690182 0.\n",
      "  0.         0.         0.         0.         0.         0.\n",
      "  0.07598774 0.         0.         0.         0.         0.\n",
      "  0.         0.09270906 0.         0.17705684 0.         0.\n",
      "  0.        ]]\n"
     ]
    },
    {
     "name": "stderr",
     "output_type": "stream",
     "text": [
      "C:\\Users\\sabitri\\Anaconda3\\lib\\site-packages\\sklearn\\feature_extraction\\text.py:1059: FutureWarning: Conversion of the second argument of issubdtype from `float` to `np.floating` is deprecated. In future, it will be treated as `np.float64 == np.dtype(float).type`.\n",
      "  if hasattr(X, 'dtype') and np.issubdtype(X.dtype, np.float):\n"
     ]
    }
   ],
   "source": [
    "#TfidfVectorizer = Apply Term Frequency Inverse Document Frequency normalization to a sparse matrix of occurrence counts\n",
    "# create the transform\n",
    "vectorizer = TfidfVectorizer()\n",
    "# tokenize and build vocab\n",
    "vectorizer.fit(descriptionText)\n",
    "# summarize\n",
    "#print(vectorizer.vocabulary_)\n",
    "print(vectorizer.idf_)\n",
    "# encode document\n",
    "vector = vectorizer.transform([descriptionText[0]])\n",
    "# summarize encoded vector\n",
    "print(vector.shape)\n",
    "print(vector.toarray())"
   ]
  },
  {
   "cell_type": "code",
   "execution_count": null,
   "metadata": {
    "collapsed": true
   },
   "outputs": [],
   "source": []
  }
 ],
 "metadata": {
  "kernelspec": {
   "display_name": "Python 3",
   "language": "python",
   "name": "python3"
  },
  "language_info": {
   "codemirror_mode": {
    "name": "ipython",
    "version": 3
   },
   "file_extension": ".py",
   "mimetype": "text/x-python",
   "name": "python",
   "nbconvert_exporter": "python",
   "pygments_lexer": "ipython3",
   "version": "3.6.1"
  }
 },
 "nbformat": 4,
 "nbformat_minor": 2
}
