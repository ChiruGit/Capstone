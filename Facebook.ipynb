{
 "cells": [
  {
   "cell_type": "code",
   "execution_count": 7,
   "metadata": {},
   "outputs": [],
   "source": [
    "import requests"
   ]
  },
  {
   "cell_type": "code",
   "execution_count": 23,
   "metadata": {},
   "outputs": [],
   "source": [
    "token= \"EAADIB5fjZBOoBAPo8rqlPZC4e2CA06zBi7kZC5MhBZAFbIUkddHRxA2Oc2ZCIgzp9eZBnpXynVmWZAFV2cXWZCCV7ZA0o64Ou1jha6gvYSKO4e3SnPbKNMaUZAkfzKTqpx9P6GcTz2jbmNMRGFSakrbtcV7EJbZAeCWGWxzKl7BxZB9pfXrCENY8h3p5Db1vBNFtkSjcl7Cgfsj6MgZDZD\""
   ]
  },
  {
   "cell_type": "code",
   "execution_count": 28,
   "metadata": {},
   "outputs": [],
   "source": [
    "def req_facebook(req):\n",
    "    r = requests.get(\"https://graph.facebook.com/v2.12/\"+req,{'access_token': token})\n",
    "    return r"
   ]
  },
  {
   "cell_type": "code",
   "execution_count": 29,
   "metadata": {},
   "outputs": [],
   "source": [
    "r=req_facebook(\"DonaldTrump?fields=about,fan_count,picture\")"
   ]
  },
  {
   "cell_type": "code",
   "execution_count": 30,
   "metadata": {},
   "outputs": [
    {
     "data": {
      "text/plain": [
       "<Response [400]>"
      ]
     },
     "execution_count": 30,
     "metadata": {},
     "output_type": "execute_result"
    }
   ],
   "source": [
    "r"
   ]
  },
  {
   "cell_type": "code",
   "execution_count": 31,
   "metadata": {},
   "outputs": [
    {
     "data": {
      "text/plain": [
       "{'error': {'code': 190,\n",
       "  'error_subcode': 467,\n",
       "  'fbtrace_id': 'BTE8VC5ozZE',\n",
       "  'message': 'Error validating access token: The session is invalid because the user logged out.',\n",
       "  'type': 'OAuthException'}}"
      ]
     },
     "execution_count": 31,
     "metadata": {},
     "output_type": "execute_result"
    }
   ],
   "source": [
    "r.json()"
   ]
  },
  {
   "cell_type": "code",
   "execution_count": 21,
   "metadata": {},
   "outputs": [],
   "source": [
    "r=req_facebook(\"DonaldTrump?fields=posts.limit(5)\")"
   ]
  },
  {
   "cell_type": "code",
   "execution_count": 22,
   "metadata": {},
   "outputs": [
    {
     "data": {
      "text/plain": [
       "{'id': '153080620724',\n",
       " 'posts': {'data': [{'created_time': '2018-06-23T16:00:00+0000',\n",
       "    'id': '153080620724_10161168717395725',\n",
       "    'message': 'We will not rest until our border is SECURE, our citizens are SAFE, and we finally end the immigration crisis once and for all.',\n",
       "    'story': 'Donald J. Trump is with Kayleigh McEnany.'},\n",
       "   {'created_time': '2018-06-23T11:00:01+0000',\n",
       "    'id': '153080620724_10161168813635725',\n",
       "    'message': 'President Donald J. Trump’s schedule for Saturday, June 23rd:\\n· Travel to Las Vegas, NV\\n· Host a roundtable with supporters\\n· Remarks at the Nevada Republican Party Convention\\n· Roundtable discussion on tax reform\\n· Travel to Washington, DC'},\n",
       "   {'created_time': '2018-06-22T22:52:44+0000',\n",
       "    'id': '153080620724_10161167883530725',\n",
       "    'message': \"In just six months, more than 600 companies have given out bonuses or pay raises as a result of our HISTORIC tax cuts! We're just getting started!\"},\n",
       "   {'created_time': '2018-06-22T16:31:47+0000',\n",
       "    'id': '153080620724_10161166387880725',\n",
       "    'message': '\"The media does not want you to know this, and will not cover it...The real BIG STORY that affects everybody in America is...\" - Varney & Co.'},\n",
       "   {'created_time': '2018-06-22T15:03:00+0000',\n",
       "    'id': '153080620724_10161166222890725',\n",
       "    'message': 'We CANNOT allow our country to be overrun by illegal immigrants as the Democrats tell their phony stories of sadness and grief, hoping it will help them in the elections.'}],\n",
       "  'paging': {'cursors': {'after': 'Q2c4U1pXNTBYM0YxWlhKNVgzTjBiM0o1WDJsa0R5RXhOVE13T0RBMk1qQTNNalE2TFRJME9UUTFPVEl5T0RReU56ZAzVORGt4TXpVUERHRndhVjl6ZAEc5eWVWOXBaQThlTVRVek1EZA3dOakl3TnpJMFh6RXdNVFl4TVRZAMk1qSXlPRGt3TnpJMUR3UjBhVzFsQmxzdEQ2UUIZD',\n",
       "    'before': 'Q2c4U1pXNTBYM0YxWlhKNVgzTjBiM0o1WDJsa0R5RXhOVE13T0RBMk1qQTNNalE2TFRJME56RTROamt3T1RNMU56Y3dNamc1TlRRUERHRndhVjl6ZAEc5eWVWOXBaQThlTVRVek1EZA3dOakl3TnpJMFh6RXdNVFl4TVRZANE56RTNNemsxTnpJMUR3UjBhVzFsQmxzdWJvQUIZD'},\n",
       "   'next': 'https://graph.facebook.com/v3.0/153080620724/posts?access_token=EAACEdEose0cBAPE810YH8phFQpq49CfMDnULEzSVosejBgXSYzcHvZAD394alU3lnTYSAGlFE5xbJJPELUgBGu2F6Oijk2MzT7SLrnorc7ZAcMHZBZBYDYBQGdrsb6s0nZCebawUlPbRr4LrNwSP1ccApu0vVEZAZCIQSVWdRVll4Kne0nHszxGIeMsQt3x2j4ubwY3FbLWfwZDZD&limit=5&after=Q2c4U1pXNTBYM0YxWlhKNVgzTjBiM0o1WDJsa0R5RXhOVE13T0RBMk1qQTNNalE2TFRJME9UUTFPVEl5T0RReU56ZAzVORGt4TXpVUERHRndhVjl6ZAEc5eWVWOXBaQThlTVRVek1EZA3dOakl3TnpJMFh6RXdNVFl4TVRZAMk1qSXlPRGt3TnpJMUR3UjBhVzFsQmxzdEQ2UUIZD'}}}"
      ]
     },
     "execution_count": 22,
     "metadata": {},
     "output_type": "execute_result"
    }
   ],
   "source": [
    "r.json()"
   ]
  },
  {
   "cell_type": "code",
   "execution_count": null,
   "metadata": {},
   "outputs": [],
   "source": []
  }
 ],
 "metadata": {
  "kernelspec": {
   "display_name": "Python 3",
   "language": "python",
   "name": "python3"
  },
  "language_info": {
   "codemirror_mode": {
    "name": "ipython",
    "version": 3
   },
   "file_extension": ".py",
   "mimetype": "text/x-python",
   "name": "python",
   "nbconvert_exporter": "python",
   "pygments_lexer": "ipython3",
   "version": "3.6.4"
  }
 },
 "nbformat": 4,
 "nbformat_minor": 2
}
