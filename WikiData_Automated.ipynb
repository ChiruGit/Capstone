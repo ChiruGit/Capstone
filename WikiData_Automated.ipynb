{
 "cells": [
  {
   "cell_type": "markdown",
   "metadata": {},
   "source": [
    "## WikiData Automated"
   ]
  },
  {
   "cell_type": "code",
   "execution_count": 18,
   "metadata": {},
   "outputs": [],
   "source": [
    "import wikipediaapi\n",
    "import pywikibot\n",
    "import json"
   ]
  },
  {
   "cell_type": "code",
   "execution_count": 30,
   "metadata": {},
   "outputs": [
    {
     "name": "stdout",
     "output_type": "stream",
     "text": [
      "Loretta Sanchez\n",
      "Ron Unz\n",
      "Kamala Harris\n",
      "Duf Sundheim\n",
      "Phil Wyman\n",
      "Tom Del Beccaro\n",
      "Greg Conlon\n",
      "Page not found 6\n",
      "Steve Stokes\n",
      "Page not found 7\n",
      "George C.Yang\n",
      "Page not found 8\n",
      "Karen Roseberry\n",
      "Page not found 9\n",
      "Gail K.Lightfoot\n",
      "Page not found 10\n",
      "Massie Munroe\n",
      "Page not found 11\n",
      "Pamela Elizondo\n",
      "Page not found 12\n",
      "Tom Palzer\n",
      "Page not found 13\n",
      "Don Krampe\n",
      "Page not found 14\n",
      "Eleanor García\n",
      "Page not found 15\n",
      "Jarrell Williamson\n",
      "Page not found 16\n",
      "Von Hougo\n",
      "Page not found 17\n",
      "President Cristina Grappo\n",
      "Page not found 18\n",
      "Jerry J.Laws\n",
      "Page not found 19\n",
      "Mark Matthew Herd\n",
      "John Thompson Parker\n",
      "Page not found 21\n",
      "Ling Ling Shi\n",
      "Page not found 22\n",
      "Herbert G.Peters\n",
      "Page not found 23\n",
      "Emory Peretz Rodgers\n",
      "Page not found 24\n",
      "Mike Beitiks\n",
      "Page not found 25\n",
      "Clive Grey\n",
      "Page not found 26\n",
      "Jason Hanania\n",
      "Page not found 27\n",
      "Paul Merritt\n",
      "Page not found 28\n",
      "Jason Kraus\n",
      "Page not found 29\n",
      "Don J.Grundmann\n",
      "Page not found 30\n",
      "Scott A.Vineberg\n",
      "Page not found 31\n",
      "Tim Gildersleeve\n",
      "Page not found 32\n",
      "Gar Myers\n",
      "Page not found 33\n",
      "Billy Falling\n",
      "Page not found 34\n",
      "Ric M.Llewellyn\n",
      "Page not found 35\n",
      "Alexis Stuart\n",
      "Page not found 36\n"
     ]
    }
   ],
   "source": [
    "from time import sleep\n",
    "\n",
    "site = pywikibot.Site(\"en\", \"wikipedia\")\n",
    "req = [\"Loretta Sanchez\",\"Ron Unz\",\"Kamala Harris\",\"Duf Sundheim\",\"Phil Wyman\",\"Tom Del Beccaro\",\"Greg Conlon\",\"Steve Stokes\",\"George C.Yang\",\"Karen Roseberry\",\"Gail K.Lightfoot\",\"Massie Munroe\",\"Pamela Elizondo\",\"Tom Palzer\",\"Don Krampe\",\"Eleanor García\",\"Jarrell Williamson\",\"Von Hougo\",\"President Cristina Grappo\",\"Jerry J.Laws\",\"Mark Matthew Herd\",\"John Thompson Parker\",\"Ling Ling Shi\",\"Herbert G.Peters\",\"Emory Peretz Rodgers\",\"Mike Beitiks\",\"Clive Grey\",\"Jason Hanania\",\"Paul Merritt\",\"Jason Kraus\",\"Don J.Grundmann\",\"Scott A.Vineberg\",\"Tim Gildersleeve\",\"Gar Myers\",\"Billy Falling\",\"Ric M.Llewellyn\",\"Alexis Stuart\"]\n",
    "#req = [\"Loretta Sanchez\",\"Ron Unz\",\"Kamala Harris\"]\n",
    "page = []\n",
    "item = []\n",
    "names = []\n",
    "\n",
    "for i in range(0,len(req)):\n",
    "    sleep(0.1)\n",
    "    print(req[i])\n",
    "    #try:\n",
    "    page.append(pywikibot.Page(site, req[i]))\n",
    "    if(page[i].exists()):\n",
    "        item.append(pywikibot.ItemPage.fromPage(page[i]))\n",
    "        names.append(req[i])\n",
    "        #print(req[i], item[i])\n",
    "    else:\n",
    "        print(\"Page not found\", i)"
   ]
  },
  {
   "cell_type": "code",
   "execution_count": 31,
   "metadata": {},
   "outputs": [
    {
     "name": "stdout",
     "output_type": "stream",
     "text": [
      "[ItemPage('Q469094'), ItemPage('Q7364500'), ItemPage('Q10853588'), ItemPage('Q5544956'), ItemPage('Q7182574'), ItemPage('Q7815556'), ItemPage('Q26899192')]\n",
      "Lenght of item is  7\n",
      "Names that have wikipages are: ['Loretta Sanchez', 'Ron Unz', 'Kamala Harris', 'Duf Sundheim', 'Phil Wyman', 'Tom Del Beccaro', 'Mark Matthew Herd']\n"
     ]
    }
   ],
   "source": [
    "print(item)\n",
    "print(\"Lenght of item is \", len(item))\n",
    "print(\"Names that have wikipages are:\", names)"
   ]
  },
  {
   "cell_type": "code",
   "execution_count": 21,
   "metadata": {},
   "outputs": [
    {
     "name": "stdout",
     "output_type": "stream",
     "text": [
      "length of item_dict 7\n",
      "length of clm_dict 7\n",
      "Printing clm_dict first element {'P21': [Claim.fromJSON(DataSite(\"wikidata\", \"wikidata\"), {'mainsnak': {'snaktype': 'value', 'property': 'P21', 'datatype': 'wikibase-item', 'datavalue': {'value': {'entity-type': 'item', 'numeric-id': 6581072}, 'type': 'wikibase-entityid'}}, 'type': 'statement', 'id': 'q469094$0663E978-E8E2-432C-A9BF-4903C252EBFB', 'rank': 'normal', 'references': [{'snaks': {'P143': [{'snaktype': 'value', 'property': 'P143', 'datatype': 'wikibase-item', 'datavalue': {'value': {'entity-type': 'item', 'numeric-id': 11920}, 'type': 'wikibase-entityid'}}]}, 'snaks-order': ['P143'], 'hash': 'd5847b9b6032aa8b13dae3c2dfd9ed5d114d21b3'}]})], 'P373': [Claim.fromJSON(DataSite(\"wikidata\", \"wikidata\"), {'mainsnak': {'snaktype': 'value', 'property': 'P373', 'datatype': 'string', 'datavalue': {'value': 'Loretta Sanchez', 'type': 'string'}}, 'type': 'statement', 'id': 'q469094$2BC1C71B-C6FB-42B5-872E-1041E9FEBEEC', 'rank': 'normal', 'references': [{'snaks': {'P143': [{'snaktype': 'value', 'property': 'P143', 'datatype': 'wikibase-item', 'datavalue': {'value': {'entity-type': 'item', 'numeric-id': 328}, 'type': 'wikibase-entityid'}}]}, 'snaks-order': ['P143'], 'hash': 'fa278ebfc458360e5aed63d5058cca83c46134f1'}]})], 'P214': [Claim.fromJSON(DataSite(\"wikidata\", \"wikidata\"), {'mainsnak': {'snaktype': 'value', 'property': 'P214', 'datatype': 'external-id', 'datavalue': {'value': '31602899', 'type': 'string'}}, 'type': 'statement', 'id': 'q469094$1005FCAE-151C-4076-8F7E-CF92E660B478', 'rank': 'normal', 'references': [{'snaks': {'P143': [{'snaktype': 'value', 'property': 'P143', 'datatype': 'wikibase-item', 'datavalue': {'value': {'entity-type': 'item', 'numeric-id': 328}, 'type': 'wikibase-entityid'}}]}, 'snaks-order': ['P143'], 'hash': 'fa278ebfc458360e5aed63d5058cca83c46134f1'}]})], 'P27': [Claim.fromJSON(DataSite(\"wikidata\", \"wikidata\"), {'mainsnak': {'snaktype': 'value', 'property': 'P27', 'datatype': 'wikibase-item', 'datavalue': {'value': {'entity-type': 'item', 'numeric-id': 30}, 'type': 'wikibase-entityid'}}, 'type': 'statement', 'id': 'q469094$3E5A1105-5F9D-4E13-B623-D92304EC34F4', 'rank': 'normal'})], 'P106': [Claim.fromJSON(DataSite(\"wikidata\", \"wikidata\"), {'mainsnak': {'snaktype': 'value', 'property': 'P106', 'datatype': 'wikibase-item', 'datavalue': {'value': {'entity-type': 'item', 'numeric-id': 82955}, 'type': 'wikibase-entityid'}}, 'type': 'statement', 'id': 'q469094$C857B3E2-FF71-42BF-B3B1-315431D7F5D8', 'rank': 'normal', 'references': [{'snaks': {'P1157': [{'snaktype': 'value', 'property': 'P1157', 'datatype': 'external-id', 'datavalue': {'value': 'S000030', 'type': 'string'}}], 'P248': [{'snaktype': 'value', 'property': 'P248', 'datatype': 'wikibase-item', 'datavalue': {'value': {'entity-type': 'item', 'numeric-id': 1150348}, 'type': 'wikibase-entityid'}}]}, 'snaks-order': ['P1157', 'P248'], 'hash': '54f3736b16709eddee2a955ec6a13069469cbfec'}]}), Claim.fromJSON(DataSite(\"wikidata\", \"wikidata\"), {'mainsnak': {'snaktype': 'value', 'property': 'P106', 'datatype': 'wikibase-item', 'datavalue': {'value': {'entity-type': 'item', 'numeric-id': 1416279}, 'type': 'wikibase-entityid'}}, 'type': 'statement', 'id': 'Q469094$d45ea2b6-4fca-f13d-8d06-abe672442c07', 'rank': 'normal', 'references': [{'snaks': {'P854': [{'snaktype': 'value', 'property': 'P854', 'datatype': 'url', 'datavalue': {'value': 'http://bioguide.congress.gov/scripts/biodisplay.pl?index=S000030', 'type': 'string'}}]}, 'snaks-order': ['P854'], 'hash': '16e5b90d24346c4c796d8c0103cc955855065161'}]})], 'P39': [Claim.fromJSON(DataSite(\"wikidata\", \"wikidata\"), {'mainsnak': {'snaktype': 'value', 'property': 'P39', 'datatype': 'wikibase-item', 'datavalue': {'value': {'entity-type': 'item', 'numeric-id': 13218630}, 'type': 'wikibase-entityid'}}, 'type': 'statement', 'id': 'q469094$2AF4992B-CC7F-463C-938B-2FD3DE455884', 'rank': 'normal', 'qualifiers': {'P580': [{'snaktype': 'value', 'property': 'P580', 'datatype': 'time', 'datavalue': {'value': {'time': '+00000001997-00-00T00:00:00Z', 'precision': 9, 'after': 0, 'before': 0, 'timezone': 0, 'calendarmodel': 'http://www.wikidata.org/entity/Q1985727'}, 'type': 'time'}, 'hash': 'a49c8ed6875b6798d04009217a6aa45c567a440a'}], 'P582': [{'snaktype': 'value', 'property': 'P582', 'datatype': 'time', 'datavalue': {'value': {'time': '+00000002017-00-00T00:00:00Z', 'precision': 9, 'after': 0, 'before': 0, 'timezone': 0, 'calendarmodel': 'http://www.wikidata.org/entity/Q1985727'}, 'type': 'time'}, 'hash': '35c0020265dd882b92ff53afc3f29993e62a042f'}]}, 'qualifiers-order': ['P580', 'P582'], 'references': [{'snaks': {'P1157': [{'snaktype': 'value', 'property': 'P1157', 'datatype': 'external-id', 'datavalue': {'value': 'S000030', 'type': 'string'}}], 'P248': [{'snaktype': 'value', 'property': 'P248', 'datatype': 'wikibase-item', 'datavalue': {'value': {'entity-type': 'item', 'numeric-id': 1150348}, 'type': 'wikibase-entityid'}}]}, 'snaks-order': ['P1157', 'P248'], 'hash': '54f3736b16709eddee2a955ec6a13069469cbfec'}]})], 'P569': [Claim.fromJSON(DataSite(\"wikidata\", \"wikidata\"), {'mainsnak': {'snaktype': 'value', 'property': 'P569', 'datatype': 'time', 'datavalue': {'value': {'time': '+00000001960-01-07T00:00:00Z', 'precision': 11, 'after': 0, 'before': 0, 'timezone': 0, 'calendarmodel': 'http://www.wikidata.org/entity/Q1985727'}, 'type': 'time'}}, 'type': 'statement', 'id': 'q469094$605879D3-4530-442B-8109-6629E2051823', 'rank': 'normal', 'references': [{'snaks': {'P1157': [{'snaktype': 'value', 'property': 'P1157', 'datatype': 'external-id', 'datavalue': {'value': 'S000030', 'type': 'string'}}], 'P248': [{'snaktype': 'value', 'property': 'P248', 'datatype': 'wikibase-item', 'datavalue': {'value': {'entity-type': 'item', 'numeric-id': 1150348}, 'type': 'wikibase-entityid'}}]}, 'snaks-order': ['P1157', 'P248'], 'hash': '54f3736b16709eddee2a955ec6a13069469cbfec'}, {'snaks': {'P248': [{'snaktype': 'value', 'property': 'P248', 'datatype': 'wikibase-item', 'datavalue': {'value': {'entity-type': 'item', 'numeric-id': 29861311}, 'type': 'wikibase-entityid'}}], 'P3430': [{'snaktype': 'value', 'property': 'P3430', 'datatype': 'external-id', 'datavalue': {'value': 'w6709njf', 'type': 'string'}}], 'P1810': [{'snaktype': 'value', 'property': 'P1810', 'datatype': 'string', 'datavalue': {'value': 'Loretta Sanchez', 'type': 'string'}}], 'P813': [{'snaktype': 'value', 'property': 'P813', 'datatype': 'time', 'datavalue': {'value': {'time': '+00000002017-10-09T00:00:00Z', 'precision': 11, 'after': 0, 'before': 0, 'timezone': 0, 'calendarmodel': 'http://www.wikidata.org/entity/Q1985727'}, 'type': 'time'}}]}, 'snaks-order': ['P248', 'P3430', 'P1810', 'P813'], 'hash': '4f8339c44c6c09feda4e118b994173c2970ced89'}]})], 'P102': [Claim.fromJSON(DataSite(\"wikidata\", \"wikidata\"), {'mainsnak': {'snaktype': 'value', 'property': 'P102', 'datatype': 'wikibase-item', 'datavalue': {'value': {'entity-type': 'item', 'numeric-id': 29552}, 'type': 'wikibase-entityid'}}, 'type': 'statement', 'id': 'Q469094$243DAC3F-60AD-4280-BFDC-9E01B6DF0AFC', 'rank': 'normal', 'references': [{'snaks': {'P1157': [{'snaktype': 'value', 'property': 'P1157', 'datatype': 'external-id', 'datavalue': {'value': 'S000030', 'type': 'string'}}], 'P248': [{'snaktype': 'value', 'property': 'P248', 'datatype': 'wikibase-item', 'datavalue': {'value': {'entity-type': 'item', 'numeric-id': 1150348}, 'type': 'wikibase-entityid'}}]}, 'snaks-order': ['P1157', 'P248'], 'hash': '54f3736b16709eddee2a955ec6a13069469cbfec'}]})], 'P69': [Claim.fromJSON(DataSite(\"wikidata\", \"wikidata\"), {'mainsnak': {'snaktype': 'value', 'property': 'P69', 'datatype': 'wikibase-item', 'datavalue': {'value': {'entity-type': 'item', 'numeric-id': 1805085}, 'type': 'wikibase-entityid'}}, 'type': 'statement', 'id': 'Q469094$BA550D10-EE9C-4E09-B042-2D390FB740A7', 'rank': 'normal', 'qualifiers': {'P582': [{'snaktype': 'value', 'property': 'P582', 'datatype': 'time', 'datavalue': {'value': {'time': '+00000001982-00-00T00:00:00Z', 'precision': 9, 'after': 0, 'before': 0, 'timezone': 0, 'calendarmodel': 'http://www.wikidata.org/entity/Q1985727'}, 'type': 'time'}, 'hash': '64be76f2e088bc28da1519ef7db32663c0feebbd'}], 'P276': [{'snaktype': 'value', 'property': 'P276', 'datatype': 'wikibase-item', 'datavalue': {'value': {'entity-type': 'item', 'numeric-id': 491350}, 'type': 'wikibase-entityid'}, 'hash': '10f4ed733abde6ae8f3621e282fc578bef647f9b'}], 'P512': [{'snaktype': 'value', 'property': 'P512', 'datatype': 'wikibase-item', 'datavalue': {'value': {'entity-type': 'item', 'numeric-id': 1765120}, 'type': 'wikibase-entityid'}, 'hash': 'e1bbba02ae21a15bcef937d017c8142e5cf73a88'}]}, 'qualifiers-order': ['P582', 'P276', 'P512'], 'references': [{'snaks': {'P1157': [{'snaktype': 'value', 'property': 'P1157', 'datatype': 'external-id', 'datavalue': {'value': 'S000030', 'type': 'string'}}], 'P248': [{'snaktype': 'value', 'property': 'P248', 'datatype': 'wikibase-item', 'datavalue': {'value': {'entity-type': 'item', 'numeric-id': 1150348}, 'type': 'wikibase-entityid'}}]}, 'snaks-order': ['P1157', 'P248'], 'hash': '54f3736b16709eddee2a955ec6a13069469cbfec'}]}), Claim.fromJSON(DataSite(\"wikidata\", \"wikidata\"), {'mainsnak': {'snaktype': 'value', 'property': 'P69', 'datatype': 'wikibase-item', 'datavalue': {'value': {'entity-type': 'item', 'numeric-id': 9842}, 'type': 'wikibase-entityid'}}, 'type': 'statement', 'id': 'Q469094$254e4049-436f-a8f1-0ff7-2e625b7a9abf', 'rank': 'normal', 'qualifiers': {'P276': [{'snaktype': 'value', 'property': 'P276', 'datatype': 'wikibase-item', 'datavalue': {'value': {'entity-type': 'item', 'numeric-id': 49247}, 'type': 'wikibase-entityid'}, 'hash': '6c24568cb737bef0a3ad3e72cd0e87cec4486604'}], 'P3831': [{'snaktype': 'value', 'property': 'P3831', 'datatype': 'wikibase-item', 'datavalue': {'value': {'entity-type': 'item', 'numeric-id': 1080794}, 'type': 'wikibase-entityid'}, 'hash': 'd973b67e34557cb00cc955d0a72ef9acbe1cd888'}]}, 'qualifiers-order': ['P276', 'P3831'], 'references': [{'snaks': {'P2699': [{'snaktype': 'value', 'property': 'P2699', 'datatype': 'url', 'datavalue': {'value': 'http://bioguide.congress.gov/scripts/biodisplay.pl?index=S000030', 'type': 'string'}}]}, 'snaks-order': ['P2699'], 'hash': '43a57b834f264b5bece6f6a0b0ee79cba6cb96b9'}]}), Claim.fromJSON(DataSite(\"wikidata\", \"wikidata\"), {'mainsnak': {'snaktype': 'value', 'property': 'P69', 'datatype': 'wikibase-item', 'datavalue': {'value': {'entity-type': 'item', 'numeric-id': 168000}, 'type': 'wikibase-entityid'}}, 'type': 'statement', 'id': 'Q469094$bf9ce999-4169-cbd7-4341-7f33127ccca9', 'rank': 'normal', 'qualifiers': {'P276': [{'snaktype': 'value', 'property': 'P276', 'datatype': 'wikibase-item', 'datavalue': {'value': {'entity-type': 'item', 'numeric-id': 61}, 'type': 'wikibase-entityid'}, 'hash': '1071ae6d2d5a5e1d8e3be70c92efa3ad992a3b11'}], 'P512': [{'snaktype': 'value', 'property': 'P512', 'datatype': 'wikibase-item', 'datavalue': {'value': {'entity-type': 'item', 'numeric-id': 191701}, 'type': 'wikibase-entityid'}, 'hash': '2e6c7466077fd683392662d57fac134f08d249d8'}], 'P582': [{'snaktype': 'value', 'property': 'P582', 'datatype': 'time', 'datavalue': {'value': {'time': '+00000001982-00-00T00:00:00Z', 'precision': 9, 'after': 0, 'before': 0, 'timezone': 0, 'calendarmodel': 'http://www.wikidata.org/entity/Q1985727'}, 'type': 'time'}, 'hash': '64be76f2e088bc28da1519ef7db32663c0feebbd'}]}, 'qualifiers-order': ['P276', 'P512', 'P582'], 'references': [{'snaks': {'P854': [{'snaktype': 'value', 'property': 'P854', 'datatype': 'url', 'datavalue': {'value': 'http://bioguide.congress.gov/scripts/biodisplay.pl?index=S000030', 'type': 'string'}}]}, 'snaks-order': ['P854'], 'hash': '16e5b90d24346c4c796d8c0103cc955855065161'}]})], 'P31': [Claim.fromJSON(DataSite(\"wikidata\", \"wikidata\"), {'mainsnak': {'snaktype': 'value', 'property': 'P31', 'datatype': 'wikibase-item', 'datavalue': {'value': {'entity-type': 'item', 'numeric-id': 5}, 'type': 'wikibase-entityid'}}, 'type': 'statement', 'id': 'Q469094$1C0B0F72-5EC5-4D2A-B703-B3E31E8E3B52', 'rank': 'normal', 'references': [{'snaks': {'P143': [{'snaktype': 'value', 'property': 'P143', 'datatype': 'wikibase-item', 'datavalue': {'value': {'entity-type': 'item', 'numeric-id': 328}, 'type': 'wikibase-entityid'}}]}, 'snaks-order': ['P143'], 'hash': 'fa278ebfc458360e5aed63d5058cca83c46134f1'}]})], 'P19': [Claim.fromJSON(DataSite(\"wikidata\", \"wikidata\"), {'mainsnak': {'snaktype': 'value', 'property': 'P19', 'datatype': 'wikibase-item', 'datavalue': {'value': {'entity-type': 'item', 'numeric-id': 849619}, 'type': 'wikibase-entityid'}}, 'type': 'statement', 'id': 'Q469094$3C8D9D35-5711-4B67-8B13-81498866BD7A', 'rank': 'normal', 'references': [{'snaks': {'P1157': [{'snaktype': 'value', 'property': 'P1157', 'datatype': 'external-id', 'datavalue': {'value': 'S000030', 'type': 'string'}}], 'P248': [{'snaktype': 'value', 'property': 'P248', 'datatype': 'wikibase-item', 'datavalue': {'value': {'entity-type': 'item', 'numeric-id': 1150348}, 'type': 'wikibase-entityid'}}]}, 'snaks-order': ['P1157', 'P248'], 'hash': '54f3736b16709eddee2a955ec6a13069469cbfec'}]})], 'P646': [Claim.fromJSON(DataSite(\"wikidata\", \"wikidata\"), {'mainsnak': {'snaktype': 'value', 'property': 'P646', 'datatype': 'external-id', 'datavalue': {'value': '/m/0jbty', 'type': 'string'}}, 'type': 'statement', 'id': 'Q469094$4450FBA2-6F15-49E0-8E76-F48787682524', 'rank': 'normal', 'references': [{'snaks': {'P248': [{'snaktype': 'value', 'property': 'P248', 'datatype': 'wikibase-item', 'datavalue': {'value': {'entity-type': 'item', 'numeric-id': 15241312}, 'type': 'wikibase-entityid'}}], 'P577': [{'snaktype': 'value', 'property': 'P577', 'datatype': 'time', 'datavalue': {'value': {'time': '+00000002013-10-28T00:00:00Z', 'precision': 11, 'after': 0, 'before': 0, 'timezone': 0, 'calendarmodel': 'http://www.wikidata.org/entity/Q1985727'}, 'type': 'time'}}]}, 'snaks-order': ['P248', 'P577'], 'hash': '2b00cb481cddcac7623114367489b5c194901c4a'}]})], 'P244': [Claim.fromJSON(DataSite(\"wikidata\", \"wikidata\"), {'mainsnak': {'snaktype': 'value', 'property': 'P244', 'datatype': 'external-id', 'datavalue': {'value': 'no97049117', 'type': 'string'}}, 'type': 'statement', 'id': 'Q469094$31E71389-1E63-4F21-85A1-D4784C46BA94', 'rank': 'normal', 'references': [{'snaks': {'P143': [{'snaktype': 'value', 'property': 'P143', 'datatype': 'wikibase-item', 'datavalue': {'value': {'entity-type': 'item', 'numeric-id': 15156406}, 'type': 'wikibase-entityid'}}]}, 'snaks-order': ['P143'], 'hash': 'ec9d6c051e63c366db711b35fcaeec2a43b4b735'}]})], 'P735': [Claim.fromJSON(DataSite(\"wikidata\", \"wikidata\"), {'mainsnak': {'snaktype': 'value', 'property': 'P735', 'datatype': 'wikibase-item', 'datavalue': {'value': {'entity-type': 'item', 'numeric-id': 1870273}, 'type': 'wikibase-entityid'}}, 'type': 'statement', 'id': 'Q469094$E65E8234-4535-4215-AB5A-384F1BF41944', 'rank': 'normal'})], 'P18': [Claim.fromJSON(DataSite(\"wikidata\", \"wikidata\"), {'mainsnak': {'snaktype': 'value', 'property': 'P18', 'datatype': 'commonsMedia', 'datavalue': {'value': 'Loretta Sanchez official photo.jpg', 'type': 'string'}}, 'type': 'statement', 'id': 'Q469094$7AD4315C-B6D6-433C-890C-B200B313FB9B', 'rank': 'normal'})], 'P1157': [Claim.fromJSON(DataSite(\"wikidata\", \"wikidata\"), {'mainsnak': {'snaktype': 'value', 'property': 'P1157', 'datatype': 'external-id', 'datavalue': {'value': 'S000030', 'type': 'string'}}, 'type': 'statement', 'id': 'Q469094$07dd1d0e-4840-7727-c0dd-8a45d7c76c4e', 'rank': 'normal'})], 'P2002': [Claim.fromJSON(DataSite(\"wikidata\", \"wikidata\"), {'mainsnak': {'snaktype': 'value', 'property': 'P2002', 'datatype': 'external-id', 'datavalue': {'value': 'LorettaSanchez', 'type': 'string'}}, 'type': 'statement', 'id': 'Q469094$C5D33791-F8B1-467E-924B-3F9B776F2A40', 'rank': 'normal', 'qualifiers': {'P3744': [{'snaktype': 'value', 'property': 'P3744', 'datatype': 'quantity', 'datavalue': {'value': {'amount': '+19274', 'upperBound': None, 'lowerBound': None, 'unit': '1'}, 'type': 'quantity'}, 'hash': '2564a878607b7c05e4334be7222743a8b0110e33'}]}, 'qualifiers-order': ['P3744'], 'references': [{'snaks': {'P143': [{'snaktype': 'value', 'property': 'P143', 'datatype': 'wikibase-item', 'datavalue': {'value': {'entity-type': 'item', 'numeric-id': 328}, 'type': 'wikibase-entityid'}}]}, 'snaks-order': ['P143'], 'hash': 'fa278ebfc458360e5aed63d5058cca83c46134f1'}, {'snaks': {'P813': [{'snaktype': 'value', 'property': 'P813', 'datatype': 'time', 'datavalue': {'value': {'time': '+00000002018-05-10T00:00:00Z', 'precision': 11, 'after': 0, 'before': 0, 'timezone': 0, 'calendarmodel': 'http://www.wikidata.org/entity/Q1985727'}, 'type': 'time'}}]}, 'snaks-order': ['P813'], 'hash': '830e0d3d65e6b91e769889d7d1177706b5c1e0ca'}]})], 'P2013': [Claim.fromJSON(DataSite(\"wikidata\", \"wikidata\"), {'mainsnak': {'snaktype': 'value', 'property': 'P2013', 'datatype': 'external-id', 'datavalue': {'value': 'LorettaSanchez', 'type': 'string'}}, 'type': 'statement', 'id': 'Q469094$F3460839-EF2D-435C-99B4-A93A7BC2C760', 'rank': 'normal', 'references': [{'snaks': {'P143': [{'snaktype': 'value', 'property': 'P143', 'datatype': 'wikibase-item', 'datavalue': {'value': {'entity-type': 'item', 'numeric-id': 328}, 'type': 'wikibase-entityid'}}]}, 'snaks-order': ['P143'], 'hash': 'fa278ebfc458360e5aed63d5058cca83c46134f1'}]})], 'P2267': [Claim.fromJSON(DataSite(\"wikidata\", \"wikidata\"), {'mainsnak': {'snaktype': 'value', 'property': 'P2267', 'datatype': 'external-id', 'datavalue': {'value': 'loretta-sanchez', 'type': 'string'}}, 'type': 'statement', 'id': 'Q469094$361BFCEA-09DB-4D0B-B6A9-5020D300C8E6', 'rank': 'normal'})], 'P2163': [Claim.fromJSON(DataSite(\"wikidata\", \"wikidata\"), {'mainsnak': {'snaktype': 'value', 'property': 'P2163', 'datatype': 'external-id', 'datavalue': {'value': '396239', 'type': 'string'}}, 'type': 'statement', 'id': 'Q469094$2A19F6BB-51E0-43B8-84E6-B312F30DF07F', 'rank': 'normal'})], 'P937': [Claim.fromJSON(DataSite(\"wikidata\", \"wikidata\"), {'mainsnak': {'snaktype': 'value', 'property': 'P937', 'datatype': 'wikibase-item', 'datavalue': {'value': {'entity-type': 'item', 'numeric-id': 61}, 'type': 'wikibase-entityid'}}, 'type': 'statement', 'id': 'Q469094$BB058555-EBCE-4A15-81C1-11AB8DA4F656', 'rank': 'normal', 'references': [{'snaks': {'P143': [{'snaktype': 'value', 'property': 'P143', 'datatype': 'wikibase-item', 'datavalue': {'value': {'entity-type': 'item', 'numeric-id': 48183}, 'type': 'wikibase-entityid'}}]}, 'snaks-order': ['P143'], 'hash': '9a24f7c0208b05d6be97077d855671d1dfdbc0dd'}, {'snaks': {'P143': [{'snaktype': 'value', 'property': 'P143', 'datatype': 'wikibase-item', 'datavalue': {'value': {'entity-type': 'item', 'numeric-id': 328}, 'type': 'wikibase-entityid'}}]}, 'snaks-order': ['P143'], 'hash': 'fa278ebfc458360e5aed63d5058cca83c46134f1'}]})], 'P2686': [Claim.fromJSON(DataSite(\"wikidata\", \"wikidata\"), {'mainsnak': {'snaktype': 'value', 'property': 'P2686', 'datatype': 'external-id', 'datavalue': {'value': 'N00008274', 'type': 'string'}}, 'type': 'statement', 'id': 'Q469094$3497660C-7073-4DDD-90DA-71FB7975082E', 'rank': 'normal'})], 'P2397': [Claim.fromJSON(DataSite(\"wikidata\", \"wikidata\"), {'mainsnak': {'snaktype': 'value', 'property': 'P2397', 'datatype': 'external-id', 'datavalue': {'value': 'UCsPNjUsu5AvCJnVrdW_XjwA', 'type': 'string'}}, 'type': 'statement', 'id': 'Q469094$CC3FF76A-7270-45C9-83DB-7F3E0B3FD97A', 'rank': 'normal', 'references': [{'snaks': {'P854': [{'snaktype': 'value', 'property': 'P854', 'datatype': 'url', 'datavalue': {'value': 'https://github.com/unitedstates/congress-legislators', 'type': 'string'}}]}, 'snaks-order': ['P854'], 'hash': '88a6158926f29208f984704e88b4b1220a5dc2a1'}]})], 'P140': [Claim.fromJSON(DataSite(\"wikidata\", \"wikidata\"), {'mainsnak': {'snaktype': 'value', 'property': 'P140', 'datatype': 'wikibase-item', 'datavalue': {'value': {'entity-type': 'item', 'numeric-id': 9592}, 'type': 'wikibase-entityid'}}, 'type': 'statement', 'id': 'Q469094$1E92A99F-C1B3-4A7C-A1DA-3DD508867CE8', 'rank': 'normal', 'references': [{'snaks': {'P854': [{'snaktype': 'value', 'property': 'P854', 'datatype': 'url', 'datavalue': {'value': 'https://github.com/unitedstates/congress-legislators', 'type': 'string'}}]}, 'snaks-order': ['P854'], 'hash': '88a6158926f29208f984704e88b4b1220a5dc2a1'}]})], 'P1839': [Claim.fromJSON(DataSite(\"wikidata\", \"wikidata\"), {'mainsnak': {'snaktype': 'value', 'property': 'P1839', 'datatype': 'external-id', 'datavalue': {'value': 'H6CA46033', 'type': 'string'}}, 'type': 'statement', 'id': 'Q469094$C2398A6D-250A-4694-88FE-CB22F70B4AD1', 'rank': 'normal', 'references': [{'snaks': {'P854': [{'snaktype': 'value', 'property': 'P854', 'datatype': 'url', 'datavalue': {'value': 'https://github.com/unitedstates/congress-legislators', 'type': 'string'}}]}, 'snaks-order': ['P854'], 'hash': '88a6158926f29208f984704e88b4b1220a5dc2a1'}]})], 'P1559': [Claim.fromJSON(DataSite(\"wikidata\", \"wikidata\"), {'mainsnak': {'snaktype': 'value', 'property': 'P1559', 'datatype': 'monolingualtext', 'datavalue': {'value': {'text': 'Loretta Sanchez', 'language': 'en'}, 'type': 'monolingualtext'}}, 'type': 'statement', 'id': 'Q469094$F0AE3E54-43D7-4257-BAE8-6DE032063885', 'rank': 'normal', 'references': [{'snaks': {'P143': [{'snaktype': 'value', 'property': 'P143', 'datatype': 'wikibase-item', 'datavalue': {'value': {'entity-type': 'item', 'numeric-id': 328}, 'type': 'wikibase-entityid'}}]}, 'snaks-order': ['P143'], 'hash': 'fa278ebfc458360e5aed63d5058cca83c46134f1'}]})], 'P856': [Claim.fromJSON(DataSite(\"wikidata\", \"wikidata\"), {'mainsnak': {'snaktype': 'value', 'property': 'P856', 'datatype': 'url', 'datavalue': {'value': 'http://www.loretta.org/', 'type': 'string'}}, 'type': 'statement', 'id': 'Q469094$C1C9041F-D0CE-4797-AC35-B1B052105D79', 'rank': 'normal'})], 'P345': [Claim.fromJSON(DataSite(\"wikidata\", \"wikidata\"), {'mainsnak': {'snaktype': 'value', 'property': 'P345', 'datatype': 'external-id', 'datavalue': {'value': 'nm1792898', 'type': 'string'}}, 'type': 'statement', 'id': 'Q469094$5E4E7345-F4A6-44BA-A39F-FA973FAA461A', 'rank': 'normal'})], 'P3344': [Claim.fromJSON(DataSite(\"wikidata\", \"wikidata\"), {'mainsnak': {'snaktype': 'value', 'property': 'P3344', 'datatype': 'external-id', 'datavalue': {'value': '203', 'type': 'string'}}, 'type': 'statement', 'id': 'Q469094$17FF6F3B-A925-44E7-B16C-B64A8D5A5C44', 'rank': 'normal', 'references': [{'snaks': {'P143': [{'snaktype': 'value', 'property': 'P143', 'datatype': 'wikibase-item', 'datavalue': {'value': {'entity-type': 'item', 'numeric-id': 328}, 'type': 'wikibase-entityid'}}]}, 'snaks-order': ['P143'], 'hash': 'fa278ebfc458360e5aed63d5058cca83c46134f1'}]})], 'P1412': [Claim.fromJSON(DataSite(\"wikidata\", \"wikidata\"), {'mainsnak': {'snaktype': 'value', 'property': 'P1412', 'datatype': 'wikibase-item', 'datavalue': {'value': {'entity-type': 'item', 'numeric-id': 1860}, 'type': 'wikibase-entityid'}}, 'type': 'statement', 'id': 'Q469094$382AE378-E9B6-44E2-99EC-69EAEFDF8C33', 'rank': 'normal', 'references': [{'snaks': {'P143': [{'snaktype': 'value', 'property': 'P143', 'datatype': 'wikibase-item', 'datavalue': {'value': {'entity-type': 'item', 'numeric-id': 328}, 'type': 'wikibase-entityid'}}]}, 'snaks-order': ['P143'], 'hash': 'fa278ebfc458360e5aed63d5058cca83c46134f1'}]})], 'P3430': [Claim.fromJSON(DataSite(\"wikidata\", \"wikidata\"), {'mainsnak': {'snaktype': 'value', 'property': 'P3430', 'datatype': 'external-id', 'datavalue': {'value': 'w6709njf', 'type': 'string'}}, 'type': 'statement', 'id': 'Q469094$9A5DD215-19D6-4829-BFEE-2523034A7BFB', 'rank': 'normal'})], 'P3373': [Claim.fromJSON(DataSite(\"wikidata\", \"wikidata\"), {'mainsnak': {'snaktype': 'value', 'property': 'P3373', 'datatype': 'wikibase-item', 'datavalue': {'value': {'entity-type': 'item', 'numeric-id': 291143}, 'type': 'wikibase-entityid'}}, 'type': 'statement', 'id': 'Q469094$82D4EE69-296A-4C51-B98F-FB3B310AF1B6', 'rank': 'normal', 'references': [{'snaks': {'P143': [{'snaktype': 'value', 'property': 'P143', 'datatype': 'wikibase-item', 'datavalue': {'value': {'entity-type': 'item', 'numeric-id': 8447}, 'type': 'wikibase-entityid'}}]}, 'snaks-order': ['P143'], 'hash': 'd4bd87b862b12d99d26e86472d44f26858dee639'}]})], 'P1263': [Claim.fromJSON(DataSite(\"wikidata\", \"wikidata\"), {'mainsnak': {'snaktype': 'value', 'property': 'P1263', 'datatype': 'external-id', 'datavalue': {'value': '303/000040183', 'type': 'string'}}, 'type': 'statement', 'id': 'Q469094$3232E63D-A574-4171-B412-8D0788C7E356', 'rank': 'normal'})], 'P2847': [Claim.fromJSON(DataSite(\"wikidata\", \"wikidata\"), {'mainsnak': {'snaktype': 'value', 'property': 'P2847', 'datatype': 'external-id', 'datavalue': {'value': '103852560674682548800', 'type': 'string'}}, 'type': 'statement', 'id': 'Q469094$030EF91D-BDC1-4B57-A929-FEC25855A3CA', 'rank': 'normal', 'references': [{'snaks': {'P854': [{'snaktype': 'value', 'property': 'P854', 'datatype': 'url', 'datavalue': {'value': 'https://www.youtube.com/channel/UCsPNjUsu5AvCJnVrdW_XjwA', 'type': 'string'}}]}, 'snaks-order': ['P854'], 'hash': 'fdc93f6c1f31bd9eaa5b66353841d15f96a12797'}]})], 'P734': [Claim.fromJSON(DataSite(\"wikidata\", \"wikidata\"), {'mainsnak': {'snaktype': 'value', 'property': 'P734', 'datatype': 'wikibase-item', 'datavalue': {'value': {'entity-type': 'item', 'numeric-id': 1158617}, 'type': 'wikibase-entityid'}}, 'type': 'statement', 'id': 'Q469094$64D41DAF-B275-4080-85BE-717335FF973E', 'rank': 'normal'})], 'P213': [Claim.fromJSON(DataSite(\"wikidata\", \"wikidata\"), {'mainsnak': {'snaktype': 'value', 'property': 'P213', 'datatype': 'external-id', 'datavalue': {'value': '0000 0000 4611 2746', 'type': 'string'}}, 'type': 'statement', 'id': 'Q469094$7AE115A2-27B4-45B8-8B04-507475F6E38F', 'rank': 'normal'})], 'P109': [Claim.fromJSON(DataSite(\"wikidata\", \"wikidata\"), {'mainsnak': {'snaktype': 'value', 'property': 'P109', 'datatype': 'commonsMedia', 'datavalue': {'value': \"Loretta Sanchez's Signature.png\", 'type': 'string'}}, 'type': 'statement', 'id': 'Q469094$18664C70-E079-4508-9D67-D40774F6E6D4', 'rank': 'normal', 'references': [{'snaks': {'P143': [{'snaktype': 'value', 'property': 'P143', 'datatype': 'wikibase-item', 'datavalue': {'value': {'entity-type': 'item', 'numeric-id': 328}, 'type': 'wikibase-entityid'}}]}, 'snaks-order': ['P143'], 'hash': 'fa278ebfc458360e5aed63d5058cca83c46134f1'}]})]}\n"
     ]
    }
   ],
   "source": [
    "item_dict = []\n",
    "clm_dict = []\n",
    "\n",
    "for i in range(0,len(item)):  \n",
    "    item_dict.append(item[i].get())\n",
    "    clm_dict.append(item_dict[i][\"claims\"])\n",
    " \n",
    "\n",
    "print(\"length of item_dict\",len(item_dict))\n",
    "print(\"length of clm_dict\", len(clm_dict))\n",
    "print(\"Printing clm_dict first element\",clm_dict[0])\n"
   ]
  },
  {
   "cell_type": "markdown",
   "metadata": {},
   "source": [
    "### Get Education Fields for all senators"
   ]
  },
  {
   "cell_type": "code",
   "execution_count": 22,
   "metadata": {},
   "outputs": [
    {
     "name": "stdout",
     "output_type": "stream",
     "text": [
      "7\n"
     ]
    }
   ],
   "source": [
    "#P69 is the code for \"education\" field\n",
    "clm_list = []\n",
    "for i in range(0,len(item)):\n",
    "    clm_list.append(clm_dict[i][\"P69\"])\n",
    "    \n",
    "print(len(clm_list))"
   ]
  },
  {
   "cell_type": "code",
   "execution_count": 23,
   "metadata": {},
   "outputs": [
    {
     "data": {
      "text/plain": [
       "[Claim.fromJSON(DataSite(\"wikidata\", \"wikidata\"), {'mainsnak': {'snaktype': 'value', 'property': 'P69', 'datatype': 'wikibase-item', 'datavalue': {'value': {'entity-type': 'item', 'numeric-id': 13371}, 'type': 'wikibase-entityid'}}, 'type': 'statement', 'id': 'Q7364500$CF02D9EF-11BE-4FC7-8BAD-2AED220142C0', 'rank': 'normal', 'references': [{'snaks': {'P143': [{'snaktype': 'value', 'property': 'P143', 'datatype': 'wikibase-item', 'datavalue': {'value': {'entity-type': 'item', 'numeric-id': 328}, 'type': 'wikibase-entityid'}}]}, 'snaks-order': ['P143'], 'hash': 'fa278ebfc458360e5aed63d5058cca83c46134f1'}]}),\n",
       " Claim.fromJSON(DataSite(\"wikidata\", \"wikidata\"), {'mainsnak': {'snaktype': 'value', 'property': 'P69', 'datatype': 'wikibase-item', 'datavalue': {'value': {'entity-type': 'item', 'numeric-id': 41506}, 'type': 'wikibase-entityid'}}, 'type': 'statement', 'id': 'Q7364500$724EF85D-801F-42F3-8FB6-B36EAC15D8C0', 'rank': 'normal'})]"
      ]
     },
     "execution_count": 23,
     "metadata": {},
     "output_type": "execute_result"
    }
   ],
   "source": [
    "clm_list[1]"
   ]
  },
  {
   "cell_type": "code",
   "execution_count": 28,
   "metadata": {},
   "outputs": [
    {
     "name": "stdout",
     "output_type": "stream",
     "text": [
      "0\n",
      "[[wikidata:Q1805085]]\n",
      "['Chapman University']\n",
      "0\n",
      "[[wikidata:Q9842]]\n",
      "['Chapman University', 'primary school']\n",
      "0\n",
      "[[wikidata:Q168000]]\n",
      "['Chapman University', 'primary school', 'American University']\n",
      "1\n",
      "[[wikidata:Q13371]]\n",
      "['Harvard University']\n",
      "1\n",
      "[[wikidata:Q41506]]\n",
      "['Harvard University', 'Stanford University']\n",
      "2\n",
      "[[wikidata:Q1068752]]\n",
      "['Howard University']\n",
      "2\n",
      "[[wikidata:Q3577853]]\n",
      "['Howard University', 'University of California, Hastings College of the Law']\n",
      "3\n",
      "[[wikidata:Q41506]]\n",
      "['Stanford University']\n",
      "3\n",
      "[[wikidata:Q7060409]]\n",
      "['Stanford University', 'Northwestern University School of Law']\n",
      "4\n",
      "[[wikidata:Q129421]]\n",
      "['University of California, Davis']\n",
      "5\n",
      "[[wikidata:Q168756]]\n",
      "['University of California, Berkeley']\n",
      "5\n",
      "[[wikidata:Q992830]]\n",
      "['University of California, Berkeley', 'Santa Clara University']\n",
      "6\n",
      "[[wikidata:Q7894738]]\n",
      "['University High School']\n",
      "6\n",
      "[[wikidata:Q503419]]\n",
      "['University High School', 'University of Arizona']\n"
     ]
    }
   ],
   "source": [
    "#repo = site.data_repository()\n",
    "clm_list_values = []\n",
    "item_labels = []\n",
    "for i in range(0,len(item)):\n",
    "    clm_list_values.append([])\n",
    "    item_labels.append([])\n",
    "    for clm in clm_list[i]:\n",
    "        ...     \n",
    "        #j=0\n",
    "        clm_trgt = clm.getTarget()\n",
    "        clm_list_values[i].append(clm_trgt)\n",
    "        itemp = pywikibot.ItemPage(repo, clm_trgt.title())\n",
    "        item_dictp = itemp.get()\n",
    "        item_labels[i].append(itemp.labels['en'])\n",
    "        print(i)\n",
    "        print(clm_trgt)\n",
    "        print(item_labels[i])\n",
    "        #j= j+1"
   ]
  },
  {
   "cell_type": "code",
   "execution_count": 29,
   "metadata": {},
   "outputs": [
    {
     "name": "stdout",
     "output_type": "stream",
     "text": [
      "7\n",
      "[[ItemPage('Q1805085'), ItemPage('Q9842'), ItemPage('Q168000')], [ItemPage('Q13371'), ItemPage('Q41506')], [ItemPage('Q1068752'), ItemPage('Q3577853')], [ItemPage('Q41506'), ItemPage('Q7060409')], [ItemPage('Q129421')], [ItemPage('Q168756'), ItemPage('Q992830')], [ItemPage('Q7894738'), ItemPage('Q503419')]]\n",
      "[['Chapman University', 'primary school', 'American University'], ['Harvard University', 'Stanford University'], ['Howard University', 'University of California, Hastings College of the Law'], ['Stanford University', 'Northwestern University School of Law'], ['University of California, Davis'], ['University of California, Berkeley', 'Santa Clara University'], ['University High School', 'University of Arizona']]\n"
     ]
    }
   ],
   "source": [
    "print(len(clm_list_values))\n",
    "print(clm_list_values)\n",
    "print(item_labels)"
   ]
  },
  {
   "cell_type": "code",
   "execution_count": 35,
   "metadata": {},
   "outputs": [],
   "source": [
    "import pandas as pd\n",
    "education_df = pd.DataFrame(item_labels)\n",
    "df= pd.Data"
   ]
  },
  {
   "cell_type": "code",
   "execution_count": 36,
   "metadata": {},
   "outputs": [
    {
     "data": {
      "text/html": [
       "<div>\n",
       "<style scoped>\n",
       "    .dataframe tbody tr th:only-of-type {\n",
       "        vertical-align: middle;\n",
       "    }\n",
       "\n",
       "    .dataframe tbody tr th {\n",
       "        vertical-align: top;\n",
       "    }\n",
       "\n",
       "    .dataframe thead th {\n",
       "        text-align: right;\n",
       "    }\n",
       "</style>\n",
       "<table border=\"1\" class=\"dataframe\">\n",
       "  <thead>\n",
       "    <tr style=\"text-align: right;\">\n",
       "      <th></th>\n",
       "      <th>0</th>\n",
       "      <th>1</th>\n",
       "      <th>2</th>\n",
       "    </tr>\n",
       "  </thead>\n",
       "  <tbody>\n",
       "    <tr>\n",
       "      <th>0</th>\n",
       "      <td>Chapman University</td>\n",
       "      <td>primary school</td>\n",
       "      <td>American University</td>\n",
       "    </tr>\n",
       "    <tr>\n",
       "      <th>1</th>\n",
       "      <td>Harvard University</td>\n",
       "      <td>Stanford University</td>\n",
       "      <td>None</td>\n",
       "    </tr>\n",
       "    <tr>\n",
       "      <th>2</th>\n",
       "      <td>Howard University</td>\n",
       "      <td>University of California, Hastings College of ...</td>\n",
       "      <td>None</td>\n",
       "    </tr>\n",
       "    <tr>\n",
       "      <th>3</th>\n",
       "      <td>Stanford University</td>\n",
       "      <td>Northwestern University School of Law</td>\n",
       "      <td>None</td>\n",
       "    </tr>\n",
       "    <tr>\n",
       "      <th>4</th>\n",
       "      <td>University of California, Davis</td>\n",
       "      <td>None</td>\n",
       "      <td>None</td>\n",
       "    </tr>\n",
       "    <tr>\n",
       "      <th>5</th>\n",
       "      <td>University of California, Berkeley</td>\n",
       "      <td>Santa Clara University</td>\n",
       "      <td>None</td>\n",
       "    </tr>\n",
       "    <tr>\n",
       "      <th>6</th>\n",
       "      <td>University High School</td>\n",
       "      <td>University of Arizona</td>\n",
       "      <td>None</td>\n",
       "    </tr>\n",
       "  </tbody>\n",
       "</table>\n",
       "</div>"
      ],
      "text/plain": [
       "                                    0  \\\n",
       "0                  Chapman University   \n",
       "1                  Harvard University   \n",
       "2                   Howard University   \n",
       "3                 Stanford University   \n",
       "4     University of California, Davis   \n",
       "5  University of California, Berkeley   \n",
       "6              University High School   \n",
       "\n",
       "                                                   1                    2  \n",
       "0                                     primary school  American University  \n",
       "1                                Stanford University                 None  \n",
       "2  University of California, Hastings College of ...                 None  \n",
       "3              Northwestern University School of Law                 None  \n",
       "4                                               None                 None  \n",
       "5                             Santa Clara University                 None  \n",
       "6                              University of Arizona                 None  "
      ]
     },
     "execution_count": 36,
     "metadata": {},
     "output_type": "execute_result"
    }
   ],
   "source": [
    "education_df"
   ]
  },
  {
   "cell_type": "code",
   "execution_count": 39,
   "metadata": {},
   "outputs": [
    {
     "data": {
      "text/html": [
       "<div>\n",
       "<style scoped>\n",
       "    .dataframe tbody tr th:only-of-type {\n",
       "        vertical-align: middle;\n",
       "    }\n",
       "\n",
       "    .dataframe tbody tr th {\n",
       "        vertical-align: top;\n",
       "    }\n",
       "\n",
       "    .dataframe thead th {\n",
       "        text-align: right;\n",
       "    }\n",
       "</style>\n",
       "<table border=\"1\" class=\"dataframe\">\n",
       "  <thead>\n",
       "    <tr style=\"text-align: right;\">\n",
       "      <th></th>\n",
       "      <th>Education1</th>\n",
       "      <th>Education2</th>\n",
       "      <th>Education3</th>\n",
       "      <th>Senator</th>\n",
       "    </tr>\n",
       "  </thead>\n",
       "  <tbody>\n",
       "    <tr>\n",
       "      <th>0</th>\n",
       "      <td>Chapman University</td>\n",
       "      <td>primary school</td>\n",
       "      <td>American University</td>\n",
       "      <td>Loretta Sanchez</td>\n",
       "    </tr>\n",
       "    <tr>\n",
       "      <th>1</th>\n",
       "      <td>Harvard University</td>\n",
       "      <td>Stanford University</td>\n",
       "      <td>None</td>\n",
       "      <td>Ron Unz</td>\n",
       "    </tr>\n",
       "    <tr>\n",
       "      <th>2</th>\n",
       "      <td>Howard University</td>\n",
       "      <td>University of California, Hastings College of ...</td>\n",
       "      <td>None</td>\n",
       "      <td>Kamala Harris</td>\n",
       "    </tr>\n",
       "    <tr>\n",
       "      <th>3</th>\n",
       "      <td>Stanford University</td>\n",
       "      <td>Northwestern University School of Law</td>\n",
       "      <td>None</td>\n",
       "      <td>Duf Sundheim</td>\n",
       "    </tr>\n",
       "    <tr>\n",
       "      <th>4</th>\n",
       "      <td>University of California, Davis</td>\n",
       "      <td>None</td>\n",
       "      <td>None</td>\n",
       "      <td>Phil Wyman</td>\n",
       "    </tr>\n",
       "    <tr>\n",
       "      <th>5</th>\n",
       "      <td>University of California, Berkeley</td>\n",
       "      <td>Santa Clara University</td>\n",
       "      <td>None</td>\n",
       "      <td>Tom Del Beccaro</td>\n",
       "    </tr>\n",
       "    <tr>\n",
       "      <th>6</th>\n",
       "      <td>University High School</td>\n",
       "      <td>University of Arizona</td>\n",
       "      <td>None</td>\n",
       "      <td>Mark Matthew Herd</td>\n",
       "    </tr>\n",
       "  </tbody>\n",
       "</table>\n",
       "</div>"
      ],
      "text/plain": [
       "                           Education1  \\\n",
       "0                  Chapman University   \n",
       "1                  Harvard University   \n",
       "2                   Howard University   \n",
       "3                 Stanford University   \n",
       "4     University of California, Davis   \n",
       "5  University of California, Berkeley   \n",
       "6              University High School   \n",
       "\n",
       "                                          Education2           Education3  \\\n",
       "0                                     primary school  American University   \n",
       "1                                Stanford University                 None   \n",
       "2  University of California, Hastings College of ...                 None   \n",
       "3              Northwestern University School of Law                 None   \n",
       "4                                               None                 None   \n",
       "5                             Santa Clara University                 None   \n",
       "6                              University of Arizona                 None   \n",
       "\n",
       "             Senator  \n",
       "0    Loretta Sanchez  \n",
       "1            Ron Unz  \n",
       "2      Kamala Harris  \n",
       "3       Duf Sundheim  \n",
       "4         Phil Wyman  \n",
       "5    Tom Del Beccaro  \n",
       "6  Mark Matthew Herd  "
      ]
     },
     "execution_count": 39,
     "metadata": {},
     "output_type": "execute_result"
    }
   ],
   "source": [
    "education_df['Senator'] = names\n",
    "education_df.columns = ['Education1', 'Education2', 'Education3', 'Senator']\n",
    "education_df"
   ]
  },
  {
   "cell_type": "code",
   "execution_count": null,
   "metadata": {},
   "outputs": [],
   "source": []
  }
 ],
 "metadata": {
  "kernelspec": {
   "display_name": "Python 3",
   "language": "python",
   "name": "python3"
  },
  "language_info": {
   "codemirror_mode": {
    "name": "ipython",
    "version": 3
   },
   "file_extension": ".py",
   "mimetype": "text/x-python",
   "name": "python",
   "nbconvert_exporter": "python",
   "pygments_lexer": "ipython3",
   "version": "3.6.4"
  }
 },
 "nbformat": 4,
 "nbformat_minor": 2
}
