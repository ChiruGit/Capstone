{
 "cells": [
  {
   "cell_type": "code",
   "execution_count": 16,
   "metadata": {},
   "outputs": [],
   "source": [
    "from linkedin import linkedin\n",
    "\n",
    "API_KEY = '86wt0nv1zlfxrc'\n",
    "API_SECRET = '5RwBpA5CqeQJBxPC'\n",
    "RETURN_URL = 'http://localhost:8000'"
   ]
  },
  {
   "cell_type": "code",
   "execution_count": 17,
   "metadata": {},
   "outputs": [],
   "source": [
    "PERMISSIONS = ['r_basicprofile'] \n",
    "authentication = linkedin.LinkedInAuthentication(API_KEY, API_SECRET, RETURN_URL, PERMISSIONS)"
   ]
  },
  {
   "cell_type": "code",
   "execution_count": 18,
   "metadata": {},
   "outputs": [
    {
     "name": "stdout",
     "output_type": "stream",
     "text": [
      "https://www.linkedin.com/uas/oauth2/authorization?response_type=code&client_id=86wt0nv1zlfxrc&scope=r_basicprofile&state=6bf420b779e5a24dae86af690dc42e7e&redirect_uri=http%3A//localhost%3A8000\n"
     ]
    }
   ],
   "source": [
    "print(authentication.authorization_url)  # open this url on your browser\n",
    "application = linkedin.LinkedInApplication(authentication)"
   ]
  },
  {
   "cell_type": "code",
   "execution_count": 19,
   "metadata": {},
   "outputs": [
    {
     "data": {
      "text/plain": [
       "AccessToken(access_token='AQXmYfHPD6TnkU7EQPwi3k6z9lkJ2DLOjQxieF-8zzzZNleBcPY-4jqdcEKt1CZ2bwpyYYPQhTNFWs9bMq4yMZalZQl4o0ges3_uxGiVyhS_hRd8h1tfDZED2wPe2Y-jeqrS4W66wVjwMsbteMtToiebmZTRHVaiNV8zE0kW_cTs-WtQo3mugbT_QtkCmB1u0GFQbxWK6YQDbuUEUeClBOBnVbiGQq9E57OZ7a2ohWDnJRU6JyL6H95szgF143uLsfDdmWXNmOpsYREVZ8Hw9mM4o0rlZGiKZ8pontLYdMw89d3PPOGOXyU1B3d1XQvEjWvLxUcX7gYJEOWbB7yE5ixD0UFLAQ', expires_in=5183999)"
      ]
     },
     "execution_count": 19,
     "metadata": {},
     "output_type": "execute_result"
    }
   ],
   "source": [
    "authentication.authorization_code='AQRoVNNbP7eSvID8JyEj5HE-hxXZwUEdWcyB3eQCf8bag6kOy5sMLfQR-4TBCiAZcorm5ptz5GdSKj1UcnyPKJvACsc_a5-ie-fe_zDzu8_5LcaZXo7Fg9Qmh4hWjvbUHkrTPKoRzw4dEwyTD2B5rhm7EY5yoA'\n",
    "authentication.get_access_token()"
   ]
  },
  {
   "cell_type": "code",
   "execution_count": 20,
   "metadata": {},
   "outputs": [],
   "source": [
    "application = linkedin.LinkedInApplication(token='AQXmYfHPD6TnkU7EQPwi3k6z9lkJ2DLOjQxieF-8zzzZNleBcPY-4jqdcEKt1CZ2bwpyYYPQhTNFWs9bMq4yMZalZQl4o0ges3_uxGiVyhS_hRd8h1tfDZED2wPe2Y-jeqrS4W66wVjwMsbteMtToiebmZTRHVaiNV8zE0kW_cTs-WtQo3mugbT_QtkCmB1u0GFQbxWK6YQDbuUEUeClBOBnVbiGQq9E57OZ7a2ohWDnJRU6JyL6H95szgF143uLsfDdmWXNmOpsYREVZ8Hw9mM4o0rlZGiKZ8pontLYdMw89d3PPOGOXyU1B3d1XQvEjWvLxUcX7gYJEOWbB7yE5ixD0UFLAQ')"
   ]
  },
  {
   "cell_type": "code",
   "execution_count": 21,
   "metadata": {},
   "outputs": [
    {
     "data": {
      "text/plain": [
       "{'firstName': 'Chiranjeevi',\n",
       " 'headline': '# Business Intelligence <> Advanced Statistics @ Data Science',\n",
       " 'id': 'X3OTvaJxyZ',\n",
       " 'lastName': 'Mallavarapu',\n",
       " 'siteStandardProfileRequest': {'url': 'https://www.linkedin.com/profile/view?id=AAoAAAB5cLEBYHnfqMYfEFWhRaNf2srMCdE5GsE&authType=name&authToken=ACCo&trk=api*a5611176*s5804536*'}}"
      ]
     },
     "execution_count": 21,
     "metadata": {},
     "output_type": "execute_result"
    }
   ],
   "source": [
    "application.get_profile()"
   ]
  },
  {
   "cell_type": "code",
   "execution_count": 26,
   "metadata": {},
   "outputs": [
    {
     "ename": "LinkedInForbiddenError",
     "evalue": "403 Client Error: Forbidden for url: https://api.linkedin.com/v1/companies/1035/updates?count=2&oauth2_access_token=AQXmYfHPD6TnkU7EQPwi3k6z9lkJ2DLOjQxieF-8zzzZNleBcPY-4jqdcEKt1CZ2bwpyYYPQhTNFWs9bMq4yMZalZQl4o0ges3_uxGiVyhS_hRd8h1tfDZED2wPe2Y-jeqrS4W66wVjwMsbteMtToiebmZTRHVaiNV8zE0kW_cTs-WtQo3mugbT_QtkCmB1u0GFQbxWK6YQDbuUEUeClBOBnVbiGQq9E57OZ7a2ohWDnJRU6JyL6H95szgF143uLsfDdmWXNmOpsYREVZ8Hw9mM4o0rlZGiKZ8pontLYdMw89d3PPOGOXyU1B3d1XQvEjWvLxUcX7gYJEOWbB7yE5ixD0UFLAQ: Member does not have permission to get company.",
     "output_type": "error",
     "traceback": [
      "\u001b[0;31m---------------------------------------------------------------------------\u001b[0m",
      "\u001b[0;31mHTTPError\u001b[0m                                 Traceback (most recent call last)",
      "\u001b[0;32m/anaconda3/lib/python3.6/site-packages/linkedin/utils.py\u001b[0m in \u001b[0;36mraise_for_error\u001b[0;34m(response)\u001b[0m\n\u001b[1;32m     56\u001b[0m     \u001b[0;32mtry\u001b[0m\u001b[0;34m:\u001b[0m\u001b[0;34m\u001b[0m\u001b[0m\n\u001b[0;32m---> 57\u001b[0;31m         \u001b[0mresponse\u001b[0m\u001b[0;34m.\u001b[0m\u001b[0mraise_for_status\u001b[0m\u001b[0;34m(\u001b[0m\u001b[0;34m)\u001b[0m\u001b[0;34m\u001b[0m\u001b[0m\n\u001b[0m\u001b[1;32m     58\u001b[0m     \u001b[0;32mexcept\u001b[0m \u001b[0;34m(\u001b[0m\u001b[0mrequests\u001b[0m\u001b[0;34m.\u001b[0m\u001b[0mHTTPError\u001b[0m\u001b[0;34m,\u001b[0m \u001b[0mrequests\u001b[0m\u001b[0;34m.\u001b[0m\u001b[0mConnectionError\u001b[0m\u001b[0;34m)\u001b[0m \u001b[0;32mas\u001b[0m \u001b[0merror\u001b[0m\u001b[0;34m:\u001b[0m\u001b[0;34m\u001b[0m\u001b[0m\n",
      "\u001b[0;32m/anaconda3/lib/python3.6/site-packages/requests/models.py\u001b[0m in \u001b[0;36mraise_for_status\u001b[0;34m(self)\u001b[0m\n\u001b[1;32m    938\u001b[0m         \u001b[0;32mif\u001b[0m \u001b[0mhttp_error_msg\u001b[0m\u001b[0;34m:\u001b[0m\u001b[0;34m\u001b[0m\u001b[0m\n\u001b[0;32m--> 939\u001b[0;31m             \u001b[0;32mraise\u001b[0m \u001b[0mHTTPError\u001b[0m\u001b[0;34m(\u001b[0m\u001b[0mhttp_error_msg\u001b[0m\u001b[0;34m,\u001b[0m \u001b[0mresponse\u001b[0m\u001b[0;34m=\u001b[0m\u001b[0mself\u001b[0m\u001b[0;34m)\u001b[0m\u001b[0;34m\u001b[0m\u001b[0m\n\u001b[0m\u001b[1;32m    940\u001b[0m \u001b[0;34m\u001b[0m\u001b[0m\n",
      "\u001b[0;31mHTTPError\u001b[0m: 403 Client Error: Forbidden for url: https://api.linkedin.com/v1/companies/1035/updates?count=2&oauth2_access_token=AQXmYfHPD6TnkU7EQPwi3k6z9lkJ2DLOjQxieF-8zzzZNleBcPY-4jqdcEKt1CZ2bwpyYYPQhTNFWs9bMq4yMZalZQl4o0ges3_uxGiVyhS_hRd8h1tfDZED2wPe2Y-jeqrS4W66wVjwMsbteMtToiebmZTRHVaiNV8zE0kW_cTs-WtQo3mugbT_QtkCmB1u0GFQbxWK6YQDbuUEUeClBOBnVbiGQq9E57OZ7a2ohWDnJRU6JyL6H95szgF143uLsfDdmWXNmOpsYREVZ8Hw9mM4o0rlZGiKZ8pontLYdMw89d3PPOGOXyU1B3d1XQvEjWvLxUcX7gYJEOWbB7yE5ixD0UFLAQ",
      "\nDuring handling of the above exception, another exception occurred:\n",
      "\u001b[0;31mLinkedInForbiddenError\u001b[0m                    Traceback (most recent call last)",
      "\u001b[0;32m<ipython-input-26-957c961a3b90>\u001b[0m in \u001b[0;36m<module>\u001b[0;34m()\u001b[0m\n\u001b[0;32m----> 1\u001b[0;31m \u001b[0mapplication\u001b[0m\u001b[0;34m.\u001b[0m\u001b[0mget_company_updates\u001b[0m\u001b[0;34m(\u001b[0m\u001b[0;36m1035\u001b[0m\u001b[0;34m,\u001b[0m \u001b[0mparams\u001b[0m\u001b[0;34m=\u001b[0m\u001b[0;34m{\u001b[0m\u001b[0;34m'count'\u001b[0m\u001b[0;34m:\u001b[0m \u001b[0;36m2\u001b[0m\u001b[0;34m}\u001b[0m\u001b[0;34m)\u001b[0m\u001b[0;34m\u001b[0m\u001b[0m\n\u001b[0m",
      "\u001b[0;32m/anaconda3/lib/python3.6/site-packages/linkedin/linkedin.py\u001b[0m in \u001b[0;36mget_company_updates\u001b[0;34m(self, company_id, params, headers)\u001b[0m\n\u001b[1;32m    361\u001b[0m         \u001b[0murl\u001b[0m \u001b[0;34m=\u001b[0m \u001b[0;34m'%s/%s/updates'\u001b[0m \u001b[0;34m%\u001b[0m \u001b[0;34m(\u001b[0m\u001b[0mENDPOINTS\u001b[0m\u001b[0;34m.\u001b[0m\u001b[0mCOMPANIES\u001b[0m\u001b[0;34m,\u001b[0m \u001b[0mstr\u001b[0m\u001b[0;34m(\u001b[0m\u001b[0mcompany_id\u001b[0m\u001b[0;34m)\u001b[0m\u001b[0;34m)\u001b[0m\u001b[0;34m\u001b[0m\u001b[0m\n\u001b[1;32m    362\u001b[0m         \u001b[0mresponse\u001b[0m \u001b[0;34m=\u001b[0m \u001b[0mself\u001b[0m\u001b[0;34m.\u001b[0m\u001b[0mmake_request\u001b[0m\u001b[0;34m(\u001b[0m\u001b[0;34m'GET'\u001b[0m\u001b[0;34m,\u001b[0m \u001b[0murl\u001b[0m\u001b[0;34m,\u001b[0m \u001b[0mparams\u001b[0m\u001b[0;34m=\u001b[0m\u001b[0mparams\u001b[0m\u001b[0;34m,\u001b[0m \u001b[0mheaders\u001b[0m\u001b[0;34m=\u001b[0m\u001b[0mheaders\u001b[0m\u001b[0;34m)\u001b[0m\u001b[0;34m\u001b[0m\u001b[0m\n\u001b[0;32m--> 363\u001b[0;31m         \u001b[0mraise_for_error\u001b[0m\u001b[0;34m(\u001b[0m\u001b[0mresponse\u001b[0m\u001b[0;34m)\u001b[0m\u001b[0;34m\u001b[0m\u001b[0m\n\u001b[0m\u001b[1;32m    364\u001b[0m         \u001b[0;32mreturn\u001b[0m \u001b[0mresponse\u001b[0m\u001b[0;34m.\u001b[0m\u001b[0mjson\u001b[0m\u001b[0;34m(\u001b[0m\u001b[0;34m)\u001b[0m\u001b[0;34m\u001b[0m\u001b[0m\n\u001b[1;32m    365\u001b[0m \u001b[0;34m\u001b[0m\u001b[0m\n",
      "\u001b[0;32m/anaconda3/lib/python3.6/site-packages/linkedin/utils.py\u001b[0m in \u001b[0;36mraise_for_error\u001b[0;34m(response)\u001b[0m\n\u001b[1;32m     68\u001b[0m                 \u001b[0merror_code\u001b[0m \u001b[0;34m=\u001b[0m \u001b[0mresponse\u001b[0m\u001b[0;34m.\u001b[0m\u001b[0mget\u001b[0m\u001b[0;34m(\u001b[0m\u001b[0;34m'status'\u001b[0m\u001b[0;34m)\u001b[0m\u001b[0;34m\u001b[0m\u001b[0m\n\u001b[1;32m     69\u001b[0m                 \u001b[0mex\u001b[0m \u001b[0;34m=\u001b[0m \u001b[0mget_exception_for_error_code\u001b[0m\u001b[0;34m(\u001b[0m\u001b[0merror_code\u001b[0m\u001b[0;34m)\u001b[0m\u001b[0;34m\u001b[0m\u001b[0m\n\u001b[0;32m---> 70\u001b[0;31m                 \u001b[0;32mraise\u001b[0m \u001b[0mex\u001b[0m\u001b[0;34m(\u001b[0m\u001b[0mmessage\u001b[0m\u001b[0;34m)\u001b[0m\u001b[0;34m\u001b[0m\u001b[0m\n\u001b[0m\u001b[1;32m     71\u001b[0m             \u001b[0;32melse\u001b[0m\u001b[0;34m:\u001b[0m\u001b[0;34m\u001b[0m\u001b[0m\n\u001b[1;32m     72\u001b[0m                 \u001b[0;32mraise\u001b[0m \u001b[0mLinkedInError\u001b[0m\u001b[0;34m(\u001b[0m\u001b[0merror\u001b[0m\u001b[0;34m.\u001b[0m\u001b[0mmessage\u001b[0m\u001b[0;34m)\u001b[0m\u001b[0;34m\u001b[0m\u001b[0m\n",
      "\u001b[0;31mLinkedInForbiddenError\u001b[0m: 403 Client Error: Forbidden for url: https://api.linkedin.com/v1/companies/1035/updates?count=2&oauth2_access_token=AQXmYfHPD6TnkU7EQPwi3k6z9lkJ2DLOjQxieF-8zzzZNleBcPY-4jqdcEKt1CZ2bwpyYYPQhTNFWs9bMq4yMZalZQl4o0ges3_uxGiVyhS_hRd8h1tfDZED2wPe2Y-jeqrS4W66wVjwMsbteMtToiebmZTRHVaiNV8zE0kW_cTs-WtQo3mugbT_QtkCmB1u0GFQbxWK6YQDbuUEUeClBOBnVbiGQq9E57OZ7a2ohWDnJRU6JyL6H95szgF143uLsfDdmWXNmOpsYREVZ8Hw9mM4o0rlZGiKZ8pontLYdMw89d3PPOGOXyU1B3d1XQvEjWvLxUcX7gYJEOWbB7yE5ixD0UFLAQ: Member does not have permission to get company."
     ]
    }
   ],
   "source": [
    "application.get_company_updates(1035, params={'count': 2})"
   ]
  },
  {
   "cell_type": "code",
   "execution_count": 29,
   "metadata": {},
   "outputs": [
    {
     "ename": "HTTPError",
     "evalue": "HTTP Error 404: Not Found",
     "output_type": "error",
     "traceback": [
      "\u001b[0;31m---------------------------------------------------------------------------\u001b[0m",
      "\u001b[0;31mHTTPError\u001b[0m                                 Traceback (most recent call last)",
      "\u001b[0;32m<ipython-input-29-f77cc7f0a876>\u001b[0m in \u001b[0;36m<module>\u001b[0;34m()\u001b[0m\n\u001b[1;32m      1\u001b[0m \u001b[0;32mimport\u001b[0m \u001b[0mpandas\u001b[0m \u001b[0;32mas\u001b[0m \u001b[0mpd\u001b[0m\u001b[0;34m\u001b[0m\u001b[0m\n\u001b[1;32m      2\u001b[0m \u001b[0;34m\u001b[0m\u001b[0m\n\u001b[0;32m----> 3\u001b[0;31m \u001b[0mtables\u001b[0m \u001b[0;34m=\u001b[0m \u001b[0mpd\u001b[0m\u001b[0;34m.\u001b[0m\u001b[0mread_html\u001b[0m\u001b[0;34m(\u001b[0m\u001b[0;34m\"https://www.facebook.com/chiru.vizag.111\"\u001b[0m\u001b[0;34m)\u001b[0m\u001b[0;34m\u001b[0m\u001b[0m\n\u001b[0m\u001b[1;32m      4\u001b[0m \u001b[0;34m\u001b[0m\u001b[0m\n\u001b[1;32m      5\u001b[0m \u001b[0mprint\u001b[0m\u001b[0;34m(\u001b[0m\u001b[0mtables\u001b[0m\u001b[0;34m[\u001b[0m\u001b[0;36m0\u001b[0m\u001b[0;34m]\u001b[0m\u001b[0;34m)\u001b[0m\u001b[0;34m\u001b[0m\u001b[0m\n",
      "\u001b[0;32m/anaconda3/lib/python3.6/site-packages/pandas/io/html.py\u001b[0m in \u001b[0;36mread_html\u001b[0;34m(io, match, flavor, header, index_col, skiprows, attrs, parse_dates, tupleize_cols, thousands, encoding, decimal, converters, na_values, keep_default_na)\u001b[0m\n\u001b[1;32m    913\u001b[0m                   \u001b[0mthousands\u001b[0m\u001b[0;34m=\u001b[0m\u001b[0mthousands\u001b[0m\u001b[0;34m,\u001b[0m \u001b[0mattrs\u001b[0m\u001b[0;34m=\u001b[0m\u001b[0mattrs\u001b[0m\u001b[0;34m,\u001b[0m \u001b[0mencoding\u001b[0m\u001b[0;34m=\u001b[0m\u001b[0mencoding\u001b[0m\u001b[0;34m,\u001b[0m\u001b[0;34m\u001b[0m\u001b[0m\n\u001b[1;32m    914\u001b[0m                   \u001b[0mdecimal\u001b[0m\u001b[0;34m=\u001b[0m\u001b[0mdecimal\u001b[0m\u001b[0;34m,\u001b[0m \u001b[0mconverters\u001b[0m\u001b[0;34m=\u001b[0m\u001b[0mconverters\u001b[0m\u001b[0;34m,\u001b[0m \u001b[0mna_values\u001b[0m\u001b[0;34m=\u001b[0m\u001b[0mna_values\u001b[0m\u001b[0;34m,\u001b[0m\u001b[0;34m\u001b[0m\u001b[0m\n\u001b[0;32m--> 915\u001b[0;31m                   keep_default_na=keep_default_na)\n\u001b[0m",
      "\u001b[0;32m/anaconda3/lib/python3.6/site-packages/pandas/io/html.py\u001b[0m in \u001b[0;36m_parse\u001b[0;34m(flavor, io, match, attrs, encoding, **kwargs)\u001b[0m\n\u001b[1;32m    747\u001b[0m             \u001b[0;32mbreak\u001b[0m\u001b[0;34m\u001b[0m\u001b[0m\n\u001b[1;32m    748\u001b[0m     \u001b[0;32melse\u001b[0m\u001b[0;34m:\u001b[0m\u001b[0;34m\u001b[0m\u001b[0m\n\u001b[0;32m--> 749\u001b[0;31m         \u001b[0mraise_with_traceback\u001b[0m\u001b[0;34m(\u001b[0m\u001b[0mretained\u001b[0m\u001b[0;34m)\u001b[0m\u001b[0;34m\u001b[0m\u001b[0m\n\u001b[0m\u001b[1;32m    750\u001b[0m \u001b[0;34m\u001b[0m\u001b[0m\n\u001b[1;32m    751\u001b[0m     \u001b[0mret\u001b[0m \u001b[0;34m=\u001b[0m \u001b[0;34m[\u001b[0m\u001b[0;34m]\u001b[0m\u001b[0;34m\u001b[0m\u001b[0m\n",
      "\u001b[0;32m/anaconda3/lib/python3.6/site-packages/pandas/compat/__init__.py\u001b[0m in \u001b[0;36mraise_with_traceback\u001b[0;34m(exc, traceback)\u001b[0m\n\u001b[1;32m    383\u001b[0m         \u001b[0;32mif\u001b[0m \u001b[0mtraceback\u001b[0m \u001b[0;34m==\u001b[0m \u001b[0mEllipsis\u001b[0m\u001b[0;34m:\u001b[0m\u001b[0;34m\u001b[0m\u001b[0m\n\u001b[1;32m    384\u001b[0m             \u001b[0m_\u001b[0m\u001b[0;34m,\u001b[0m \u001b[0m_\u001b[0m\u001b[0;34m,\u001b[0m \u001b[0mtraceback\u001b[0m \u001b[0;34m=\u001b[0m \u001b[0msys\u001b[0m\u001b[0;34m.\u001b[0m\u001b[0mexc_info\u001b[0m\u001b[0;34m(\u001b[0m\u001b[0;34m)\u001b[0m\u001b[0;34m\u001b[0m\u001b[0m\n\u001b[0;32m--> 385\u001b[0;31m         \u001b[0;32mraise\u001b[0m \u001b[0mexc\u001b[0m\u001b[0;34m.\u001b[0m\u001b[0mwith_traceback\u001b[0m\u001b[0;34m(\u001b[0m\u001b[0mtraceback\u001b[0m\u001b[0;34m)\u001b[0m\u001b[0;34m\u001b[0m\u001b[0m\n\u001b[0m\u001b[1;32m    386\u001b[0m \u001b[0;32melse\u001b[0m\u001b[0;34m:\u001b[0m\u001b[0;34m\u001b[0m\u001b[0m\n\u001b[1;32m    387\u001b[0m     \u001b[0;31m# this version of raise is a syntax error in Python 3\u001b[0m\u001b[0;34m\u001b[0m\u001b[0;34m\u001b[0m\u001b[0m\n",
      "\u001b[0;31mHTTPError\u001b[0m: HTTP Error 404: Not Found"
     ]
    }
   ],
   "source": [
    "import pandas as pd\n",
    "\n",
    "tables = pd.read_html(\"https://www.facebook.com/chiru.vizag.111\")\n",
    "\n",
    "print(tables[0])"
   ]
  },
  {
   "cell_type": "code",
   "execution_count": 36,
   "metadata": {},
   "outputs": [],
   "source": [
    "import requests"
   ]
  },
  {
   "cell_type": "code",
   "execution_count": 37,
   "metadata": {},
   "outputs": [],
   "source": [
    "token= \"EAACEdEose0cBAPE810YH8phFQpq49CfMDnULEzSVosejBgXSYzcHvZAD394alU3lnTYSAGlFE5xbJJPELUgBGu2F6Oijk2MzT7SLrnorc7ZAcMHZBZBYDYBQGdrsb6s0nZCebawUlPbRr4LrNwSP1ccApu0vVEZAZCIQSVWdRVll4Kne0nHszxGIeMsQt3x2j4ubwY3FbLWfwZDZD\""
   ]
  },
  {
   "cell_type": "code",
   "execution_count": 38,
   "metadata": {},
   "outputs": [],
   "source": [
    "def req_facebook(req):\n",
    "    r = requests.get(\"https://graph.facebook.com/v3.0/\"+req,{'access_token': token})\n",
    "    return r"
   ]
  },
  {
   "cell_type": "code",
   "execution_count": 43,
   "metadata": {},
   "outputs": [],
   "source": [
    "r=req_facebook(\"DonaldTrump?fields=posts.limit(5)\")"
   ]
  },
  {
   "cell_type": "code",
   "execution_count": 44,
   "metadata": {},
   "outputs": [
    {
     "data": {
      "text/plain": [
       "<Response [200]>"
      ]
     },
     "execution_count": 44,
     "metadata": {},
     "output_type": "execute_result"
    }
   ],
   "source": [
    "r"
   ]
  },
  {
   "cell_type": "code",
   "execution_count": 45,
   "metadata": {},
   "outputs": [
    {
     "data": {
      "text/plain": [
       "{'id': '153080620724',\n",
       " 'posts': {'data': [{'created_time': '2018-06-23T16:00:00+0000',\n",
       "    'id': '153080620724_10161168717395725',\n",
       "    'message': 'We will not rest until our border is SECURE, our citizens are SAFE, and we finally end the immigration crisis once and for all.',\n",
       "    'story': 'Donald J. Trump is with Kayleigh McEnany.'},\n",
       "   {'created_time': '2018-06-23T11:00:01+0000',\n",
       "    'id': '153080620724_10161168813635725',\n",
       "    'message': 'President Donald J. Trump’s schedule for Saturday, June 23rd:\\n· Travel to Las Vegas, NV\\n· Host a roundtable with supporters\\n· Remarks at the Nevada Republican Party Convention\\n· Roundtable discussion on tax reform\\n· Travel to Washington, DC'},\n",
       "   {'created_time': '2018-06-22T22:52:44+0000',\n",
       "    'id': '153080620724_10161167883530725',\n",
       "    'message': \"In just six months, more than 600 companies have given out bonuses or pay raises as a result of our HISTORIC tax cuts! We're just getting started!\"},\n",
       "   {'created_time': '2018-06-22T16:31:47+0000',\n",
       "    'id': '153080620724_10161166387880725',\n",
       "    'message': '\"The media does not want you to know this, and will not cover it...The real BIG STORY that affects everybody in America is...\" - Varney & Co.'},\n",
       "   {'created_time': '2018-06-22T15:03:00+0000',\n",
       "    'id': '153080620724_10161166222890725',\n",
       "    'message': 'We CANNOT allow our country to be overrun by illegal immigrants as the Democrats tell their phony stories of sadness and grief, hoping it will help them in the elections.'}],\n",
       "  'paging': {'cursors': {'after': 'Q2c4U1pXNTBYM0YxWlhKNVgzTjBiM0o1WDJsa0R5RXhOVE13T0RBMk1qQTNNalE2TFRJME9UUTFPVEl5T0RReU56ZAzVORGt4TXpVUERHRndhVjl6ZAEc5eWVWOXBaQThlTVRVek1EZA3dOakl3TnpJMFh6RXdNVFl4TVRZAMk1qSXlPRGt3TnpJMUR3UjBhVzFsQmxzdEQ2UUIZD',\n",
       "    'before': 'Q2c4U1pXNTBYM0YxWlhKNVgzTjBiM0o1WDJsa0R5RXhOVE13T0RBMk1qQTNNalE2TFRJME56RTROamt3T1RNMU56Y3dNamc1TlRRUERHRndhVjl6ZAEc5eWVWOXBaQThlTVRVek1EZA3dOakl3TnpJMFh6RXdNVFl4TVRZANE56RTNNemsxTnpJMUR3UjBhVzFsQmxzdWJvQUIZD'},\n",
       "   'next': 'https://graph.facebook.com/v3.0/153080620724/posts?access_token=EAACEdEose0cBAPE810YH8phFQpq49CfMDnULEzSVosejBgXSYzcHvZAD394alU3lnTYSAGlFE5xbJJPELUgBGu2F6Oijk2MzT7SLrnorc7ZAcMHZBZBYDYBQGdrsb6s0nZCebawUlPbRr4LrNwSP1ccApu0vVEZAZCIQSVWdRVll4Kne0nHszxGIeMsQt3x2j4ubwY3FbLWfwZDZD&limit=5&after=Q2c4U1pXNTBYM0YxWlhKNVgzTjBiM0o1WDJsa0R5RXhOVE13T0RBMk1qQTNNalE2TFRJME9UUTFPVEl5T0RReU56ZAzVORGt4TXpVUERHRndhVjl6ZAEc5eWVWOXBaQThlTVRVek1EZA3dOakl3TnpJMFh6RXdNVFl4TVRZAMk1qSXlPRGt3TnpJMUR3UjBhVzFsQmxzdEQ2UUIZD'}}}"
      ]
     },
     "execution_count": 45,
     "metadata": {},
     "output_type": "execute_result"
    }
   ],
   "source": [
    "r.json()"
   ]
  },
  {
   "cell_type": "code",
   "execution_count": null,
   "metadata": {},
   "outputs": [],
   "source": []
  }
 ],
 "metadata": {
  "kernelspec": {
   "display_name": "Python 3",
   "language": "python",
   "name": "python3"
  },
  "language_info": {
   "codemirror_mode": {
    "name": "ipython",
    "version": 3
   },
   "file_extension": ".py",
   "mimetype": "text/x-python",
   "name": "python",
   "nbconvert_exporter": "python",
   "pygments_lexer": "ipython3",
   "version": "3.6.4"
  }
 },
 "nbformat": 4,
 "nbformat_minor": 2
}
