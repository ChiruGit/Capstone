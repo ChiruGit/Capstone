{
 "cells": [
  {
   "cell_type": "code",
   "execution_count": 14,
   "metadata": {},
   "outputs": [
    {
     "ename": "NameError",
     "evalue": "name 'eb549925388f4fbca31cd911fc8dcdc1' is not defined",
     "output_type": "error",
     "traceback": [
      "\u001b[0;31m---------------------------------------------------------------------------\u001b[0m",
      "\u001b[0;31mNameError\u001b[0m                                 Traceback (most recent call last)",
      "\u001b[0;32m<ipython-input-14-d9161afe4b74>\u001b[0m in \u001b[0;36m<module>\u001b[0;34m()\u001b[0m\n\u001b[0;32m----> 1\u001b[0;31m \u001b[0meb549925388f4fbca31cd911fc8dcdc1\u001b[0m\u001b[0;34m\u001b[0m\u001b[0m\n\u001b[0m",
      "\u001b[0;31mNameError\u001b[0m: name 'eb549925388f4fbca31cd911fc8dcdc1' is not defined"
     ]
    }
   ],
   "source": [
    "eb549925388f4fbca31cd911fc8dcdc1"
   ]
  },
  {
   "cell_type": "code",
   "execution_count": 34,
   "metadata": {},
   "outputs": [
    {
     "name": "stdout",
     "output_type": "stream",
     "text": [
      "{'status': 'ok', 'totalResults': 745, 'articles': [{'source': {'id': 'techcrunch', 'name': 'TechCrunch'}, 'author': 'Devin Coldewey', 'title': 'Senators file to force vote on disapproval of FCC’s new net neutrality rules', 'description': \"The Democratic push to restore net neutrality took another step today with the official filing of a petition, under the Congressional Review Act, to force a vote on whether to repeal the FCC's unpopular new rules. The effort may be doomed in the end, but it's…\", 'url': 'http://techcrunch.com/2018/05/09/senators-file-to-force-vote-on-disapproval-of-fccs-new-net-neutrality-rules/', 'urlToImage': 'https://techcrunch.com/wp-content/uploads/2017/05/net-neutrality-capitol.jpg?w=711', 'publishedAt': '2018-05-09T19:34:24Z'}, {'source': {'id': None, 'name': 'Gizmodo.com'}, 'author': 'Dell Cameron', 'title': 'Facebook is Under Investigation for Alleged Housing Discrimination (Again)', 'description': 'Citing new information that justifies further review, Housing and Urban Development Secretary Ben Carson has ordered an investigation into whether Facebook violated fair-housing laws reopened after a five-month freeze, an agency official told Gizmodo. Read mo…', 'url': 'https://gizmodo.com/hud-reopens-investigation-into-facebook-over-alleged-ho-1825371406', 'urlToImage': 'https://i.kinja-img.com/gawker-media/image/upload/s--1FUrv1hu--/c_fill,fl_progressive,g_center,h_900,q_80,w_1600/zzcgovkqmi0e41vkodqa.jpg', 'publishedAt': '2018-04-18T23:00:00Z'}, {'source': {'id': None, 'name': 'Gizmodo.com'}, 'author': 'Tom McKay', 'title': \"Senators Set Deadline For Ajit Pai's FCC to Open Up About Its DDoS Attack Claims\", 'description': 'On the same day that the repeal of net neutrality became official, two US senators demanded answers from the FCC over its dubious claims about being targeted by cyberattacks. Read more...', 'url': 'https://gizmodo.com/senators-set-deadline-for-ajit-pais-fcc-to-open-up-abou-1826745677', 'urlToImage': 'https://i.kinja-img.com/gawker-media/image/upload/s--4Hs5xA_3--/c_fill,fl_progressive,g_center,h_900,q_80,w_1600/yvszxdrjsuxbbf4m4wrn.jpg', 'publishedAt': '2018-06-12T01:05:00Z'}, {'source': {'id': None, 'name': 'Gizmodo.com'}, 'author': 'Rhett Jones', 'title': 'States Screwed Up Emergency Alerts So Much, the Senate Just Voted to Take Away Their Privileges', 'description': 'Following a series of embarrassing mishaps, the Senate has decided that local authorities can’t be trusted with the keys to the emergency alert system. On Tuesday, Senators unanimously agreed that federal oversight of the system would help prevent scaring the…', 'url': 'https://gizmodo.com/states-screwed-up-emergency-alerts-so-much-the-senate-1827167921', 'urlToImage': 'https://i.kinja-img.com/gawker-media/image/upload/s--loNa6jEb--/c_fill,fl_progressive,g_center,h_900,q_80,w_1600/k8zjmbvethwujbnvi4fm.jpg', 'publishedAt': '2018-06-27T14:35:00Z'}, {'source': {'id': None, 'name': 'Gizmodo.com'}, 'author': 'Dell Cameron', 'title': \"FCC Chairman Ignored Questions from U.S. Senators Over Bogus 'Cyberattack' Claims\", 'description': 'The FCC blew past a deadline to respond to questions brought by two U.S. senators over dubious “cyberattack” claims made by agency officials. Read more...', 'url': 'https://gizmodo.com/fcc-chairman-ignored-questions-from-u-s-senators-over-1827549547', 'urlToImage': 'https://i.kinja-img.com/gawker-media/image/upload/s--x8hB1w49--/c_fill,fl_progressive,g_center,h_900,q_80,w_1600/xrhuirqwfq1nxv4unleg.jpg', 'publishedAt': '2018-07-12T18:06:00Z'}, {'source': {'id': None, 'name': 'Gizmodo.com'}, 'author': 'Rhett Jones', 'title': 'The Senate’s Big Vote to Save Net Neutrality and Embarrass Republicans Is This Week', 'description': 'It’s taken months to pull together a vote to save net neutrality from the FCC guillotine, but the moment is finally upon us. Read more...', 'url': 'https://gizmodo.com/the-senate-s-big-vote-to-save-net-neutrality-and-embarr-1826007202', 'urlToImage': 'https://i.kinja-img.com/gawker-media/image/upload/s--RnoZYEpr--/c_fill,fl_progressive,g_center,h_900,q_80,w_1600/dphl4d5nmqgpsuyz7dxt.jpg', 'publishedAt': '2018-05-14T16:45:00Z'}, {'source': {'id': None, 'name': 'Gizmodo.com'}, 'author': 'Dell Cameron', 'title': 'Congress Might Actually Save Net Neutrality, If Republicans Can Learn How to Read Polls', 'description': 'Democrats on Wednesday officially filed a petition to force a vote in the Senate to save net neutrality. With a single Republican supporting the effort, only one vote is needed to advance a resolution that may one day soon reinstate the net neutrality rules o…', 'url': 'https://gizmodo.com/congress-might-actually-save-net-neutrality-if-republi-1825888662', 'urlToImage': 'https://i.kinja-img.com/gawker-media/image/upload/s--oshaLe_K--/c_fill,fl_progressive,g_center,h_900,q_80,w_1600/y2jkv3jpxahm6yf4nboy.jpg', 'publishedAt': '2018-05-09T16:47:00Z'}, {'source': {'id': None, 'name': 'Gizmodo.com'}, 'author': 'Dell Cameron', 'title': 'FCC Emails Show Agency Spread Lies to Bolster Dubious DDoS Attack Claims', 'description': 'As it wrestled with accusations about a fake cyberattack last spring, the Federal Communications Commission (FCC) purposely misled several news organizations, choosing to feed journalists false information, while at the same time discouraging them from challe…', 'url': 'https://gizmodo.com/fcc-emails-show-agency-spread-lies-to-bolster-dubious-d-1826535344', 'urlToImage': 'https://i.kinja-img.com/gawker-media/image/upload/s--ip3pGewo--/c_fill,fl_progressive,g_center,h_900,q_80,w_1600/b8r2uowuuppulkbmxyzz.jpg', 'publishedAt': '2018-06-05T14:30:00Z'}, {'source': {'id': 'the-new-york-times', 'name': 'The New York Times'}, 'author': 'KENNETH CHANG', 'title': 'Trump’s NASA Nominee, Jim Bridenstine, Confirmed by Senate on Party-Line Vote', 'description': 'The Oklahoma congressman’s nomination languished for more than seven months as senators raised objections to his record, and now additional concerns have been raised.', 'url': 'https://www.nytimes.com/2018/04/19/science/jim-bridenstine-nasa.html', 'urlToImage': 'https://static01.nyt.com/images/2018/04/20/science/20NASA/20NASA-facebookJumbo.jpg', 'publishedAt': '2018-04-19T18:49:40Z'}, {'source': {'id': 'ars-technica', 'name': 'Ars Technica'}, 'author': 'Jon Brodkin', 'title': 'Net neutrality will be repealed Monday unless Congress takes action', 'description': \"Senate voted to save net neutrality, but the House hasn't scheduled a vote.\", 'url': 'https://arstechnica.com/tech-policy/2018/06/net-neutrality-will-be-repealed-monday-unless-congress-takes-action/', 'urlToImage': 'https://cdn.arstechnica.net/wp-content/uploads/2018/06/getty-paul-ryan-760x380.jpg', 'publishedAt': '2018-06-07T18:40:35Z'}, {'source': {'id': 'ars-technica', 'name': 'Ars Technica'}, 'author': 'Cyrus Farivar', 'title': 'Facebook CEO puts on suit and a smile to try to seduce, assuage senators', 'description': 'Sen. Blumenthal (D-CT): “Your business model is to maximize profit over privacy.”', 'url': 'https://arstechnica.com/tech-policy/2018/04/facebook-ceo-puts-on-suit-and-a-smile-to-try-to-seduce-assuage-senators/', 'urlToImage': 'https://cdn.arstechnica.net/wp-content/uploads/2018/04/GettyImages-944425724-760x380.jpg', 'publishedAt': '2018-04-10T23:11:40Z'}, {'source': {'id': 'the-guardian-au', 'name': 'The Guardian (AU)'}, 'author': 'Lauren Gambino in New York', 'title': 'Pompeo and Haspel nominations set up contentious Senate hearings', 'description': 'Republicans say they intend to move quickly on the nominations, but resistance to the nominees is building among Democrats Continue reading...', 'url': 'https://www.theguardian.com/us-news/2018/mar/14/mike-pompeo-gina-haspel-nominations-senate-hearings', 'urlToImage': 'https://i.guim.co.uk/img/media/21c1f660d412931fbb0176436872101fecc58c05/0_99_3500_2100/master/3500.jpg?w=1200&h=630&q=55&auto=format&usm=12&fit=crop&crop=faces%2Centropy&bm=normal&ba=bottom%2Cleft&blend64=aHR0cHM6Ly91cGxvYWRzLmd1aW0uY28udWsvMjAxOC8wMS8zMS9mYWNlYm9va19kZWZhdWx0LnBuZw&s=54eba33c37b77421740930756884029c', 'publishedAt': '2018-03-14T12:22:48Z'}, {'source': {'id': None, 'name': 'Cnet.com'}, 'author': 'Marguerite Reardon', 'title': \"Senate votes on net neutrality's fate: Here's what you need to know - CNET\", 'description': \"Maneuvering on Capitol Hill. Protests on the web. This thing isn't over just yet.\", 'url': 'https://www.cnet.com/news/senate-votes-on-net-net-neutralitys-fate-heres-what-you-need-to-know/', 'urlToImage': 'https://cnet4.cbsistatic.com/img/ZfjXaH5igz5ZDCHudHE-jDEQVt8=/670x503/2017/03/23/af139876-a1a6-447c-9310-0d9ff8afa676/us-capitol-building.jpg', 'publishedAt': '2018-05-16T12:00:17Z'}, {'source': {'id': None, 'name': 'Slashdot.org'}, 'author': 'msmash', 'title': 'Net Neutrality Will Be Repealed Monday Unless Congress Takes Action', 'description': 'With net neutrality rules scheduled to be repealed on Monday, Senate Democrats are calling on House Speaker Paul Ryan to schedule a vote that could preserve the broadband regulations. From a report: The US Senate voted on May 16 to reverse the Federal Communi…', 'url': 'https://news.slashdot.org/story/18/06/07/1851214/net-neutrality-will-be-repealed-monday-unless-congress-takes-action', 'urlToImage': 'https://a.fsdn.com/sd/topics/business_64.png', 'publishedAt': '2018-06-07T18:52:00Z'}, {'source': {'id': 'business-insider', 'name': 'Business Insider'}, 'author': 'Joe Perticone', 'title': \"Congress is about to put Mark Zuckerberg through the ringer — but the open secret is lawmakers don't know what will come of it\", 'description': 'Facebook CEO Mark Zuckerberg is being brought in to testify before Congress this week. Lawmakers are uncertain that substantial regulations will make their way to the floor in the near future to assess privacy concerns. Republicans remain generally averse to …', 'url': 'http://www.businessinsider.com/senators-unsure-if-anything-comes-next-for-regulating-tech-companies-2018-4', 'urlToImage': 'https://amp.businessinsider.com/images/5acbe4114d0386d2658b4959-750-375.jpg', 'publishedAt': '2018-04-10T17:25:38Z'}, {'source': {'id': None, 'name': 'Entrepreneur.com'}, 'author': 'Hayden Field', 'title': \"The Biggest Revelations and Strangest Moments From Mark Zuckerberg's Congressional Testimony\", 'description': \"Here's what you need to know after the Facebook co-founder and CEO's visit to Washington.\", 'url': 'https://www.entrepreneur.com/article/311871', 'urlToImage': 'https://assets.entrepreneur.com/content/3x2/1300/20180411204428-GettyImages-944720768-crop.jpeg', 'publishedAt': '2018-04-11T20:50:00Z'}, {'source': {'id': 'the-washington-post', 'name': 'The Washington Post'}, 'author': None, 'title': \"'A very fast-moving situation': Lava shoots through Hawaii neighborhood as new fissures form - Washington Post\", 'description': \"Washington Post 'A very fast-moving situation': Lava shoots through Hawaii neighborhood as new fissures form Washington Post Less than a week ago, Leilani Estates was the picture of serenity on Hawaii's Big Island, a subdivision in the Big Island's eastern Pu…\", 'url': 'https://www.washingtonpost.com/news/post-nation/wp/2018/05/06/a-very-fast-moving-situation-lava-shoots-through-hawaii-neighborhood-as-new-fissures-form/', 'urlToImage': 'https://www.washingtonpost.com/resizer/RXiiN0jsLtjimkkn77xy9b4Hyuc=/1484x0/arc-anglerfish-washpost-prod-washpost.s3.amazonaws.com/public/LIB3445AQMZFNDBWTBVTM6FQ3Q.jpg', 'publishedAt': '2018-05-06T16:18:15Z'}, {'source': {'id': 'the-guardian-au', 'name': 'The Guardian (AU)'}, 'author': 'Sarah Meyerhoff', 'title': 'Mike Pompeo is a disaster for the planet. Why do Democrats back him? | Sarah Meyerhoff', 'description': 'Pompeo is extreme in his denial of climate change. We must pressure Democrats who have backed him to change course “Ignorant, dangerous, and absolutely unbelievable.” This is how Mike Pompeo, then the nominee for CIA director, described the idea that climate …', 'url': 'https://www.theguardian.com/commentisfree/2018/apr/13/mike-pompeo-disaster-climate-change-democrats', 'urlToImage': 'https://i.guim.co.uk/img/media/eb873f1633c8c79377c1c2984f189c4b1a44e332/0_117_3500_2100/master/3500.jpg?w=1200&h=630&q=55&auto=format&usm=12&fit=crop&crop=faces%2Centropy&bm=normal&ba=bottom%2Cleft&blend64=aHR0cHM6Ly91cGxvYWRzLmd1aW0uY28udWsvMjAxOC8wMS8zMS9mYWNlYm9va19vcGluaW9ucy5wbmc&s=a620c8820124d8e19c5dc1adcd5c910e', 'publishedAt': '2018-04-13T10:00:34Z'}, {'source': {'id': None, 'name': 'Boingboing.net'}, 'author': 'Mark Frauenfelder', 'title': 'Senate confirms a homophobic climate change denier with no scientific credentials to lead NASA', 'description': 'Homophobic climate change denier Rep. Jim Bridenstine (R-Okla.) \"has made a career out of ignoring scientific expertise\" says Sen. Brian Schatz (D-Hawaii). Naturally, Bridenstine was approved 50-49, along party lines, to be our next NASA administrator. From H…', 'url': 'https://boingboing.net/2018/04/20/senate-confirms-a-homophobic-c.html', 'urlToImage': 'https://media.boingboing.net/wp-content/uploads/2018/04/s55Wh5LPNu8yMB1PruI0ng_r.jpg', 'publishedAt': '2018-04-20T17:54:30Z'}, {'source': {'id': None, 'name': 'Boingboing.net'}, 'author': 'Mark Frauenfelder', 'title': 'The Onion wishes to speak to Michael Cohen about the angry email he sent them in 2013', 'description': 'In January 2013, The Onion ran a satire piece \"written\" by \"Donald Trump,\" titled, \" When You\\'re Feeling Low, Just Remember I\\'ll Be Dead In About 15 Or 20 Years.\" (Excerpt: \"In the not-very-distant future I will die and then be gone from the world for all ete…', 'url': 'https://boingboing.net/2018/05/22/the-onion-wishes-to-speak-to-m.html', 'urlToImage': 'https://media.boingboing.net/wp-content/uploads/2018/05/Untitled-1-1.jpg', 'publishedAt': '2018-05-22T16:38:05Z'}]}\n"
     ]
    }
   ],
   "source": [
    "import requests\n",
    "\n",
    "url = ('https://newsapi.org/v2/everything?'\n",
    "       'q=\"Brian Schatz\"&'\n",
    "       'from=2018-03-14&'\n",
    "       'sortBy=popularity&'\n",
    "       'apiKey=eb549925388f4fbca31cd911fc8dcdc1')\n",
    "\n",
    "response = requests.get(url)\n",
    "\n",
    "print(response.json())"
   ]
  },
  {
   "cell_type": "code",
   "execution_count": 18,
   "metadata": {},
   "outputs": [],
   "source": [
    "import json"
   ]
  },
  {
   "cell_type": "code",
   "execution_count": 19,
   "metadata": {},
   "outputs": [],
   "source": [
    "json_data = response.json"
   ]
  },
  {
   "cell_type": "code",
   "execution_count": 20,
   "metadata": {},
   "outputs": [
    {
     "name": "stdout",
     "output_type": "stream",
     "text": [
      "<bound method Response.json of <Response [200]>>\n"
     ]
    }
   ],
   "source": [
    "print(json_data)"
   ]
  },
  {
   "cell_type": "code",
   "execution_count": 21,
   "metadata": {},
   "outputs": [
    {
     "data": {
      "text/plain": [
       "requests.models.Response"
      ]
     },
     "execution_count": 21,
     "metadata": {},
     "output_type": "execute_result"
    }
   ],
   "source": [
    "type(response)"
   ]
  },
  {
   "cell_type": "code",
   "execution_count": 23,
   "metadata": {},
   "outputs": [
    {
     "name": "stdout",
     "output_type": "stream",
     "text": [
      "{'status': 'ok', 'totalResults': 10, 'articles': [{'source': {'id': 'bbc-news', 'name': 'BBC News'}, 'author': 'BBC News', 'title': 'Cuba sets out new constitutional reforms', 'description': \"The communist state's new constitution will limit presidential terms and recognise private property.\", 'url': 'http://www.bbc.co.uk/news/world-latin-america-44836358', 'urlToImage': 'https://ichef.bbci.co.uk/news/1024/branded_news/81DD/production/_101854233_mediaitem101854232.jpg', 'publishedAt': '2018-07-15T00:25:14Z'}, {'source': {'id': 'bbc-news', 'name': 'BBC News'}, 'author': 'BBC News', 'title': 'Trump to leave UK after two-night stay', 'description': 'The US president is expected to fly to Finland later, ahead of a meeting with Vladimir Putin.', 'url': 'http://www.bbc.co.uk/news/uk-scotland-44834689', 'urlToImage': 'https://ichef.bbci.co.uk/news/1024/branded_news/5502/production/_102526712_hi048146738.jpg', 'publishedAt': '2018-07-14T23:49:36Z'}, {'source': {'id': 'bbc-news', 'name': 'BBC News'}, 'author': 'BBC News', 'title': 'The woman who is allergic to water', 'description': 'Cherelle Farrugia, 25, breaks out in a painful rash every time she comes into contact with water.', 'url': 'http://www.bbc.co.uk/news/uk-wales-44823674', 'urlToImage': 'https://ichef.bbci.co.uk/news/1024/branded_news/CA95/production/_102516815_p06dnqfh.jpg', 'publishedAt': '2018-07-14T23:26:56Z'}, {'source': {'id': 'bbc-news', 'name': 'BBC News'}, 'author': 'BBC News', 'title': 'PM warns party not to put Brexit at risk', 'description': 'Theresa May, writing in the Mail on Sunday, urges the country to \"keep their eye on the prize\".', 'url': 'http://www.bbc.co.uk/news/uk-44836020', 'urlToImage': 'https://ichef.bbci.co.uk/news/1024/branded_news/8DD9/production/_102531363_mediaitem102531362.jpg', 'publishedAt': '2018-07-14T21:30:27Z'}, {'source': {'id': 'bbc-news', 'name': 'BBC News'}, 'author': 'BBC News', 'title': 'First video messages from rescued Thai boys', 'description': 'As well as updating people on their health and sending thanks, the boys had something else on their mind.', 'url': 'http://www.bbc.co.uk/news/world-asia-44835628', 'urlToImage': 'https://ichef.bbci.co.uk/news/1024/branded_news/AAB7/production/_102530734_p06drvv2.jpg', 'publishedAt': '2018-07-14T19:24:53Z'}, {'source': {'id': 'bbc-news', 'name': 'BBC News'}, 'author': 'BBC News', 'title': 'Heaviest Israel-Gaza fighting in years', 'description': 'Israel launches a wave of air strikes on Gaza amid a surge in rocket fire from the Palestinian territory.', 'url': 'http://www.bbc.co.uk/news/world-middle-east-44834480', 'urlToImage': 'https://ichef.bbci.co.uk/news/1024/branded_news/9923/production/_102530293_mediaitem102530285.jpg', 'publishedAt': '2018-07-14T17:26:28Z'}, {'source': {'id': 'bbc-news', 'name': 'BBC News'}, 'author': 'BBC News', 'title': 'Deadly Nicaragua student siege ends', 'description': 'At least one young man is killed in an attack on a church where dozens of students sought shelter.', 'url': 'http://www.bbc.co.uk/news/world-latin-america-44834188', 'urlToImage': 'https://ichef.bbci.co.uk/news/1024/branded_news/F804/production/_102529436_tv048139894.jpg', 'publishedAt': '2018-07-14T15:32:37Z'}, {'source': {'id': 'bbc-news', 'name': 'BBC News'}, 'author': 'BBC News', 'title': \"'Dozens hurt' as Ryanair flight loses pressure\", 'description': 'More than 30 passengers, some bleeding from their ears, were hospitalised, German police say.', 'url': 'http://www.bbc.co.uk/news/world-europe-44832235', 'urlToImage': 'https://ichef.bbci.co.uk/news/1024/branded_news/1372E/production/_102526697_mediaitem102526696.jpg', 'publishedAt': '2018-07-14T11:23:09Z'}, {'source': {'id': 'bbc-news', 'name': 'BBC News'}, 'author': 'BBC News', 'title': 'Eritrea leader in historic Ethiopia visit', 'description': \"The visit is expected to cement the two nations' historic truce after two decades of tension.\", 'url': 'http://www.bbc.co.uk/news/world-africa-44824676', 'urlToImage': 'https://ichef.bbci.co.uk/news/1024/branded_news/F713/production/_102515236_hi047928560.jpg', 'publishedAt': '2018-07-14T06:21:18Z'}, {'source': {'id': 'bbc-news', 'name': 'BBC News'}, 'author': 'BBC News', 'title': 'Trump at Turnberry as protests continue', 'description': 'The US president spends the weekend in Scotland as further protests against his visit take place.', 'url': 'http://www.bbc.co.uk/news/uk-scotland-scotland-politics-44829539', 'urlToImage': 'https://ichef.bbci.co.uk/news/1024/branded_news/106A0/production/_102523276_hi048137149.jpg', 'publishedAt': '2018-07-14T03:01:00Z'}]}\n"
     ]
    }
   ],
   "source": [
    "import requests\n",
    "url = ('https://newsapi.org/v2/top-headlines?'\n",
    "       'sources=bbc-news&'\n",
    "       'apiKey=eb549925388f4fbca31cd911fc8dcdc1')\n",
    "response = requests.get(url)\n",
    "print(response.json())"
   ]
  },
  {
   "cell_type": "code",
   "execution_count": null,
   "metadata": {},
   "outputs": [],
   "source": []
  }
 ],
 "metadata": {
  "kernelspec": {
   "display_name": "Python 3",
   "language": "python",
   "name": "python3"
  },
  "language_info": {
   "codemirror_mode": {
    "name": "ipython",
    "version": 3
   },
   "file_extension": ".py",
   "mimetype": "text/x-python",
   "name": "python",
   "nbconvert_exporter": "python",
   "pygments_lexer": "ipython3",
   "version": "3.6.4"
  }
 },
 "nbformat": 4,
 "nbformat_minor": 2
}
